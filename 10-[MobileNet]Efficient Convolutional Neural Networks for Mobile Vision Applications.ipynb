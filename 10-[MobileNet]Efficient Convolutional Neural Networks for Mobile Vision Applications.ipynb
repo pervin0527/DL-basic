{
 "cells": [
  {
   "cell_type": "markdown",
   "metadata": {},
   "source": [
    "# 10-[MobileNet]Efficient Convolutional Neural Networks for Mobile Vision Applications"
   ]
  },
  {
   "cell_type": "markdown",
   "metadata": {},
   "source": [
    "[1.Depth-Wise Convolution](#1)\n",
    "  - [1-1.Standard Convolution](#1-1)\n",
    "  - [1-2.Depthwise Convoluton](#1-2)\n",
    "\n",
    "[2.Point-Wise Convolution](#2)\n",
    "\n",
    "[3.Depth-Wise Separable Convolution](#3)\n",
    "\n",
    "[4.MobileNet](#4)\n",
    "\n",
    "[5.Training](#5)\n",
    " - [5-1.Hyper Parameters](#5-1)\n",
    " - [5-2.Load Dataset](#5-2)\n",
    " - [5-3.Train & Valid functions](#5-3)\n",
    " - [5-4.Training iteration](#5-4)\n",
    "\n",
    "[6.Conv MobileNet](#6)"
   ]
  },
  {
   "cell_type": "code",
   "execution_count": 1,
   "metadata": {},
   "outputs": [],
   "source": [
    "import os\n",
    "import cv2\n",
    "import torch\n",
    "import albumentations as A\n",
    "import matplotlib.pyplot as plt\n",
    "\n",
    "from torch import nn\n",
    "from tqdm import tqdm\n",
    "from torchsummary import summary\n",
    "from albumentations.pytorch import ToTensorV2\n",
    "from torch.optim.lr_scheduler import LambdaLR\n",
    "from torch.utils.data import Dataset, DataLoader\n",
    "from sklearn.model_selection import train_test_split"
   ]
  },
  {
   "cell_type": "markdown",
   "metadata": {},
   "source": [
    "<a id=\"1\"></a>\n",
    "## 1.Depth Wise Convoltion"
   ]
  },
  {
   "cell_type": "markdown",
   "metadata": {},
   "source": [
    "일반적인 Convolution은 입력된 이미지의 채널과 같은 크기의 채널로 구성된 필터를 적용한다.\n",
    "\n",
    "반면, Depthwise convolution은 입력 이미지의 채널마다 하나의 필터가 적용된다.\n",
    "\n",
    "따라서 더 작은 파라미터 수를 가지며, 입력의 height, width만 조절할 뿐, channel의 값은 변하지 않는다."
   ]
  },
  {
   "cell_type": "markdown",
   "metadata": {},
   "source": [
    "<a id=\"1-1\"></a>\n",
    "### 1-1.Standard Convolution"
   ]
  },
  {
   "cell_type": "code",
   "execution_count": 2,
   "metadata": {},
   "outputs": [
    {
     "name": "stdout",
     "output_type": "stream",
     "text": [
      "torch.Size([1, 64, 224, 224])\n"
     ]
    }
   ],
   "source": [
    "dummy_input = torch.randn(1, 3, 224, 224)\n",
    "\n",
    "standard_conv = nn.Conv2d(in_channels=3, out_channels=64, kernel_size=3, stride=1, padding=1)\n",
    "standard_output = standard_conv(dummy_input)\n",
    "print(standard_output.shape)"
   ]
  },
  {
   "cell_type": "code",
   "execution_count": 3,
   "metadata": {},
   "outputs": [
    {
     "name": "stdout",
     "output_type": "stream",
     "text": [
      "Output shape: torch.Size([1, 64, 224, 224])\n",
      "Number of parameters: 1792\n"
     ]
    }
   ],
   "source": [
    "num_params = sum(p.numel() for p in standard_conv.parameters()) ## 각 파라미터 텐서 p에 있는 원소의 총 개수\n",
    "\n",
    "print(f\"Output shape: {standard_output.shape}\")\n",
    "print(f\"Number of parameters: {num_params}\")"
   ]
  },
  {
   "cell_type": "code",
   "execution_count": 4,
   "metadata": {},
   "outputs": [
    {
     "name": "stdout",
     "output_type": "stream",
     "text": [
      "computation_complexity: 173408256\n"
     ]
    }
   ],
   "source": [
    "computation_complexity = (\n",
    "    2 * \n",
    "    standard_output.shape[1] * ## num filters\n",
    "    standard_output.shape[2] * ## height\n",
    "    standard_output.shape[3] * ## width\n",
    "    standard_conv.kernel_size[0] * ## filter size\n",
    "    standard_conv.kernel_size[1] * ## filter size\n",
    "    standard_conv.in_channels ## input channels\n",
    ")\n",
    "\n",
    "print(f\"computation_complexity: {computation_complexity}\")"
   ]
  },
  {
   "cell_type": "markdown",
   "metadata": {},
   "source": [
    "<a id=\"1-2\"></a>\n",
    "### 1-2.Depthwise Convolution"
   ]
  },
  {
   "cell_type": "code",
   "execution_count": 5,
   "metadata": {},
   "outputs": [
    {
     "name": "stdout",
     "output_type": "stream",
     "text": [
      "torch.Size([1, 3, 224, 224])\n"
     ]
    }
   ],
   "source": [
    "depth_wise_conv = nn.Conv2d(in_channels=3, out_channels=3, kernel_size=3, stride=1, padding=1, groups=3)\n",
    "depth_wise_output = depth_wise_conv(dummy_input)\n",
    "print(depth_wise_output.shape)"
   ]
  },
  {
   "cell_type": "code",
   "execution_count": 6,
   "metadata": {},
   "outputs": [
    {
     "name": "stdout",
     "output_type": "stream",
     "text": [
      "Output shape: torch.Size([1, 3, 224, 224])\n",
      "Number of parameters: 30\n"
     ]
    }
   ],
   "source": [
    "num_params = sum(p.numel() for p in depth_wise_conv.parameters()) ## 각 파라미터 텐서 p에 있는 원소의 총 개수\n",
    "\n",
    "print(f\"Output shape: {depth_wise_output.shape}\")\n",
    "print(f\"Number of parameters: {num_params}\")"
   ]
  },
  {
   "cell_type": "code",
   "execution_count": 7,
   "metadata": {},
   "outputs": [
    {
     "name": "stdout",
     "output_type": "stream",
     "text": [
      "Computation complexity: 1354752\n"
     ]
    }
   ],
   "source": [
    "output_height, output_width = depth_wise_output.shape[2], depth_wise_output.shape[3]\n",
    "computation_complexity = 3 * 3 * 3 * output_height * output_width\n",
    "print(f\"Computation complexity: {computation_complexity}\")"
   ]
  },
  {
   "cell_type": "markdown",
   "metadata": {},
   "source": [
    "<a id=\"2\"></a>\n",
    "## 2.Pointwise Convolution"
   ]
  },
  {
   "cell_type": "markdown",
   "metadata": {},
   "source": [
    "이전 내용에서도 몇 번 사용했던, $1\\times 1$ convolution으로, 입력되는 채널의 값이 depthwise convolution의 out_channels와 같기 때문에, 해상도의 크기는 조정되지 않는다.\n",
    "\n",
    "단, pointwise convolution의 out_channels는 설정하는 값에 따라 변화된다.(채널의 크기를 줄이거나 증가시키거나 둘 중 하나.)"
   ]
  },
  {
   "cell_type": "code",
   "execution_count": 8,
   "metadata": {},
   "outputs": [
    {
     "name": "stdout",
     "output_type": "stream",
     "text": [
      "torch.Size([1, 3, 224, 224])\n",
      "torch.Size([1, 1, 224, 224])\n"
     ]
    }
   ],
   "source": [
    "depth_wise_conv = nn.Conv2d(in_channels=3, out_channels=3, kernel_size=3, stride=1, padding=1, groups=3)\n",
    "depth_wise_output = depth_wise_conv(dummy_input)\n",
    "print(depth_wise_output.shape)\n",
    "\n",
    "point_wise_conv = nn.Conv2d(in_channels=3, out_channels=1, kernel_size=1)\n",
    "point_wise_output = point_wise_conv(depth_wise_output)\n",
    "print(point_wise_output.shape)"
   ]
  },
  {
   "cell_type": "code",
   "execution_count": 9,
   "metadata": {},
   "outputs": [
    {
     "name": "stdout",
     "output_type": "stream",
     "text": [
      "Output shape: torch.Size([1, 1, 224, 224])\n",
      "Number of parameters: 4\n"
     ]
    }
   ],
   "source": [
    "num_params = sum(p.numel() for p in point_wise_conv.parameters()) ## 각 파라미터 텐서 p에 있는 원소의 총 개수\n",
    "\n",
    "print(f\"Output shape: {point_wise_output.shape}\")\n",
    "print(f\"Number of parameters: {num_params}\")"
   ]
  },
  {
   "cell_type": "markdown",
   "metadata": {},
   "source": [
    "<a id=\"3\"></a>\n",
    "## 3.Depthwise Separable Convolution"
   ]
  },
  {
   "cell_type": "code",
   "execution_count": 10,
   "metadata": {},
   "outputs": [],
   "source": [
    "class DepthwiseSeparableConv2d(nn.Module):\n",
    "    def __init__(self, in_channels, out_channels, stride=1, width_multiplier=1.0):\n",
    "        super().__init__()\n",
    "        in_channels = int(in_channels * width_multiplier)\n",
    "        out_channels = int(out_channels * width_multiplier)\n",
    "\n",
    "        self.depth_wise_conv = nn.Conv2d(in_channels=in_channels, out_channels=in_channels, kernel_size=3, stride=stride, padding=1, groups=in_channels, bias=False)\n",
    "        self.bn1 = nn.BatchNorm2d(in_channels)\n",
    "        \n",
    "        self.point_wise_conv = nn.Conv2d(in_channels=in_channels, out_channels=out_channels, kernel_size=1, stride=1, padding=0, bias=False)\n",
    "        self.bn2 = nn.BatchNorm2d(out_channels)\n",
    "\n",
    "        self.relu = nn.ReLU(inplace=True)\n",
    "\n",
    "    def forward(self, x):\n",
    "        x = self.depth_wise_conv(x)\n",
    "        x = self.bn1(x)\n",
    "        x = self.relu(x)\n",
    "\n",
    "        x = self.point_wise_conv(x)\n",
    "        x = self.bn2(x)\n",
    "        x = self.relu(x)\n",
    "\n",
    "        return x"
   ]
  },
  {
   "cell_type": "code",
   "execution_count": 11,
   "metadata": {},
   "outputs": [
    {
     "name": "stdout",
     "output_type": "stream",
     "text": [
      "torch.Size([1, 64, 224, 224])\n"
     ]
    }
   ],
   "source": [
    "dummy_input = torch.randn(1, 3, 224, 224)\n",
    "depth_wise_sep_conv = DepthwiseSeparableConv2d(in_channels=3, out_channels=64)\n",
    "output = depth_wise_sep_conv(dummy_input)\n",
    "print(output.shape)"
   ]
  },
  {
   "cell_type": "markdown",
   "metadata": {},
   "source": [
    "<a id=\"4\"></a>\n",
    "## 4.MobileNet"
   ]
  },
  {
   "cell_type": "code",
   "execution_count": 12,
   "metadata": {},
   "outputs": [],
   "source": [
    "class MobileNet(nn.Module):\n",
    "    def __init__(self, num_classes=1000, width_multiplier=1.0, init_weights=False):\n",
    "        super().__init__()\n",
    "        self.feature_extractor = nn.Sequential(\n",
    "            nn.Conv2d(in_channels=3, out_channels=32, kernel_size=3, stride=2, padding=1, bias=False),\n",
    "            nn.BatchNorm2d(32),\n",
    "            nn.ReLU(inplace=True),\n",
    "\n",
    "            DepthwiseSeparableConv2d(in_channels=32, out_channels=64, stride=1, width_multiplier=width_multiplier),\n",
    "            DepthwiseSeparableConv2d(in_channels=64, out_channels=128, stride=2, width_multiplier=width_multiplier),\n",
    "            DepthwiseSeparableConv2d(in_channels=128, out_channels=128, stride=1, width_multiplier=width_multiplier),\n",
    "            DepthwiseSeparableConv2d(in_channels=128, out_channels=256, stride=2, width_multiplier=width_multiplier),\n",
    "            DepthwiseSeparableConv2d(in_channels=256, out_channels=256, stride=1, width_multiplier=width_multiplier),\n",
    "            DepthwiseSeparableConv2d(in_channels=256, out_channels=512, stride=2, width_multiplier=width_multiplier),\n",
    "            DepthwiseSeparableConv2d(in_channels=512, out_channels=512, stride=1, width_multiplier=width_multiplier),\n",
    "            DepthwiseSeparableConv2d(in_channels=512, out_channels=512, stride=1, width_multiplier=width_multiplier),\n",
    "            DepthwiseSeparableConv2d(in_channels=512, out_channels=512, stride=1, width_multiplier=width_multiplier),\n",
    "            DepthwiseSeparableConv2d(in_channels=512, out_channels=512, stride=1, width_multiplier=width_multiplier),\n",
    "            DepthwiseSeparableConv2d(in_channels=512, out_channels=512, stride=1, width_multiplier=width_multiplier),\n",
    "            DepthwiseSeparableConv2d(in_channels=512, out_channels=1024, stride=2, width_multiplier=width_multiplier),\n",
    "            DepthwiseSeparableConv2d(in_channels=1024, out_channels=1024, stride=1, width_multiplier=width_multiplier),\n",
    "        )\n",
    "\n",
    "        self.avg_pool = nn.AdaptiveAvgPool2d((1, 1))\n",
    "        self.classifier = nn.Linear(1024, num_classes)\n",
    "\n",
    "        if init_weights:\n",
    "            for m in self.modules():\n",
    "                if isinstance(m, nn.Conv2d):\n",
    "                    nn.init.kaiming_normal_(m.weight, mode='fan_out', nonlinearity='relu')\n",
    "                    if m.bias is not None:\n",
    "                        nn.init.constant_(m.bias, 0)\n",
    "                elif isinstance(m, nn.BatchNorm2d):\n",
    "                    nn.init.constant_(m.weight, 1)\n",
    "                    nn.init.constant_(m.bias, 0)\n",
    "                elif isinstance(m, nn.Linear):\n",
    "                    nn.init.normal_(m.weight, 0, 0.01)\n",
    "                    nn.init.constant_(m.bias, 0)\n",
    "\n",
    "    def forward(self, x):\n",
    "        x = self.feature_extractor(x)\n",
    "        x = self.avg_pool(x)\n",
    "        x = x.view(-1, 1024)\n",
    "        x = self.classifier(x)\n",
    "\n",
    "        return x"
   ]
  },
  {
   "cell_type": "markdown",
   "metadata": {},
   "source": [
    "<a id=\"5\"></a>\n",
    "## 5.Training"
   ]
  },
  {
   "cell_type": "markdown",
   "metadata": {},
   "source": [
    "<a id=\"5-1\"></a>\n",
    "### 5-1.Hyper Parameters"
   ]
  },
  {
   "cell_type": "code",
   "execution_count": 13,
   "metadata": {},
   "outputs": [],
   "source": [
    "data_dir = \"/home/pervinco/Datasets/mammals-classification/data\"\n",
    "save_dir = \"./runs/mammal-classification/resnet\"\n",
    "\n",
    "epochs = 300\n",
    "batch_size = 64\n",
    "\n",
    "learning_rate = 0.001\n",
    "lr_patience = 10\n",
    "lr_decay_rate = 0.98\n",
    "weight_decay = 0.00002\n",
    "\n",
    "early_stop_counter = 0\n",
    "early_stop_patience = 20\n",
    "\n",
    "num_workers = os.cpu_count()\n",
    "device = torch.device(\"cuda:0\" if torch.cuda.is_available() else \"cpu\")"
   ]
  },
  {
   "cell_type": "markdown",
   "metadata": {},
   "source": [
    "<a id=\"5-2\"></a>\n",
    "### 5-2.Load Dataset"
   ]
  },
  {
   "cell_type": "code",
   "execution_count": 14,
   "metadata": {},
   "outputs": [
    {
     "name": "stdout",
     "output_type": "stream",
     "text": [
      "['african_elephant', 'alpaca', 'american_bison', 'anteater', 'arctic_fox', 'armadillo', 'baboon', 'badger', 'blue_whale', 'brown_bear', 'camel', 'dolphin', 'giraffe', 'groundhog', 'highland_cattle', 'horse', 'jackal', 'kangaroo', 'koala', 'manatee', 'mongoose', 'mountain_goat', 'opossum', 'orangutan', 'otter', 'polar_bear', 'porcupine', 'red_panda', 'rhinoceros', 'sea_lion', 'seal', 'snow_leopard', 'squirrel', 'sugar_glider', 'tapir', 'vampire_bat', 'vicuna', 'walrus', 'warthog', 'water_buffalo', 'weasel', 'wildebeest', 'wombat', 'yak', 'zebra']\n",
      "Num of Classes : 45\n",
      "Num of files & labels : 13751, 13751\n",
      "/home/pervinco/Datasets/mammals-classification/data/african_elephant/african_elephant-0125.jpg\n",
      "12375 12375\n",
      "1376 1376\n"
     ]
    }
   ],
   "source": [
    "classes = sorted(os.listdir(data_dir))\n",
    "print(classes)\n",
    "\n",
    "images, labels = [], []\n",
    "for str_label in classes:\n",
    "    img_files = os.listdir(f\"{data_dir}/{str_label}\")\n",
    "    for file in img_files:\n",
    "        if file.endswith(\".jpg\"):\n",
    "            images.append(f\"{data_dir}/{str_label}/{file}\")\n",
    "            labels.append(str_label)\n",
    "\n",
    "print(f\"Num of Classes : {len(classes)}\")\n",
    "print(f\"Num of files & labels : {len(images)}, {len(labels)}\")\n",
    "print(images[0])\n",
    "\n",
    "train_x, valid_x, train_y, valid_y = train_test_split(images, labels, test_size=0.1, shuffle=True, random_state=42)\n",
    "\n",
    "print(len(train_x), len(train_y))\n",
    "print(len(valid_x), len(valid_y))"
   ]
  },
  {
   "cell_type": "code",
   "execution_count": 15,
   "metadata": {},
   "outputs": [],
   "source": [
    "class MammalDataset(Dataset):\n",
    "    def __init__(self, images, labels, classes, mean=None, std=None, augmentation=False):\n",
    "        self.classes = classes\n",
    "        self.images = images\n",
    "        self.labels = labels\n",
    "\n",
    "        if mean is None:\n",
    "            mean = (0.485, 0.456, 0.406)\n",
    "\n",
    "        if std is None:\n",
    "            std = (0.229, 0.224, 0.225)\n",
    "\n",
    "        if augmentation:\n",
    "            self.augmentation = A.Compose([\n",
    "                A.OneOf([\n",
    "                    A.Resize(224, 224, p=0.5),\n",
    "                    A.SmallestMaxSize(max_size=[256, 512], p=0.5)\n",
    "                ], p=1),\n",
    "                A.RandomCrop(width=224, height=224),\n",
    "\n",
    "                A.HorizontalFlip(p=0.4),\n",
    "                A.RGBShift(p=0.3),\n",
    "\n",
    "                A.ShiftScaleRotate(p=1.0, shift_limit_x=(-0.06, 0.06), shift_limit_y=(-0.06, 0.06), \n",
    "                                   scale_limit=(-0.099, 0.100), \n",
    "                                   rotate_limit=(-180, 180), \n",
    "                                   interpolation=0, \n",
    "                                   border_mode=0, \n",
    "                                   value=(0, 0, 0)),\n",
    "                A.RandomBrightnessContrast(p=1.0, brightness_limit=(-0.2, 0.2), contrast_limit=(-0.2, 0.2), brightness_by_max=True),\n",
    "                A.AdvancedBlur(p=0.35, blur_limit=(3, 7), \n",
    "                               sigmaX_limit=(0.2, 1.0), \n",
    "                               sigmaY_limit=(0.2, 1.0), \n",
    "                               rotate_limit=(-90, 90), \n",
    "                               beta_limit=(0.5, 8.0), \n",
    "                               noise_limit=(0.9, 1.1)),\n",
    "\n",
    "                A.Normalize(mean=mean, std=std),\n",
    "                ToTensorV2()\n",
    "            ])\n",
    "        else:\n",
    "            self.augmentation = A.Compose([\n",
    "                A.Resize(224, 224, p=1),\n",
    "                A.Normalize(mean=mean, std=std),\n",
    "                ToTensorV2()\n",
    "            ])\n",
    "\n",
    "\n",
    "    def __len__(self):\n",
    "        return len(self.images)\n",
    "\n",
    "\n",
    "    def __getitem__(self, idx):\n",
    "        image = self.images[idx]\n",
    "        label = self.labels[idx]\n",
    "\n",
    "        image = cv2.imread(image)\n",
    "        image = cv2.cvtColor(image, cv2.COLOR_BGR2RGB)\n",
    "        label = self.classes.index(label)\n",
    "\n",
    "        image = self.augmentation(image=image)[\"image\"]\n",
    "\n",
    "        return image, label"
   ]
  },
  {
   "cell_type": "code",
   "execution_count": 16,
   "metadata": {},
   "outputs": [],
   "source": [
    "train_dataset = MammalDataset(train_x, train_y, classes, augmentation=True)\n",
    "valid_dataset = MammalDataset(valid_x, valid_y, classes, augmentation=False)"
   ]
  },
  {
   "cell_type": "code",
   "execution_count": 17,
   "metadata": {},
   "outputs": [],
   "source": [
    "train_dataloder = DataLoader(train_dataset, batch_size=batch_size, shuffle=True, num_workers=num_workers)\n",
    "valid_dataloader = DataLoader(valid_dataset, batch_size=batch_size, num_workers=num_workers)"
   ]
  },
  {
   "cell_type": "markdown",
   "metadata": {},
   "source": [
    "<a id=\"5-3\"></a>\n",
    "### 5-3.Train & Valid functions"
   ]
  },
  {
   "cell_type": "code",
   "execution_count": 18,
   "metadata": {},
   "outputs": [],
   "source": [
    "def train(model, dataloader, criterion, optimizer, device):\n",
    "    model.train()\n",
    "\n",
    "    train_cost, train_acc = 0.0, 0.0\n",
    "    for x, y in tqdm(dataloader, desc=\"Train\", leave=False):\n",
    "        x, y = x.to(device), y.to(device)\n",
    "\n",
    "        optimizer.zero_grad()\n",
    "        y_pred = model(x)\n",
    "\n",
    "        cost = criterion(y_pred, y)\n",
    "        cost.backward()\n",
    "        optimizer.step()\n",
    "\n",
    "        train_cost += cost.item() * x.size(0)\n",
    "\n",
    "        _, pred_labels = torch.max(y_pred, 1)\n",
    "        train_acc += (pred_labels == y).sum().item()\n",
    "\n",
    "    train_cost /= len(dataloader.dataset)\n",
    "    train_acc /= len(dataloader.dataset)\n",
    "\n",
    "    return train_cost, train_acc\n",
    "\n",
    "\n",
    "def valid(model, dataloader, criterion, device):\n",
    "    model.eval()\n",
    "\n",
    "    valid_cost, valid_acc = 0.0, 0.0\n",
    "    with torch.no_grad():\n",
    "        for x, y in tqdm(dataloader, desc=\"Valid\", leave=False):\n",
    "            x, y = x.to(device), y.to(device)\n",
    "            y_pred = model(x)\n",
    "\n",
    "            cost = criterion(y_pred, y)\n",
    "\n",
    "            valid_cost += cost.item() * x.size(0)\n",
    "\n",
    "            _, pred_labels = torch.max(y_pred, 1)\n",
    "            valid_acc += (pred_labels == y).sum().item()\n",
    "\n",
    "        valid_cost /= len(dataloader.dataset)\n",
    "        valid_acc /= len(dataloader.dataset)\n",
    "\n",
    "    return valid_cost, valid_acc\n",
    "\n",
    "def lr_lambda(epoch):\n",
    "    return lr_decay_rate ** epoch"
   ]
  },
  {
   "cell_type": "markdown",
   "metadata": {},
   "source": [
    "<a id=\"5-4\"></a>\n",
    "### 5-4.Training Iteration"
   ]
  },
  {
   "cell_type": "code",
   "execution_count": 19,
   "metadata": {},
   "outputs": [
    {
     "name": "stdout",
     "output_type": "stream",
     "text": [
      "----------------------------------------------------------------\n",
      "        Layer (type)               Output Shape         Param #\n",
      "================================================================\n",
      "            Conv2d-1         [-1, 32, 112, 112]             864\n",
      "       BatchNorm2d-2         [-1, 32, 112, 112]              64\n",
      "              ReLU-3         [-1, 32, 112, 112]               0\n",
      "            Conv2d-4         [-1, 32, 112, 112]             288\n",
      "       BatchNorm2d-5         [-1, 32, 112, 112]              64\n",
      "              ReLU-6         [-1, 32, 112, 112]               0\n",
      "            Conv2d-7         [-1, 64, 112, 112]           2,048\n",
      "       BatchNorm2d-8         [-1, 64, 112, 112]             128\n",
      "              ReLU-9         [-1, 64, 112, 112]               0\n",
      "DepthwiseSeparableConv2d-10         [-1, 64, 112, 112]               0\n",
      "           Conv2d-11           [-1, 64, 56, 56]             576\n",
      "      BatchNorm2d-12           [-1, 64, 56, 56]             128\n",
      "             ReLU-13           [-1, 64, 56, 56]               0\n",
      "           Conv2d-14          [-1, 128, 56, 56]           8,192\n",
      "      BatchNorm2d-15          [-1, 128, 56, 56]             256\n",
      "             ReLU-16          [-1, 128, 56, 56]               0\n",
      "DepthwiseSeparableConv2d-17          [-1, 128, 56, 56]               0\n",
      "           Conv2d-18          [-1, 128, 56, 56]           1,152\n",
      "      BatchNorm2d-19          [-1, 128, 56, 56]             256\n",
      "             ReLU-20          [-1, 128, 56, 56]               0\n",
      "           Conv2d-21          [-1, 128, 56, 56]          16,384\n",
      "      BatchNorm2d-22          [-1, 128, 56, 56]             256\n",
      "             ReLU-23          [-1, 128, 56, 56]               0\n",
      "DepthwiseSeparableConv2d-24          [-1, 128, 56, 56]               0\n",
      "           Conv2d-25          [-1, 128, 28, 28]           1,152\n",
      "      BatchNorm2d-26          [-1, 128, 28, 28]             256\n",
      "             ReLU-27          [-1, 128, 28, 28]               0\n",
      "           Conv2d-28          [-1, 256, 28, 28]          32,768\n",
      "      BatchNorm2d-29          [-1, 256, 28, 28]             512\n",
      "             ReLU-30          [-1, 256, 28, 28]               0\n",
      "DepthwiseSeparableConv2d-31          [-1, 256, 28, 28]               0\n",
      "           Conv2d-32          [-1, 256, 28, 28]           2,304\n",
      "      BatchNorm2d-33          [-1, 256, 28, 28]             512\n",
      "             ReLU-34          [-1, 256, 28, 28]               0\n",
      "           Conv2d-35          [-1, 256, 28, 28]          65,536\n",
      "      BatchNorm2d-36          [-1, 256, 28, 28]             512\n",
      "             ReLU-37          [-1, 256, 28, 28]               0\n",
      "DepthwiseSeparableConv2d-38          [-1, 256, 28, 28]               0\n",
      "           Conv2d-39          [-1, 256, 14, 14]           2,304\n",
      "      BatchNorm2d-40          [-1, 256, 14, 14]             512\n",
      "             ReLU-41          [-1, 256, 14, 14]               0\n",
      "           Conv2d-42          [-1, 512, 14, 14]         131,072\n",
      "      BatchNorm2d-43          [-1, 512, 14, 14]           1,024\n",
      "             ReLU-44          [-1, 512, 14, 14]               0\n",
      "DepthwiseSeparableConv2d-45          [-1, 512, 14, 14]               0\n",
      "           Conv2d-46          [-1, 512, 14, 14]           4,608\n",
      "      BatchNorm2d-47          [-1, 512, 14, 14]           1,024\n",
      "             ReLU-48          [-1, 512, 14, 14]               0\n",
      "           Conv2d-49          [-1, 512, 14, 14]         262,144\n",
      "      BatchNorm2d-50          [-1, 512, 14, 14]           1,024\n",
      "             ReLU-51          [-1, 512, 14, 14]               0\n",
      "DepthwiseSeparableConv2d-52          [-1, 512, 14, 14]               0\n",
      "           Conv2d-53          [-1, 512, 14, 14]           4,608\n",
      "      BatchNorm2d-54          [-1, 512, 14, 14]           1,024\n",
      "             ReLU-55          [-1, 512, 14, 14]               0\n",
      "           Conv2d-56          [-1, 512, 14, 14]         262,144\n",
      "      BatchNorm2d-57          [-1, 512, 14, 14]           1,024\n",
      "             ReLU-58          [-1, 512, 14, 14]               0\n",
      "DepthwiseSeparableConv2d-59          [-1, 512, 14, 14]               0\n",
      "           Conv2d-60          [-1, 512, 14, 14]           4,608\n",
      "      BatchNorm2d-61          [-1, 512, 14, 14]           1,024\n",
      "             ReLU-62          [-1, 512, 14, 14]               0\n",
      "           Conv2d-63          [-1, 512, 14, 14]         262,144\n",
      "      BatchNorm2d-64          [-1, 512, 14, 14]           1,024\n",
      "             ReLU-65          [-1, 512, 14, 14]               0\n",
      "DepthwiseSeparableConv2d-66          [-1, 512, 14, 14]               0\n",
      "           Conv2d-67          [-1, 512, 14, 14]           4,608\n",
      "      BatchNorm2d-68          [-1, 512, 14, 14]           1,024\n",
      "             ReLU-69          [-1, 512, 14, 14]               0\n",
      "           Conv2d-70          [-1, 512, 14, 14]         262,144\n",
      "      BatchNorm2d-71          [-1, 512, 14, 14]           1,024\n",
      "             ReLU-72          [-1, 512, 14, 14]               0\n",
      "DepthwiseSeparableConv2d-73          [-1, 512, 14, 14]               0\n",
      "           Conv2d-74          [-1, 512, 14, 14]           4,608\n",
      "      BatchNorm2d-75          [-1, 512, 14, 14]           1,024\n",
      "             ReLU-76          [-1, 512, 14, 14]               0\n",
      "           Conv2d-77          [-1, 512, 14, 14]         262,144\n",
      "      BatchNorm2d-78          [-1, 512, 14, 14]           1,024\n",
      "             ReLU-79          [-1, 512, 14, 14]               0\n",
      "DepthwiseSeparableConv2d-80          [-1, 512, 14, 14]               0\n",
      "           Conv2d-81            [-1, 512, 7, 7]           4,608\n",
      "      BatchNorm2d-82            [-1, 512, 7, 7]           1,024\n",
      "             ReLU-83            [-1, 512, 7, 7]               0\n",
      "           Conv2d-84           [-1, 1024, 7, 7]         524,288\n",
      "      BatchNorm2d-85           [-1, 1024, 7, 7]           2,048\n",
      "             ReLU-86           [-1, 1024, 7, 7]               0\n",
      "DepthwiseSeparableConv2d-87           [-1, 1024, 7, 7]               0\n",
      "           Conv2d-88           [-1, 1024, 7, 7]           9,216\n",
      "      BatchNorm2d-89           [-1, 1024, 7, 7]           2,048\n",
      "             ReLU-90           [-1, 1024, 7, 7]               0\n",
      "           Conv2d-91           [-1, 1024, 7, 7]       1,048,576\n",
      "      BatchNorm2d-92           [-1, 1024, 7, 7]           2,048\n",
      "             ReLU-93           [-1, 1024, 7, 7]               0\n",
      "DepthwiseSeparableConv2d-94           [-1, 1024, 7, 7]               0\n",
      "AdaptiveAvgPool2d-95           [-1, 1024, 1, 1]               0\n",
      "           Linear-96                   [-1, 45]          46,125\n",
      "================================================================\n",
      "Total params: 3,253,101\n",
      "Trainable params: 3,253,101\n",
      "Non-trainable params: 0\n",
      "----------------------------------------------------------------\n",
      "Input size (MB): 0.57\n",
      "Forward/backward pass size (MB): 136.10\n",
      "Params size (MB): 12.41\n",
      "Estimated Total Size (MB): 149.08\n",
      "----------------------------------------------------------------\n"
     ]
    }
   ],
   "source": [
    "model = MobileNet(num_classes=len(classes), width_multiplier=1.0, init_weights=True)\n",
    "summary(model, input_size=(3, 224, 224), device=\"cpu\")\n",
    "model = model.to(device)"
   ]
  },
  {
   "cell_type": "code",
   "execution_count": 20,
   "metadata": {},
   "outputs": [
    {
     "name": "stderr",
     "output_type": "stream",
     "text": [
      "                                                        \r"
     ]
    },
    {
     "name": "stdout",
     "output_type": "stream",
     "text": [
      "Epoch : 0 | 300\n",
      "\tTrain Loss : 3.6479, Train Acc : 0.0641\n",
      "\tValid Loss : 3.4345, Valid Acc : 0.1076\n"
     ]
    },
    {
     "name": "stderr",
     "output_type": "stream",
     "text": [
      "                                                        \r"
     ]
    },
    {
     "name": "stdout",
     "output_type": "stream",
     "text": [
      "Epoch : 10 | 300\n",
      "\tTrain Loss : 2.6363, Train Acc : 0.2899\n",
      "\tValid Loss : 2.5038, Valid Acc : 0.3299\n"
     ]
    },
    {
     "name": "stderr",
     "output_type": "stream",
     "text": [
      "                                                        \r"
     ]
    },
    {
     "name": "stdout",
     "output_type": "stream",
     "text": [
      "Epoch : 20 | 300\n",
      "\tTrain Loss : 1.9937, Train Acc : 0.4522\n",
      "\tValid Loss : 1.8426, Valid Acc : 0.4913\n"
     ]
    },
    {
     "name": "stderr",
     "output_type": "stream",
     "text": [
      "                                                        \r"
     ]
    },
    {
     "name": "stdout",
     "output_type": "stream",
     "text": [
      "Epoch : 30 | 300\n",
      "\tTrain Loss : 1.5735, Train Acc : 0.5589\n",
      "\tValid Loss : 1.4035, Valid Acc : 0.5850\n"
     ]
    },
    {
     "name": "stderr",
     "output_type": "stream",
     "text": [
      "                                                        \r"
     ]
    },
    {
     "name": "stdout",
     "output_type": "stream",
     "text": [
      "Epoch : 40 | 300\n",
      "\tTrain Loss : 1.2707, Train Acc : 0.6388\n",
      "\tValid Loss : 1.2177, Valid Acc : 0.6497\n"
     ]
    },
    {
     "name": "stderr",
     "output_type": "stream",
     "text": [
      "                                                        \r"
     ]
    },
    {
     "name": "stdout",
     "output_type": "stream",
     "text": [
      "Epoch : 50 | 300\n",
      "\tTrain Loss : 1.0567, Train Acc : 0.6997\n",
      "\tValid Loss : 1.1414, Valid Acc : 0.6969\n"
     ]
    },
    {
     "name": "stderr",
     "output_type": "stream",
     "text": [
      "                                                        \r"
     ]
    },
    {
     "name": "stdout",
     "output_type": "stream",
     "text": [
      "Epoch : 60 | 300\n",
      "\tTrain Loss : 0.8817, Train Acc : 0.7443\n",
      "\tValid Loss : 1.0390, Valid Acc : 0.7093\n"
     ]
    },
    {
     "name": "stderr",
     "output_type": "stream",
     "text": [
      "                                                        \r"
     ]
    },
    {
     "name": "stdout",
     "output_type": "stream",
     "text": [
      "Epoch : 70 | 300\n",
      "\tTrain Loss : 0.7753, Train Acc : 0.7806\n",
      "\tValid Loss : 1.0242, Valid Acc : 0.7246\n"
     ]
    },
    {
     "name": "stderr",
     "output_type": "stream",
     "text": [
      "                                                        "
     ]
    },
    {
     "name": "stdout",
     "output_type": "stream",
     "text": [
      "Early stopping triggered after epoch 71 due to no improvement in validation loss\n"
     ]
    },
    {
     "name": "stderr",
     "output_type": "stream",
     "text": [
      "\r"
     ]
    }
   ],
   "source": [
    "criterion = nn.CrossEntropyLoss()\n",
    "optimizer = torch.optim.Adam(model.parameters(), lr=learning_rate, weight_decay=weight_decay)\n",
    "scheduler = LambdaLR(optimizer, lr_lambda)\n",
    "\n",
    "train_costs, train_accs = [], []\n",
    "valid_costs, valid_accs = [], []\n",
    "early_stop_counter = 0\n",
    "early_stop_patience = 10\n",
    "best_valid_cost = float('inf')\n",
    "for epoch in range(epochs):\n",
    "    train_cost, train_acc = train(model, train_dataloder, criterion, optimizer, device)\n",
    "    valid_cost, valid_acc = valid(model, valid_dataloader, criterion, device)\n",
    "\n",
    "    if epoch % 10 == 0 or epoch == epochs:\n",
    "        print(f\"Epoch : {epoch} | {epochs}\")\n",
    "        print(f\"\\tTrain Loss : {train_cost:.4f}, Train Acc : {train_acc:.4f}\")\n",
    "        print(f\"\\tValid Loss : {valid_cost:.4f}, Valid Acc : {valid_acc:.4f}\")\n",
    "\n",
    "    train_costs.append(train_cost)\n",
    "    valid_costs.append(valid_cost)\n",
    "    train_accs.append(train_acc)\n",
    "    valid_accs.append(valid_acc)\n",
    "\n",
    "    scheduler.step()\n",
    "\n",
    "    ## Early Stopping\n",
    "    if valid_cost < best_valid_cost:\n",
    "        best_valid_cost = valid_cost\n",
    "        early_stop_counter = 0\n",
    "    else:\n",
    "        early_stop_counter += 1\n",
    "    \n",
    "    if early_stop_counter >= early_stop_patience:\n",
    "        print(f\"Early stopping triggered after epoch {epoch} due to no improvement in validation loss\")\n",
    "        break  # Break out of the loop to stop training"
   ]
  },
  {
   "cell_type": "code",
   "execution_count": 21,
   "metadata": {},
   "outputs": [
    {
     "data": {
      "image/png": "[encoded data removed]",
      "text/plain": [
       "<Figure size 1000x500 with 1 Axes>"
      ]
     },
     "metadata": {},
     "output_type": "display_data"
    }
   ],
   "source": [
    "plt.figure(figsize=(10, 5))\n",
    "plt.plot(train_costs, label='Training cost')\n",
    "plt.plot(valid_costs, label='Validation cost')\n",
    "plt.xlabel('Epochs')\n",
    "plt.ylabel('Cost')\n",
    "plt.legend()\n",
    "plt.title('MobileNet Cost')\n",
    "plt.show()"
   ]
  },
  {
   "cell_type": "code",
   "execution_count": 22,
   "metadata": {},
   "outputs": [
    {
     "data": {
      "image/png": "[encoded data removed]",
      "text/plain": [
       "<Figure size 1000x500 with 1 Axes>"
      ]
     },
     "metadata": {},
     "output_type": "display_data"
    }
   ],
   "source": [
    "plt.figure(figsize=(10, 5))\n",
    "plt.plot(train_accs, label='Training accs')\n",
    "plt.plot(valid_accs, label='Validation accs')\n",
    "plt.xlabel('Epochs')\n",
    "plt.ylabel('Accuracy')\n",
    "plt.legend()\n",
    "plt.title('MobileNet Accuracy')\n",
    "plt.show()"
   ]
  },
  {
   "cell_type": "markdown",
   "metadata": {},
   "source": [
    "<a id=\"6\"></a>\n",
    "## 6.Conv MobileNet"
   ]
  },
  {
   "cell_type": "code",
   "execution_count": 23,
   "metadata": {},
   "outputs": [],
   "source": [
    "class ConvBNReLU(nn.Module):\n",
    "    def __init__(self, in_channels, out_channels, stride=1):\n",
    "        super(ConvBNReLU, self).__init__()\n",
    "        self.conv1 = nn.Conv2d(in_channels, in_channels, kernel_size=3, stride=stride, padding=1, bias=False)\n",
    "        self.bn1 = nn.BatchNorm2d(in_channels)\n",
    "\n",
    "        self.conv2 = nn.Conv2d(in_channels=in_channels, out_channels=out_channels, kernel_size=1, stride=1, padding=0, bias=False)\n",
    "        self.bn2 = nn.BatchNorm2d(out_channels)\n",
    "        self.relu = nn.ReLU(inplace=True)\n",
    "\n",
    "    def forward(self, x):\n",
    "        x = self.conv1(x)\n",
    "        x = self.bn1(x)\n",
    "        x = self.relu(x)\n",
    "\n",
    "        x = self.conv2(x)\n",
    "        x = self.bn2(x)\n",
    "        x = self.relu(x)\n",
    "        \n",
    "        return x"
   ]
  },
  {
   "cell_type": "code",
   "execution_count": 24,
   "metadata": {},
   "outputs": [],
   "source": [
    "class ConvMobileNet(nn.Module):\n",
    "    def __init__(self, num_classes=1000, width_multiplier=1.0, init_weights=False):\n",
    "        super().__init__()\n",
    "        self.feature_extractor = nn.Sequential(\n",
    "            nn.Conv2d(in_channels=3, out_channels=32, kernel_size=3, stride=2, padding=1, bias=False),\n",
    "            nn.BatchNorm2d(32),\n",
    "            nn.ReLU(inplace=True),\n",
    "\n",
    "            ConvBNReLU(in_channels=32, out_channels=64, stride=1),\n",
    "            ConvBNReLU(in_channels=64, out_channels=128, stride=2),\n",
    "            ConvBNReLU(in_channels=128, out_channels=128, stride=1),\n",
    "            ConvBNReLU(in_channels=128, out_channels=256, stride=2),\n",
    "            ConvBNReLU(in_channels=256, out_channels=256, stride=1),\n",
    "            ConvBNReLU(in_channels=256, out_channels=512, stride=2),\n",
    "            ConvBNReLU(in_channels=512, out_channels=512, stride=1),\n",
    "            ConvBNReLU(in_channels=512, out_channels=512, stride=1),\n",
    "            ConvBNReLU(in_channels=512, out_channels=512, stride=1),\n",
    "            ConvBNReLU(in_channels=512, out_channels=512, stride=1),\n",
    "            ConvBNReLU(in_channels=512, out_channels=512, stride=1),\n",
    "            ConvBNReLU(in_channels=512, out_channels=1024, stride=2),\n",
    "            ConvBNReLU(in_channels=1024, out_channels=1024, stride=1),\n",
    "        )\n",
    "\n",
    "        self.avg_pool = nn.AdaptiveAvgPool2d((1, 1))\n",
    "        self.classifier = nn.Linear(1024, num_classes)\n",
    "\n",
    "        if init_weights:\n",
    "            for m in self.modules():\n",
    "                if isinstance(m, nn.Conv2d):\n",
    "                    nn.init.kaiming_normal_(m.weight, mode='fan_out', nonlinearity='relu')\n",
    "                    if m.bias is not None:\n",
    "                        nn.init.constant_(m.bias, 0)\n",
    "                elif isinstance(m, nn.BatchNorm2d):\n",
    "                    nn.init.constant_(m.weight, 1)\n",
    "                    nn.init.constant_(m.bias, 0)\n",
    "                elif isinstance(m, nn.Linear):\n",
    "                    nn.init.normal_(m.weight, 0, 0.01)\n",
    "                    nn.init.constant_(m.bias, 0)\n",
    "\n",
    "    def forward(self, x):\n",
    "        x = self.feature_extractor(x)\n",
    "        x = self.avg_pool(x)\n",
    "        x = x.view(-1, 1024)\n",
    "        x = self.classifier(x)\n",
    "\n",
    "        return x"
   ]
  },
  {
   "cell_type": "code",
   "execution_count": 25,
   "metadata": {},
   "outputs": [
    {
     "name": "stdout",
     "output_type": "stream",
     "text": [
      "----------------------------------------------------------------\n",
      "        Layer (type)               Output Shape         Param #\n",
      "================================================================\n",
      "            Conv2d-1         [-1, 32, 112, 112]             864\n",
      "       BatchNorm2d-2         [-1, 32, 112, 112]              64\n",
      "              ReLU-3         [-1, 32, 112, 112]               0\n",
      "            Conv2d-4         [-1, 32, 112, 112]           9,216\n",
      "       BatchNorm2d-5         [-1, 32, 112, 112]              64\n",
      "              ReLU-6         [-1, 32, 112, 112]               0\n",
      "            Conv2d-7         [-1, 64, 112, 112]           2,048\n",
      "       BatchNorm2d-8         [-1, 64, 112, 112]             128\n",
      "              ReLU-9         [-1, 64, 112, 112]               0\n",
      "       ConvBNReLU-10         [-1, 64, 112, 112]               0\n",
      "           Conv2d-11           [-1, 64, 56, 56]          36,864\n",
      "      BatchNorm2d-12           [-1, 64, 56, 56]             128\n",
      "             ReLU-13           [-1, 64, 56, 56]               0\n",
      "           Conv2d-14          [-1, 128, 56, 56]           8,192\n",
      "      BatchNorm2d-15          [-1, 128, 56, 56]             256\n",
      "             ReLU-16          [-1, 128, 56, 56]               0\n",
      "       ConvBNReLU-17          [-1, 128, 56, 56]               0\n",
      "           Conv2d-18          [-1, 128, 56, 56]         147,456\n",
      "      BatchNorm2d-19          [-1, 128, 56, 56]             256\n",
      "             ReLU-20          [-1, 128, 56, 56]               0\n",
      "           Conv2d-21          [-1, 128, 56, 56]          16,384\n",
      "      BatchNorm2d-22          [-1, 128, 56, 56]             256\n",
      "             ReLU-23          [-1, 128, 56, 56]               0\n",
      "       ConvBNReLU-24          [-1, 128, 56, 56]               0\n",
      "           Conv2d-25          [-1, 128, 28, 28]         147,456\n",
      "      BatchNorm2d-26          [-1, 128, 28, 28]             256\n",
      "             ReLU-27          [-1, 128, 28, 28]               0\n",
      "           Conv2d-28          [-1, 256, 28, 28]          32,768\n",
      "      BatchNorm2d-29          [-1, 256, 28, 28]             512\n",
      "             ReLU-30          [-1, 256, 28, 28]               0\n",
      "       ConvBNReLU-31          [-1, 256, 28, 28]               0\n",
      "           Conv2d-32          [-1, 256, 28, 28]         589,824\n",
      "      BatchNorm2d-33          [-1, 256, 28, 28]             512\n",
      "             ReLU-34          [-1, 256, 28, 28]               0\n",
      "           Conv2d-35          [-1, 256, 28, 28]          65,536\n",
      "      BatchNorm2d-36          [-1, 256, 28, 28]             512\n",
      "             ReLU-37          [-1, 256, 28, 28]               0\n",
      "       ConvBNReLU-38          [-1, 256, 28, 28]               0\n",
      "           Conv2d-39          [-1, 256, 14, 14]         589,824\n",
      "      BatchNorm2d-40          [-1, 256, 14, 14]             512\n",
      "             ReLU-41          [-1, 256, 14, 14]               0\n",
      "           Conv2d-42          [-1, 512, 14, 14]         131,072\n",
      "      BatchNorm2d-43          [-1, 512, 14, 14]           1,024\n",
      "             ReLU-44          [-1, 512, 14, 14]               0\n",
      "       ConvBNReLU-45          [-1, 512, 14, 14]               0\n",
      "           Conv2d-46          [-1, 512, 14, 14]       2,359,296\n",
      "      BatchNorm2d-47          [-1, 512, 14, 14]           1,024\n",
      "             ReLU-48          [-1, 512, 14, 14]               0\n",
      "           Conv2d-49          [-1, 512, 14, 14]         262,144\n",
      "      BatchNorm2d-50          [-1, 512, 14, 14]           1,024\n",
      "             ReLU-51          [-1, 512, 14, 14]               0\n",
      "       ConvBNReLU-52          [-1, 512, 14, 14]               0\n",
      "           Conv2d-53          [-1, 512, 14, 14]       2,359,296\n",
      "      BatchNorm2d-54          [-1, 512, 14, 14]           1,024\n",
      "             ReLU-55          [-1, 512, 14, 14]               0\n",
      "           Conv2d-56          [-1, 512, 14, 14]         262,144\n",
      "      BatchNorm2d-57          [-1, 512, 14, 14]           1,024\n",
      "             ReLU-58          [-1, 512, 14, 14]               0\n",
      "       ConvBNReLU-59          [-1, 512, 14, 14]               0\n",
      "           Conv2d-60          [-1, 512, 14, 14]       2,359,296\n",
      "      BatchNorm2d-61          [-1, 512, 14, 14]           1,024\n",
      "             ReLU-62          [-1, 512, 14, 14]               0\n",
      "           Conv2d-63          [-1, 512, 14, 14]         262,144\n",
      "      BatchNorm2d-64          [-1, 512, 14, 14]           1,024\n",
      "             ReLU-65          [-1, 512, 14, 14]               0\n",
      "       ConvBNReLU-66          [-1, 512, 14, 14]               0\n",
      "           Conv2d-67          [-1, 512, 14, 14]       2,359,296\n",
      "      BatchNorm2d-68          [-1, 512, 14, 14]           1,024\n",
      "             ReLU-69          [-1, 512, 14, 14]               0\n",
      "           Conv2d-70          [-1, 512, 14, 14]         262,144\n",
      "      BatchNorm2d-71          [-1, 512, 14, 14]           1,024\n",
      "             ReLU-72          [-1, 512, 14, 14]               0\n",
      "       ConvBNReLU-73          [-1, 512, 14, 14]               0\n",
      "           Conv2d-74          [-1, 512, 14, 14]       2,359,296\n",
      "      BatchNorm2d-75          [-1, 512, 14, 14]           1,024\n",
      "             ReLU-76          [-1, 512, 14, 14]               0\n",
      "           Conv2d-77          [-1, 512, 14, 14]         262,144\n",
      "      BatchNorm2d-78          [-1, 512, 14, 14]           1,024\n",
      "             ReLU-79          [-1, 512, 14, 14]               0\n",
      "       ConvBNReLU-80          [-1, 512, 14, 14]               0\n",
      "           Conv2d-81            [-1, 512, 7, 7]       2,359,296\n",
      "      BatchNorm2d-82            [-1, 512, 7, 7]           1,024\n",
      "             ReLU-83            [-1, 512, 7, 7]               0\n",
      "           Conv2d-84           [-1, 1024, 7, 7]         524,288\n",
      "      BatchNorm2d-85           [-1, 1024, 7, 7]           2,048\n",
      "             ReLU-86           [-1, 1024, 7, 7]               0\n",
      "       ConvBNReLU-87           [-1, 1024, 7, 7]               0\n",
      "           Conv2d-88           [-1, 1024, 7, 7]       9,437,184\n",
      "      BatchNorm2d-89           [-1, 1024, 7, 7]           2,048\n",
      "             ReLU-90           [-1, 1024, 7, 7]               0\n",
      "           Conv2d-91           [-1, 1024, 7, 7]       1,048,576\n",
      "      BatchNorm2d-92           [-1, 1024, 7, 7]           2,048\n",
      "             ReLU-93           [-1, 1024, 7, 7]               0\n",
      "       ConvBNReLU-94           [-1, 1024, 7, 7]               0\n",
      "AdaptiveAvgPool2d-95           [-1, 1024, 1, 1]               0\n",
      "           Linear-96                   [-1, 45]          46,125\n",
      "================================================================\n",
      "Total params: 28,322,061\n",
      "Trainable params: 28,322,061\n",
      "Non-trainable params: 0\n",
      "----------------------------------------------------------------\n",
      "Input size (MB): 0.57\n",
      "Forward/backward pass size (MB): 136.10\n",
      "Params size (MB): 108.04\n",
      "Estimated Total Size (MB): 244.71\n",
      "----------------------------------------------------------------\n"
     ]
    }
   ],
   "source": [
    "model = ConvMobileNet(num_classes=len(classes), init_weights=True)\n",
    "summary(model, input_size=(3, 224, 224), device=\"cpu\")\n",
    "model = model.to(device)"
   ]
  },
  {
   "cell_type": "code",
   "execution_count": 26,
   "metadata": {},
   "outputs": [
    {
     "name": "stderr",
     "output_type": "stream",
     "text": [
      "                                                        \r"
     ]
    },
    {
     "name": "stdout",
     "output_type": "stream",
     "text": [
      "Epoch : 0 | 300\n",
      "\tTrain Loss : 3.7001, Train Acc : 0.0482\n",
      "\tValid Loss : 3.6043, Valid Acc : 0.0647\n"
     ]
    },
    {
     "name": "stderr",
     "output_type": "stream",
     "text": [
      "                                                        \r"
     ]
    },
    {
     "name": "stdout",
     "output_type": "stream",
     "text": [
      "Epoch : 10 | 300\n",
      "\tTrain Loss : 3.4330, Train Acc : 0.0955\n",
      "\tValid Loss : 3.3266, Valid Acc : 0.1156\n"
     ]
    },
    {
     "name": "stderr",
     "output_type": "stream",
     "text": [
      "                                                        \r"
     ]
    },
    {
     "name": "stdout",
     "output_type": "stream",
     "text": [
      "Epoch : 20 | 300\n",
      "\tTrain Loss : 3.3112, Train Acc : 0.1269\n",
      "\tValid Loss : 3.4209, Valid Acc : 0.1097\n"
     ]
    },
    {
     "name": "stderr",
     "output_type": "stream",
     "text": [
      "                                                        \r"
     ]
    },
    {
     "name": "stdout",
     "output_type": "stream",
     "text": [
      "Epoch : 30 | 300\n",
      "\tTrain Loss : 3.1460, Train Acc : 0.1670\n",
      "\tValid Loss : 3.0433, Valid Acc : 0.1846\n"
     ]
    },
    {
     "name": "stderr",
     "output_type": "stream",
     "text": [
      "                                                        \r"
     ]
    },
    {
     "name": "stdout",
     "output_type": "stream",
     "text": [
      "Epoch : 40 | 300\n",
      "\tTrain Loss : 2.9436, Train Acc : 0.2112\n",
      "\tValid Loss : 2.7929, Valid Acc : 0.2522\n"
     ]
    },
    {
     "name": "stderr",
     "output_type": "stream",
     "text": [
      "                                                        \r"
     ]
    },
    {
     "name": "stdout",
     "output_type": "stream",
     "text": [
      "Epoch : 50 | 300\n",
      "\tTrain Loss : 2.7171, Train Acc : 0.2724\n",
      "\tValid Loss : 2.8432, Valid Acc : 0.2442\n"
     ]
    },
    {
     "name": "stderr",
     "output_type": "stream",
     "text": [
      "                                                        \r"
     ]
    },
    {
     "name": "stdout",
     "output_type": "stream",
     "text": [
      "Epoch : 60 | 300\n",
      "\tTrain Loss : 2.5117, Train Acc : 0.3213\n",
      "\tValid Loss : 2.3612, Valid Acc : 0.3488\n"
     ]
    },
    {
     "name": "stderr",
     "output_type": "stream",
     "text": [
      "                                                        \r"
     ]
    },
    {
     "name": "stdout",
     "output_type": "stream",
     "text": [
      "Epoch : 70 | 300\n",
      "\tTrain Loss : 2.3805, Train Acc : 0.3487\n",
      "\tValid Loss : 2.2332, Valid Acc : 0.3837\n"
     ]
    },
    {
     "name": "stderr",
     "output_type": "stream",
     "text": [
      "                                                        \r"
     ]
    },
    {
     "name": "stdout",
     "output_type": "stream",
     "text": [
      "Epoch : 80 | 300\n",
      "\tTrain Loss : 2.2604, Train Acc : 0.3847\n",
      "\tValid Loss : 2.1653, Valid Acc : 0.4012\n"
     ]
    },
    {
     "name": "stderr",
     "output_type": "stream",
     "text": [
      "                                                        \r"
     ]
    },
    {
     "name": "stdout",
     "output_type": "stream",
     "text": [
      "Epoch : 90 | 300\n",
      "\tTrain Loss : 2.1208, Train Acc : 0.4185\n",
      "\tValid Loss : 2.0299, Valid Acc : 0.4433\n"
     ]
    },
    {
     "name": "stderr",
     "output_type": "stream",
     "text": [
      "                                                        \r"
     ]
    },
    {
     "name": "stdout",
     "output_type": "stream",
     "text": [
      "Epoch : 100 | 300\n",
      "\tTrain Loss : 2.0479, Train Acc : 0.4375\n",
      "\tValid Loss : 1.8594, Valid Acc : 0.4891\n"
     ]
    },
    {
     "name": "stderr",
     "output_type": "stream",
     "text": [
      "                                                        \r"
     ]
    },
    {
     "name": "stdout",
     "output_type": "stream",
     "text": [
      "Epoch : 110 | 300\n",
      "\tTrain Loss : 1.9248, Train Acc : 0.4666\n",
      "\tValid Loss : 1.8024, Valid Acc : 0.5007\n"
     ]
    },
    {
     "name": "stderr",
     "output_type": "stream",
     "text": [
      "                                                        \r"
     ]
    },
    {
     "name": "stdout",
     "output_type": "stream",
     "text": [
      "Epoch : 120 | 300\n",
      "\tTrain Loss : 1.8400, Train Acc : 0.4913\n",
      "\tValid Loss : 1.7736, Valid Acc : 0.5087\n"
     ]
    },
    {
     "name": "stderr",
     "output_type": "stream",
     "text": [
      "                                                        \r"
     ]
    },
    {
     "name": "stdout",
     "output_type": "stream",
     "text": [
      "Epoch : 130 | 300\n",
      "\tTrain Loss : 1.7827, Train Acc : 0.5046\n",
      "\tValid Loss : 1.6700, Valid Acc : 0.5436\n"
     ]
    },
    {
     "name": "stderr",
     "output_type": "stream",
     "text": [
      "                                                        \r"
     ]
    },
    {
     "name": "stdout",
     "output_type": "stream",
     "text": [
      "Epoch : 140 | 300\n",
      "\tTrain Loss : 1.7199, Train Acc : 0.5186\n",
      "\tValid Loss : 1.6528, Valid Acc : 0.5487\n"
     ]
    },
    {
     "name": "stderr",
     "output_type": "stream",
     "text": [
      "                                                        \r"
     ]
    },
    {
     "name": "stdout",
     "output_type": "stream",
     "text": [
      "Epoch : 150 | 300\n",
      "\tTrain Loss : 1.6590, Train Acc : 0.5371\n",
      "\tValid Loss : 1.5634, Valid Acc : 0.5705\n"
     ]
    },
    {
     "name": "stderr",
     "output_type": "stream",
     "text": [
      "                                                        \r"
     ]
    },
    {
     "name": "stdout",
     "output_type": "stream",
     "text": [
      "Epoch : 160 | 300\n",
      "\tTrain Loss : 1.6080, Train Acc : 0.5485\n",
      "\tValid Loss : 1.5745, Valid Acc : 0.5610\n"
     ]
    },
    {
     "name": "stderr",
     "output_type": "stream",
     "text": [
      "                                                        \r"
     ]
    },
    {
     "name": "stdout",
     "output_type": "stream",
     "text": [
      "Epoch : 170 | 300\n",
      "\tTrain Loss : 1.5792, Train Acc : 0.5573\n",
      "\tValid Loss : 1.5297, Valid Acc : 0.5698\n"
     ]
    },
    {
     "name": "stderr",
     "output_type": "stream",
     "text": [
      "                                                        \r"
     ]
    },
    {
     "name": "stdout",
     "output_type": "stream",
     "text": [
      "Epoch : 180 | 300\n",
      "\tTrain Loss : 1.5491, Train Acc : 0.5666\n",
      "\tValid Loss : 1.5345, Valid Acc : 0.5676\n"
     ]
    },
    {
     "name": "stderr",
     "output_type": "stream",
     "text": [
      "                                                        "
     ]
    },
    {
     "name": "stdout",
     "output_type": "stream",
     "text": [
      "Early stopping triggered after epoch 188 due to no improvement in validation loss\n"
     ]
    },
    {
     "name": "stderr",
     "output_type": "stream",
     "text": [
      "\r"
     ]
    }
   ],
   "source": [
    "criterion = nn.CrossEntropyLoss()\n",
    "optimizer = torch.optim.Adam(model.parameters(), lr=learning_rate, weight_decay=weight_decay)\n",
    "scheduler = LambdaLR(optimizer, lr_lambda)\n",
    "\n",
    "train_costs, train_accs = [], []\n",
    "valid_costs, valid_accs = [], []\n",
    "early_stop_counter = 0\n",
    "early_stop_patience = 10\n",
    "best_valid_cost = float('inf')\n",
    "for epoch in range(epochs):\n",
    "    train_cost, train_acc = train(model, train_dataloder, criterion, optimizer, device)\n",
    "    valid_cost, valid_acc = valid(model, valid_dataloader, criterion, device)\n",
    "\n",
    "    if epoch % 10 == 0 or epoch == epochs:\n",
    "        print(f\"Epoch : {epoch} | {epochs}\")\n",
    "        print(f\"\\tTrain Loss : {train_cost:.4f}, Train Acc : {train_acc:.4f}\")\n",
    "        print(f\"\\tValid Loss : {valid_cost:.4f}, Valid Acc : {valid_acc:.4f}\")\n",
    "\n",
    "    train_costs.append(train_cost)\n",
    "    valid_costs.append(valid_cost)\n",
    "    train_accs.append(train_acc)\n",
    "    valid_accs.append(valid_acc)\n",
    "\n",
    "    scheduler.step()\n",
    "\n",
    "    ## Early Stopping\n",
    "    if valid_cost < best_valid_cost:\n",
    "        best_valid_cost = valid_cost\n",
    "        early_stop_counter = 0\n",
    "    else:\n",
    "        early_stop_counter += 1\n",
    "    \n",
    "    if early_stop_counter >= early_stop_patience:\n",
    "        print(f\"Early stopping triggered after epoch {epoch} due to no improvement in validation loss\")\n",
    "        break  # Break out of the loop to stop training"
   ]
  },
  {
   "cell_type": "code",
   "execution_count": 27,
   "metadata": {},
   "outputs": [
    {
     "data": {
      "image/png": "[encoded data removed]",
      "text/plain": [
       "<Figure size 1000x500 with 1 Axes>"
      ]
     },
     "metadata": {},
     "output_type": "display_data"
    }
   ],
   "source": [
    "plt.figure(figsize=(10, 5))\n",
    "plt.plot(train_costs, label='Training cost')\n",
    "plt.plot(valid_costs, label='Validation cost')\n",
    "plt.xlabel('Epochs')\n",
    "plt.ylabel('Cost')\n",
    "plt.legend()\n",
    "plt.title('ConvMobileNet Cost')\n",
    "plt.show()"
   ]
  },
  {
   "cell_type": "code",
   "execution_count": 28,
   "metadata": {},
   "outputs": [
    {
     "data": {
      "image/png": "[encoded data removed]",
      "text/plain": [
       "<Figure size 1000x500 with 1 Axes>"
      ]
     },
     "metadata": {},
     "output_type": "display_data"
    }
   ],
   "source": [
    "plt.figure(figsize=(10, 5))\n",
    "plt.plot(train_accs, label='Training accs')\n",
    "plt.plot(valid_accs, label='Validation accs')\n",
    "plt.xlabel('Epochs')\n",
    "plt.ylabel('Accuracy')\n",
    "plt.legend()\n",
    "plt.title('ConvMobileNet Accuracy')\n",
    "plt.show()"
   ]
  }
 ],
 "metadata": {
  "kernelspec": {
   "display_name": "openmmlab",
   "language": "python",
   "name": "python3"
  },
  "language_info": {
   "codemirror_mode": {
    "name": "ipython",
    "version": 3
   },
   "file_extension": ".py",
   "mimetype": "text/x-python",
   "name": "python",
   "nbconvert_exporter": "python",
   "pygments_lexer": "ipython3",
   "version": "3.10.13"
  }
 },
 "nbformat": 4,
 "nbformat_minor": 2
}
