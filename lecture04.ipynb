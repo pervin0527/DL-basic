{
  "nbformat": 4,
  "nbformat_minor": 0,
  "metadata": {
    "colab": {
      "provenance": []
    },
    "kernelspec": {
      "name": "python3",
      "display_name": "Python 3"
    },
    "language_info": {
      "name": "python"
    }
  },
  "cells": [
    {
      "cell_type": "markdown",
      "source": [
        "## Loss function\n",
        "모델의 예측값을  $\\hat{y}$로 표기한다.   \n",
        "model을 학습시킬 때, dataset에 정답 y가 포함되어 있으면, Supervised Learning 이라고 하며, model의 예측값(prediction) $\\hat{y}$ 와 정답 y 간의 오차를 계산한다.  \n",
        "\n",
        "- $\\hat{y}$가 실수 값인 경우 Regression.\n",
        "- Regression의 값은 연속적(continue)이며, 대소관계가 존재한다.\n",
        "- $\\hat{y}$가 정수 값인 경우 Classification.\n",
        "- classification은 값이 비연속적(discrete)이며, 단순히 class에 index를 부여한 것이다.\n",
        "\n",
        "<img src=\"https://drive.google.com/uc?export=download&id=1xsTdrPOYao0QWyE28KaI9PZe578ADbK6\">\n",
        "\n",
        "### One-hot encoding\n",
        "class를 0, 1, 2 ... 등의 정수형태로 표기할 수 있으나, one-hot encoding을 통해 다르게 나타낼 수 있다. 자신에 해당하는 index의 값만 1이고, 그렇지 않은 index는 0이다.\n",
        "\n",
        "[강아지, 고양이, 사람]\n",
        "- 강아지 : (0, 0, 1)\n",
        "- 고양이 : (0, 1, 0)\n",
        "- 사람 : (1, 0, 0)"
      ],
      "metadata": {
        "id": "WpHu2MxdFB6u"
      }
    },
    {
      "cell_type": "markdown",
      "source": [
        "# Regression\n",
        "학생들의 성적을 예측한다거나, 암이 발생할 확률을 예측한다 등을 regression problem이라 한다.\n",
        "<img src=\"https://drive.google.com/uc?export=download&id=1fQwh89Y9DIX0MJQv1EgpfZzuiL1Vyv3N\">\n",
        "- dataset을 구성하는 row는 각각의 data sample을 말함.(예를 들어 학생1, 학생2, 학생3, ... 학생N)\n",
        "- column은 data의 attribute(feature)로 공부시간, 등하교 소요시간, 다니는 학원의 수, 수면 시간 등.\n",
        "- Y 벡터는 각각 학생들의 성적. 정답에 해당하며 model의 prediction과 비교한다.\n",
        "\n",
        "### 1개의 데이터를 입력할 때.\n",
        "<img src=\"https://drive.google.com/uc?export=download&id=1k9R20EQsQbd0LrhTyp33L--ypIE-aGQh\">\n",
        "\n",
        "- 학생 1에 대한 데이터들을 입력.(X와 Y로 구성)\n",
        "- 구성한 Layer들을 거치게 되는데, 마지막 layer에서는 Activation function을 사용하지 않으며 1개의 뉴런으로 구성.(예측값 1개를 출력해야 하니까).\n",
        "- 출력한 값이 $\\hat{y}$. y-prediction이되어, 정답값 y와의 오차를 계산한다.\n",
        "- Sqared Error : $ J = (y-\\hat{y})^2$ 를 계산하며, 두 값의 차이가 작을수록 loss 값이 작다."
      ],
      "metadata": {
        "id": "B5V52jDXIPhU"
      }
    },
    {
      "cell_type": "markdown",
      "source": [
        "## mini batch 단위로 입력할 때.\n",
        "\n",
        "<img src=\"https://drive.google.com/uc?export=download&id=1YHlQlRMG3g3vHQgkKmq_PAxCBm4g6nSI\">\n",
        "\n",
        "- 입력 데이터 X는 l<sub>i</sub> 개의 feature를 가진 row vector가 N개 쌓여있는 Matrix.\n",
        "- 학생1, 학생2, ... 들의 데이터가 batch size N만큼 존재.\n",
        "- 데이터 row 각각에 대한 prediction value를 구하고, column vector $\\hat{Y}$로 나타낸다.\n",
        "- 정답값 y들이 vector로 묶인 column vector Y와 비교를 진행한다.\n",
        "- batch-size N개에 대한 비교이므로 이에 대한 평균을 구함. Mean Squared Error.\n",
        "- 평균을 구하는 이유는 N개의 y와 y-prediction 간의 차이를 평균 낸 것이 바로 loss 값."
      ],
      "metadata": {
        "id": "xCVejKnbLOuR"
      }
    },
    {
      "cell_type": "markdown",
      "source": [
        "## Binary Classification\n",
        "Regression이 시험 점수를 예측하는 것이라면, Binary classification은 시험에 합격하거나 불합격하는 것을 분류한다. 따라서 y값이 0 또는 1로 구성되어 있다.\n",
        "\n",
        "<img src=\"https://drive.google.com/uc?export=download&id=1EHrRo6N85cXcgb4Loz4U3dijtbXUW5Sx\">\n",
        "\n"
      ],
      "metadata": {
        "id": "_nDCkgZ6UFBS"
      }
    },
    {
      "cell_type": "markdown",
      "source": [
        "## Binary Cross Entropy\n",
        "<img src=\"https://drive.google.com/uc?export=download&id=1evwtFpgWjbgF6EDdolxsf6nyTj5dkQ6H\">\n",
        "\n",
        "- y = 1 인 경우, $(1-y)log(1-\\hat{y}) = 0$이 된다.\n",
        "- 따라서 $-log(\\hat{y})$ 항만 남게 된다.\n",
        "- -log 함수는 입력이 1에 가까워질수록 출력이 0에 수렴하고, 입력이 0에 가까워질수록 출력이 무한히 발산한다.\n",
        "\n",
        "<img src=\"https://drive.google.com/uc?export=download&id=1KSTtR1PKAnQ1ZGlaxxe_18tCLtJT3zNJ\">\n",
        "\n",
        "- y = 0 인경우, $ylog(\\hat{y})$ 항이 0이 된다.  \n",
        "- 따라서 $-log(1-\\hat{y})$ 항만 남게 된다.\n",
        "- $-log(1-\\hat{y})$ 함수는 입력값이 1에 가까워질수록 함수값은 무한히 발산. 입력값이 0에 가까워질수록 함수값은 0에 수렴한다.\n",
        "\n",
        "<img src=\"https://drive.google.com/uc?export=download&id=11Tqme2ytnSfX3I_aArHoYUJQt3MzltOy\">"
      ],
      "metadata": {
        "id": "2IuATm6hU0fH"
      }
    },
    {
      "cell_type": "markdown",
      "source": [
        "<img src=\"https://drive.google.com/uc?export=download&id=1rohBqwsj2ujkCIYlCSoJMgRjQ2-d85Ye\">\n",
        "<img src=\"https://drive.google.com/uc?export=download&id=1UElDXIkw1Y3HTgrariXNBheUCqvuV2A8\">\n",
        "\n",
        "- 마지막 layer의 출력값 형태가 벡터가 아닌 하나의 값이므로 1개 뉴런으로 구성되어야 함.\n",
        "- Binary Cross Entropy는 결국 $\\hat{y}$의 값이 0 ~ 1 범위에서 어떤 값인지가 중요하므로, 마지막 layer를 통해 얻은 logit이 probability가 되어야 함.\n",
        "- 따라서 마지막 layer의 activation function은 sigmoid가 된다."
      ],
      "metadata": {
        "id": "obQytjB4WYEC"
      }
    },
    {
      "cell_type": "markdown",
      "source": [
        "## Multi-class Classification\n",
        "<img src=\"https://drive.google.com/uc?export=download&id=1lr--YUxgthwVJesJGVUClFvOH3db265I\">\n",
        "<img src=\"https://drive.google.com/uc?export=download&id=1_cgNx8FUJ2EkJtbVj2APg8pSf9I1LG2X\">\n",
        "\n",
        "multi-class classification은 K개의 class에 대한 분류를 진행한다.  \n",
        "class 값을 단순히 정수의 형태로 y로 사용할 수 있지만, 보통은 One-hot encoding을 적용하여 사용한다.\n",
        "\n",
        "one-hot encoding을 적용하면 정수값 y가 class index에 해당하는 값만 1이고 나머지는 0인 row vector로 변환된다.  \n",
        "따라서, minibatch 형태로 입력이 진행되면 N개의 K차원의 row vector로 구성된 matrix가 입력된다."
      ],
      "metadata": {
        "id": "PPAgmCMbdfm8"
      }
    },
    {
      "cell_type": "markdown",
      "source": [
        "## Categorical Cross Entropy\n",
        "<img src=\"https://drive.google.com/uc?export=download&id=1s2i-DLyj7hyAJIYFXVQtKnqR18bVqQ4_\">\n",
        "<img src=\"https://drive.google.com/uc?export=download&id=1RAKAG5SNIqS7REHgqW3XhgNhtulubyBJ\">\n",
        "\n",
        "- 입력 y의 형태가 one-hot encoding을 통해 row vector 형태임.\n",
        "- 마지막 layer는 activation function이 없으며, K차원의 row logit vector를 출력한다.\n",
        "- 이를 softmax 함수를 통해 K차원의 row probability vector를 구할 수 있다.\n",
        "- 따라서 y row vector와 y-pred row vector를 입력으로 받는다."
      ],
      "metadata": {
        "id": "CYUw39PGe97q"
      }
    },
    {
      "cell_type": "markdown",
      "source": [
        "<img src=\"https://drive.google.com/uc?export=download&id=1ptmcJ3nG5Hizy_CSS0eXi41f71fExjiH\">\n",
        "<img src=\"https://drive.google.com/uc?export=download&id=1OWpDF4PlSOnyGfLBQYI3V8RB8FW9okp2\">\n",
        "\n",
        "- 마찬가지로 minibatch로 입력이 되면, batch size로 나눗셈을 해서 평균을 구함.\n",
        "- 평균을 구하는 이유는 N개의 y와 y-prediction 간의 차이를 평균 낸 것이 바로 loss 값."
      ],
      "metadata": {
        "id": "bEKdA0T5gdd1"
      }
    },
    {
      "cell_type": "code",
      "execution_count": 5,
      "metadata": {
        "colab": {
          "base_uri": "https://localhost:8080/"
        },
        "id": "-drT0QiP3UXi",
        "outputId": "a2abe8c1-845f-4e5a-93f2-f92dd77b1aa3"
      },
      "outputs": [
        {
          "output_type": "stream",
          "name": "stdout",
          "text": [
            "(8, 5) (5,) (1,)\n",
            "X : (8, 5) \n",
            " [[-1.4930753   1.3345237  -0.91198444 -0.50894606 -0.6075962 ]\n",
            " [ 1.3073512  -1.7033762  -0.72343546  1.8242912   1.7353021 ]\n",
            " [ 0.361023    0.8645596  -0.19657306 -2.360987    0.40157598]\n",
            " [ 3.1990354   1.7235271   0.8566709  -0.70381325  0.1907561 ]\n",
            " [-0.12984852 -0.82439935 -0.46054646  2.1541405   1.5393333 ]\n",
            " [-0.4477212  -1.7297351   1.2450572   0.9209218  -0.280761  ]\n",
            " [-0.23906367 -0.4622468   0.8814835  -1.2936985  -2.3412263 ]\n",
            " [ 0.19042341  0.33515307  1.7220889  -2.3718932   0.4755156 ]]\n",
            "Y : (8,) \n",
            " [ 3.3662534 21.703968   4.064355  17.35463   23.152943  12.107862\n",
            " -5.400033   8.917002 ]\n"
          ]
        }
      ],
      "source": [
        "## Regression dataset 만들기\n",
        "\n",
        "import tensorflow as tf\n",
        "\n",
        "N, n_feature = 8, 5\n",
        "target_weights = tf.constant([1,2,3,4,5], dtype=tf.float32)\n",
        "target_bias = tf.constant([10], dtype=tf.float32)\n",
        "\n",
        "X = tf.random.normal(mean=0, stddev=1, shape=(N, n_feature))\n",
        "print(X.shape, target_weights.shape, target_bias.shape)\n",
        "\n",
        "Y = tf.reduce_sum(X * target_weights, axis=1) + target_bias\n",
        "print(f\"X : {X.shape} \\n {X}\")\n",
        "print(f\"Y : {Y.shape} \\n {Y}\")"
      ]
    },
    {
      "cell_type": "code",
      "source": [
        "## Binary Classification\n",
        "\n",
        "N, n_feature = 8, 5\n",
        "target_weights = tf.constant([1,2,3,4,5], dtype=tf.float32)\n",
        "target_bias = tf.constant([10], dtype=tf.float32)\n",
        "\n",
        "X = tf.random.normal(mean=0, stddev=1, shape=(N, n_feature))\n",
        "print(X.shape, target_weights.shape, target_bias.shape)\n",
        "\n",
        "Y = tf.reduce_sum(X * target_weights, axis=1) + target_bias\n",
        "Y = tf.cast(Y > 5, tf.int32)\n",
        "\n",
        "print(f\"X : {X.shape} \\n {X}\")\n",
        "print(f\"Y : {Y.shape} \\n {Y}\")"
      ],
      "metadata": {
        "colab": {
          "base_uri": "https://localhost:8080/"
        },
        "id": "_YwrSLVkkJUl",
        "outputId": "4888e486-298b-40da-c575-7031547297a2"
      },
      "execution_count": 6,
      "outputs": [
        {
          "output_type": "stream",
          "name": "stdout",
          "text": [
            "(8, 5) (5,) (1,)\n",
            "X : (8, 5) \n",
            " [[ 0.7338259  -2.6979623   0.42889762 -0.11676811 -0.8810875 ]\n",
            " [-0.7275572   0.7166105  -0.67742765 -0.05018659  0.3451025 ]\n",
            " [-0.55070496  0.11507922 -0.92022514  0.44090533  0.02984732]\n",
            " [ 0.55044484 -1.6003379  -1.3094425   0.5353948   0.7739458 ]\n",
            " [-0.37567943 -0.41217077  0.34747136  0.59330016 -1.2117082 ]\n",
            " [-0.5236824  -0.9172348  -0.6039777  -0.00440334 -0.09082987]\n",
            " [ 0.31754997 -0.4484668   1.0320437   0.0755452  -0.21272524]\n",
            " [ 0.60493803 -0.4409681   0.13188781 -2.0074198  -0.5371016 ]]\n",
            "Y : (8,) \n",
            " [0 1 1 1 1 1 1 0]\n"
          ]
        }
      ]
    },
    {
      "cell_type": "code",
      "source": [
        "## Multi-class classification\n",
        "import matplotlib.pyplot as plt\n",
        "plt.style.use(\"seaborn\")\n",
        "\n",
        "N, n_features = 5, 2\n",
        "n_class = 5\n",
        "\n",
        "X = tf.zeros(shape=(0, n_features))\n",
        "Y = tf.zeros(shape=(0, 1), dtype=tf.int32)\n",
        "\n",
        "fig, ax = plt.subplots(figsize=(5, 5))\n",
        "for class_idx in range(n_class):\n",
        "    center = tf.random.uniform(minval=-15, maxval=15, shape=(2, ))\n",
        "    # ax.scatter(center[0], center[1])\n",
        "\n",
        "    x1 = center[0] + tf.random.normal(shape=(N, 1))\n",
        "    x2 = center[1] + tf.random.normal(shape=(N, 1))\n",
        "\n",
        "    x = tf.concat((x1, x2), axis=1)\n",
        "    y = class_idx * tf.ones(shape=(N, 1), dtype=tf.int32)\n",
        "    \n",
        "    ax.scatter(x[:, 0].numpy(), x[:, 1].numpy(), alpha=0.3)\n",
        "\n",
        "    X = tf.concat((X, x), axis=0)\n",
        "    Y = tf.concat((Y, y), axis=0)\n",
        "\n",
        "print(f\"X : {X.shape} \\n {X}\")\n",
        "print(f\"Y : {Y.shape} \\n {Y}\")"
      ],
      "metadata": {
        "colab": {
          "base_uri": "https://localhost:8080/",
          "height": 1000
        },
        "id": "ohnJJIv7mcbu",
        "outputId": "8ee81460-1a19-4995-9d9b-50c3ec81f8bf"
      },
      "execution_count": 16,
      "outputs": [
        {
          "output_type": "stream",
          "name": "stdout",
          "text": [
            "X : (25, 2) \n",
            " [[ 11.046533  -11.880659 ]\n",
            " [ 10.555666  -12.21824  ]\n",
            " [ 11.096873  -10.651361 ]\n",
            " [ 10.912307  -11.311633 ]\n",
            " [ 11.959689  -12.779601 ]\n",
            " [ -7.282735   10.901099 ]\n",
            " [-10.65052     9.435011 ]\n",
            " [-11.123463    9.558871 ]\n",
            " [-10.160439    7.626721 ]\n",
            " [ -8.595537    6.7262373]\n",
            " [  4.3915453  -4.4666266]\n",
            " [  1.3293138  -5.92636  ]\n",
            " [  2.3212798  -5.0178766]\n",
            " [  1.9159001  -3.0308697]\n",
            " [  1.2414168  -3.6302023]\n",
            " [  4.607026    3.8518577]\n",
            " [  5.480746    2.7388244]\n",
            " [  7.5838137   2.9340532]\n",
            " [  5.515619    1.162799 ]\n",
            " [  5.1609316   1.657093 ]\n",
            " [-12.572742    2.991971 ]\n",
            " [-12.094378    3.22445  ]\n",
            " [-10.9322405   2.9442923]\n",
            " [-11.483671    3.4578552]\n",
            " [-11.418629    3.422646 ]]\n",
            "Y : (25, 1) \n",
            " [[0]\n",
            " [0]\n",
            " [0]\n",
            " [0]\n",
            " [0]\n",
            " [1]\n",
            " [1]\n",
            " [1]\n",
            " [1]\n",
            " [1]\n",
            " [2]\n",
            " [2]\n",
            " [2]\n",
            " [2]\n",
            " [2]\n",
            " [3]\n",
            " [3]\n",
            " [3]\n",
            " [3]\n",
            " [3]\n",
            " [4]\n",
            " [4]\n",
            " [4]\n",
            " [4]\n",
            " [4]]\n"
          ]
        },
        {
          "output_type": "display_data",
          "data": {
            "text/plain": [
              "<Figure size 360x360 with 1 Axes>"
            ],
            "image/png": "[encoded data removed]"
          },
          "metadata": {}
        }
      ]
    },
    {
      "cell_type": "code",
      "source": [
        "## Multi-class classification + one-hot encoding\n",
        "import matplotlib.pyplot as plt\n",
        "plt.style.use(\"seaborn\")\n",
        "\n",
        "N, n_features = 5, 2\n",
        "n_class = 5\n",
        "\n",
        "X = tf.zeros(shape=(0, n_features))\n",
        "Y = tf.zeros(shape=(0, ), dtype=tf.int32)\n",
        "\n",
        "fig, ax = plt.subplots(figsize=(5, 5))\n",
        "for class_idx in range(n_class):\n",
        "    center = tf.random.uniform(minval=-15, maxval=15, shape=(2, ))\n",
        "    # ax.scatter(center[0], center[1])\n",
        "\n",
        "    x1 = center[0] + tf.random.normal(shape=(N, 1))\n",
        "    x2 = center[1] + tf.random.normal(shape=(N, 1))\n",
        "\n",
        "    x = tf.concat((x1, x2), axis=1)\n",
        "    y = class_idx * tf.ones(shape=(N, ), dtype=tf.int32)\n",
        "    \n",
        "    ax.scatter(x[:, 0].numpy(), x[:, 1].numpy(), alpha=0.3)\n",
        "\n",
        "    X = tf.concat((X, x), axis=0)\n",
        "    Y = tf.concat((Y, y), axis=0)\n",
        "\n",
        "Y = tf.one_hot(Y, depth=n_class, dtype=tf.int32)\n",
        "print(f\"X : {X.shape} \\n {X}\")\n",
        "print(f\"Y : {Y.shape} \\n {Y}\")"
      ],
      "metadata": {
        "colab": {
          "base_uri": "https://localhost:8080/",
          "height": 1000
        },
        "id": "l7O-CG0Dn22m",
        "outputId": "8be80521-dbac-4b9f-f11a-bae6133cb34c"
      },
      "execution_count": 18,
      "outputs": [
        {
          "output_type": "stream",
          "name": "stdout",
          "text": [
            "X : (25, 2) \n",
            " [[ -6.4813657   3.0444288]\n",
            " [ -5.9439416   2.1291192]\n",
            " [ -4.4869285   3.0390615]\n",
            " [ -4.964936    3.9632192]\n",
            " [ -7.049577    3.894293 ]\n",
            " [  8.166056    5.5032587]\n",
            " [  8.480863    5.933994 ]\n",
            " [ 10.161367    6.3658223]\n",
            " [  9.7490835   5.290667 ]\n",
            " [ 11.508082    7.013811 ]\n",
            " [-12.852167   -8.827892 ]\n",
            " [-14.118063   -7.630522 ]\n",
            " [-13.073804   -7.8005867]\n",
            " [-11.93514    -9.246545 ]\n",
            " [-10.588137  -10.929508 ]\n",
            " [ 10.994567    4.757876 ]\n",
            " [  9.555524    3.0564766]\n",
            " [  8.870576    3.070953 ]\n",
            " [ 12.125554    3.1914067]\n",
            " [ 10.55345     3.7620182]\n",
            " [ 12.610445   -1.8685951]\n",
            " [ 13.786278   -3.013658 ]\n",
            " [ 14.673464   -2.7544942]\n",
            " [ 11.843006   -1.1287723]\n",
            " [ 13.614786   -2.419723 ]]\n",
            "Y : (25, 5) \n",
            " [[1 0 0 0 0]\n",
            " [1 0 0 0 0]\n",
            " [1 0 0 0 0]\n",
            " [1 0 0 0 0]\n",
            " [1 0 0 0 0]\n",
            " [0 1 0 0 0]\n",
            " [0 1 0 0 0]\n",
            " [0 1 0 0 0]\n",
            " [0 1 0 0 0]\n",
            " [0 1 0 0 0]\n",
            " [0 0 1 0 0]\n",
            " [0 0 1 0 0]\n",
            " [0 0 1 0 0]\n",
            " [0 0 1 0 0]\n",
            " [0 0 1 0 0]\n",
            " [0 0 0 1 0]\n",
            " [0 0 0 1 0]\n",
            " [0 0 0 1 0]\n",
            " [0 0 0 1 0]\n",
            " [0 0 0 1 0]\n",
            " [0 0 0 0 1]\n",
            " [0 0 0 0 1]\n",
            " [0 0 0 0 1]\n",
            " [0 0 0 0 1]\n",
            " [0 0 0 0 1]]\n"
          ]
        },
        {
          "output_type": "display_data",
          "data": {
            "text/plain": [
              "<Figure size 360x360 with 1 Axes>"
            ],
            "image/png": "[encoded data removed]"
          },
          "metadata": {}
        }
      ]
    },
    {
      "cell_type": "code",
      "source": [
        "## using dataset object\n",
        "\n",
        "N, n_feature = 100, 5\n",
        "batch_size = 32\n",
        "\n",
        "target_weights = tf.constant([1, 2, 3, 4, 5], dtype=tf.float32)\n",
        "target_bias = tf.constant([10], dtype=tf.float32)\n",
        "\n",
        "X = tf.random.normal(mean=0, stddev=1, shape=(N, n_feature))\n",
        "Y = tf.reduce_sum(X * target_weights, axis=1) + target_bias\n",
        "\n",
        "dataset = tf.data.Dataset.from_tensor_slices((X, Y))\n",
        "dataset = dataset.batch(batch_size)\n",
        "\n",
        "for x, y in dataset:\n",
        "    print(x.shape, y.shape)"
      ],
      "metadata": {
        "colab": {
          "base_uri": "https://localhost:8080/"
        },
        "id": "EAk503wkpmAX",
        "outputId": "401d582b-0db3-4692-9dfa-c5b948368981"
      },
      "execution_count": 20,
      "outputs": [
        {
          "output_type": "stream",
          "name": "stdout",
          "text": [
            "(32, 5) (32,)\n",
            "(32, 5) (32,)\n",
            "(32, 5) (32,)\n",
            "(4, 5) (4,)\n"
          ]
        }
      ]
    },
    {
      "cell_type": "code",
      "source": [
        "## Mean Squared Error\n",
        "\n",
        "loss_object = tf.keras.losses.MeanSquaredError()\n",
        "\n",
        "batch_size = 32\n",
        "predictions = tf.random.normal(shape=(batch_size, 1))\n",
        "labels = tf.random.normal(shape=(batch_size, 1))\n",
        "\n",
        "mse = loss_object(labels, predictions)\n",
        "mse_man = tf.reduce_mean(tf.math.pow(labels - predictions, 2))\n",
        "print(f\"MSE tensorflow : {mse}\")\n",
        "print(f\"MSE manual : {mse_man}\")"
      ],
      "metadata": {
        "colab": {
          "base_uri": "https://localhost:8080/"
        },
        "id": "3JrBuQ0vrKE3",
        "outputId": "70827130-0eb8-4ba5-f20c-9d96858b9c4d"
      },
      "execution_count": 24,
      "outputs": [
        {
          "output_type": "stream",
          "name": "stdout",
          "text": [
            "MSE tensorflow : 2.59311580657959\n",
            "MSE manual : 2.59311580657959\n"
          ]
        }
      ]
    },
    {
      "cell_type": "code",
      "source": [
        "## Mean Squared Error with model\n",
        "\n",
        "batch_size=32\n",
        "N, n_features = 100, 0\n",
        "X = tf.random.normal(shape=(N, n_feature))\n",
        "Y = tf.random.normal(shape=(N, 1))\n",
        "\n",
        "dataset = tf.data.Dataset.from_tensor_slices((X, Y))\n",
        "dataset = dataset.batch(batch_size)\n",
        "\n",
        "dense = tf.keras.layers.Dense(units=1, activation=\"linear\")\n",
        "loss_object = tf.keras.losses.MeanSquaredError()\n",
        "\n",
        "for x, y in dataset:\n",
        "    predictions = dense(x)\n",
        "    loss = loss_object(y, predictions)\n",
        "    print(loss.numpy())"
      ],
      "metadata": {
        "colab": {
          "base_uri": "https://localhost:8080/"
        },
        "id": "tYC0hYPHuIMi",
        "outputId": "a3454f56-5c4a-4290-d69d-6b93b87497e0"
      },
      "execution_count": 25,
      "outputs": [
        {
          "output_type": "stream",
          "name": "stdout",
          "text": [
            "2.67088\n",
            "3.5767403\n",
            "2.0359492\n",
            "5.0128183\n"
          ]
        }
      ]
    },
    {
      "cell_type": "code",
      "source": [
        "## Binary Cross Entropy\n",
        "batch_size = 10\n",
        "n_class = 2\n",
        "\n",
        "predictions = tf.random.uniform(shape=(batch_size, 1), minval=0, maxval=1, dtype=tf.float32)\n",
        "labels = tf.random.uniform(shape=(batch_size, 1), minval=0, maxval=n_class, dtype=tf.int32)\n",
        "\n",
        "print(predictions)\n",
        "print(labels)\n",
        "\n",
        "loss_object = tf.keras.losses.BinaryCrossentropy()\n",
        "loss = loss_object(labels, predictions)\n",
        "\n",
        "labels = tf.cast(labels, tf.float32)\n",
        "bce_man = -(labels*tf.math.log(predictions) + (1 - labels) * tf.math.log(1 - predictions))\n",
        "bce_man = tf.reduce_mean(bce_man)\n",
        "\n",
        "print(f\"BCE : {loss}\")\n",
        "print(f\"BCE man : {bce_man}\")"
      ],
      "metadata": {
        "colab": {
          "base_uri": "https://localhost:8080/"
        },
        "id": "SsVcwo7I1kh9",
        "outputId": "0797b102-fa0a-4e18-bad3-1dad160820ad"
      },
      "execution_count": 31,
      "outputs": [
        {
          "output_type": "stream",
          "name": "stdout",
          "text": [
            "tf.Tensor(\n",
            "[[0.6767442 ]\n",
            " [0.7782978 ]\n",
            " [0.9923327 ]\n",
            " [0.30122685]\n",
            " [0.04045272]\n",
            " [0.2641797 ]\n",
            " [0.6056509 ]\n",
            " [0.35480618]\n",
            " [0.00303745]\n",
            " [0.9727193 ]], shape=(10, 1), dtype=float32)\n",
            "tf.Tensor(\n",
            "[[0]\n",
            " [1]\n",
            " [0]\n",
            " [1]\n",
            " [0]\n",
            " [1]\n",
            " [1]\n",
            " [0]\n",
            " [0]\n",
            " [1]], shape=(10, 1), dtype=int32)\n",
            "BCE : 0.9793401956558228\n",
            "BCE man : 0.9793416857719421\n"
          ]
        }
      ]
    },
    {
      "cell_type": "code",
      "source": [
        "## Binary Cross Entropy with model\n",
        "\n",
        "N, n_feature = 100, 5\n",
        "batch_size = 32\n",
        "\n",
        "target_weights = tf.constant([1, 2, 3, 4, 5], dtype=tf.float32)\n",
        "target_bias = tf.constant([0], dtype=tf.float32)\n",
        "\n",
        "X = tf.random.normal(mean=0, stddev=1, shape=(N, n_feature))\n",
        "Y = tf.reduce_sum(target_weights * X, axis=1) + target_bias\n",
        "Y = tf.cast(Y > 5, tf.int32)\n",
        "\n",
        "dataset = tf.data.Dataset.from_tensor_slices((X, Y))\n",
        "dataset = dataset.batch(batch_size)\n",
        "\n",
        "dense = tf.keras.layers.Dense(units=1, activation=\"sigmoid\")\n",
        "loss_object = tf.keras.losses.BinaryCrossentropy()\n",
        "\n",
        "for x, y in dataset:\n",
        "    predictions = dense(x)\n",
        "    loss = loss_object(y, predictions)\n",
        "    print(loss.numpy())"
      ],
      "metadata": {
        "colab": {
          "base_uri": "https://localhost:8080/"
        },
        "id": "uidA-cQK6uYJ",
        "outputId": "92243c97-b6ed-4023-c802-8d38d28b831b"
      },
      "execution_count": 36,
      "outputs": [
        {
          "output_type": "stream",
          "name": "stdout",
          "text": [
            "0.8150563\n",
            "0.9019711\n",
            "0.9352723\n",
            "1.0338901\n"
          ]
        }
      ]
    },
    {
      "cell_type": "code",
      "source": [
        "## Sparse Categorical Cross Entropy\n",
        "\n",
        "batch_size, n_class = 16, 5\n",
        "\n",
        "predictions = tf.random.uniform(shape=(batch_size, n_class),\n",
        "                                minval=0, maxval=1, \n",
        "                                dtype=tf.float32)\n",
        "\n",
        "pred_sum = tf.reshape(tf.reduce_sum(predictions, axis=1), (-1, 1))\n",
        "predictions = predictions / pred_sum\n",
        "\n",
        "labels = tf.random.uniform(shape=(batch_size, ),\n",
        "                           minval=0, maxval=n_class,\n",
        "                           dtype=tf.int32)\n",
        "\n",
        "loss_object = tf.keras.losses.SparseCategoricalCrossentropy()\n",
        "loss = loss_object(labels, predictions)\n",
        "\n",
        "ce = 0\n",
        "for label, prediction in zip(labels, predictions):\n",
        "    ce += -tf.math.log(prediction[label])\n",
        "\n",
        "ce /= batch_size\n",
        "print(ce.numpy())"
      ],
      "metadata": {
        "colab": {
          "base_uri": "https://localhost:8080/"
        },
        "id": "fgelWKQ3DauU",
        "outputId": "2778ebf0-b289-4d84-cc3f-a7040fde5605"
      },
      "execution_count": 49,
      "outputs": [
        {
          "output_type": "stream",
          "name": "stdout",
          "text": [
            "1.9584482\n"
          ]
        }
      ]
    },
    {
      "cell_type": "code",
      "source": [
        "N, n_features = 100, 2\n",
        "n_class = 5\n",
        "\n",
        "X = tf.zeros(shape=(0, n_features))\n",
        "Y = tf.zeros(shape=(0, 1), dtype=tf.int32)\n",
        "\n",
        "for class_idx in range(n_class):\n",
        "    center = tf.random.uniform(minval=-15, maxval=15, shape=(2, ))\n",
        "\n",
        "    x1 = center[0] + tf.random.normal(shape=(N, 1))\n",
        "    x2 = center[1] + tf.random.normal(shape=(N, 1))\n",
        "\n",
        "    x = tf.concat((x1, x2), axis=1)\n",
        "    y = class_idx * tf.ones(shape=(N, 1), dtype=tf.int32)\n",
        "    \n",
        "    X = tf.concat((X, x), axis=0)\n",
        "    Y = tf.concat((Y, y), axis=0)\n",
        "\n",
        "dataset = tf.data.Dataset.from_tensor_slices((X, Y))\n",
        "dataset = dataset.batch(batch_size)\n",
        "\n",
        "dense = tf.keras.layers.Dense(units=n_class, activation=\"softmax\")\n",
        "loss_object = tf.keras.losses.SparseCategoricalCrossentropy()\n",
        "\n",
        "for x, y in dataset:\n",
        "    predictions = dense(x)\n",
        "    loss = loss_object(y, predictions)\n",
        "    print(loss.numpy())"
      ],
      "metadata": {
        "colab": {
          "base_uri": "https://localhost:8080/"
        },
        "id": "j4uBBY1VEp_j",
        "outputId": "590fa72c-cc9b-4e2a-e744-c5038a01e09d"
      },
      "execution_count": 54,
      "outputs": [
        {
          "output_type": "stream",
          "name": "stdout",
          "text": [
            "5.592183\n",
            "5.588833\n",
            "5.625864\n",
            "5.6471267\n",
            "5.7249603\n",
            "5.817146\n",
            "4.8429933\n",
            "4.6092863\n",
            "4.79323\n",
            "4.396792\n",
            "4.2065177\n",
            "4.49392\n",
            "1.982167\n",
            "0.076511085\n",
            "0.06899251\n",
            "0.087938726\n",
            "0.08928342\n",
            "0.07531454\n",
            "0.61767024\n",
            "2.2443533\n",
            "1.9303048\n",
            "2.1251311\n",
            "1.7862756\n",
            "2.222279\n",
            "1.765198\n",
            "0.01504786\n",
            "0.010954406\n",
            "0.011267267\n",
            "0.012008047\n",
            "0.021366498\n",
            "0.0063185967\n",
            "0.008993806\n"
          ]
        }
      ]
    },
    {
      "cell_type": "code",
      "source": [
        "## Categorical Cross Entropy\n",
        "\n",
        "batch_size, n_class =16, 5\n",
        "\n",
        "predictions = tf.random.uniform(shape=(batch_size, n_class),\n",
        "                                minval=0, maxval=1,\n",
        "                                dtype=tf.float32)\n",
        "\n",
        "pred_sum = tf.reduce_sum(predictions, axis=1) ## row 단위로 더함. 16\n",
        "pred_sum = tf.reshape(pred_sum, (-1, 1)) ## 16, 1\n",
        "predictions = predictions / pred_sum ## row 단위로 합을 나눠주면, row별로 총 합이 1인 prediction으로 만들어짐.\n",
        "\n",
        "labels = tf.random.uniform(shape=(batch_size, ),\n",
        "                           minval=0, maxval=n_class,\n",
        "                           dtype=tf.int32)\n",
        "labels = tf.one_hot(labels, n_class)\n",
        "\n",
        "loss_object = tf.keras.losses.CategoricalCrossentropy()\n",
        "loss = loss_object(labels, predictions)\n",
        "\n",
        "print(\"CCE tensorflow : \", loss.numpy())\n",
        "\n",
        "tmp = tf.reduce_mean(tf.reduce_sum(-labels * tf.math.log(predictions), axis=1))\n",
        "print(\"CCE man : \", tmp.numpy())"
      ],
      "metadata": {
        "colab": {
          "base_uri": "https://localhost:8080/"
        },
        "id": "G3IVF2saQcNu",
        "outputId": "cbf40b63-39fd-456e-9c46-2868ddb87f8f"
      },
      "execution_count": 69,
      "outputs": [
        {
          "output_type": "stream",
          "name": "stdout",
          "text": [
            "CCE tensorflow :  2.267531\n",
            "CCE man :  2.267531\n"
          ]
        }
      ]
    },
    {
      "cell_type": "code",
      "source": [
        "N, n_feature = 8, 2\n",
        "n_class = 5\n",
        "\n",
        "X = tf.zeros(shape=(0, n_feature))\n",
        "Y = tf.zeros(shape=(0, ), dtype=tf.int32)\n",
        "\n",
        "for class_idx in range(n_class):\n",
        "    center = tf.random.uniform(minval=-15, maxval=15, shape=(2, ))\n",
        "    \n",
        "    x1 = center[0] + tf.random.normal(shape=(N, 1))\n",
        "    x2 = center[1] + tf.random.normal(shape=(N, 1))\n",
        "\n",
        "    x = tf.concat((x1, x2), axis=1)\n",
        "    y = class_idx * tf.ones(shape=(N, ), dtype=tf.int32)\n",
        "\n",
        "    X = tf.concat((X, x), axis=0)\n",
        "    Y = tf.concat((Y, y), axis=0)\n",
        "\n",
        "Y = tf.one_hot(Y, depth=n_class, dtype=tf.int32)\n",
        "\n",
        "dataset = tf.data.Dataset.from_tensor_slices((X, Y))\n",
        "dataset = dataset.batch(batch_size)\n",
        "\n",
        "model = tf.keras.layers.Dense(units=n_class, activation=\"softmax\")\n",
        "loss_object = tf.keras.losses.CategoricalCrossentropy()\n",
        "\n",
        "for x, y in dataset:\n",
        "    predictions = model(x)\n",
        "    loss = loss_object(y, predictions)\n",
        "    print(loss.numpy())"
      ],
      "metadata": {
        "colab": {
          "base_uri": "https://localhost:8080/"
        },
        "id": "bFfFcZaDR8lV",
        "outputId": "6e533147-4160-436d-b75f-58f7848c66dd"
      },
      "execution_count": 71,
      "outputs": [
        {
          "output_type": "stream",
          "name": "stdout",
          "text": [
            "2.3614678\n",
            "4.386647\n",
            "5.8316183\n"
          ]
        }
      ]
    },
    {
      "cell_type": "code",
      "source": [
        "batch_size, n_class =16, 5\n",
        "\n",
        "predictions = tf.random.uniform(shape=(batch_size, n_class),\n",
        "                                minval=0, maxval=1,\n",
        "                                dtype=tf.float32) ## 0 ~ 1 사이 값.\n",
        "print(predictions[0])\n",
        "\n",
        "pred_sum = tf.reduce_sum(predictions, axis=1) ## row 단위로 더함. 16\n",
        "print(pred_sum[0])\n",
        "\n",
        "\n",
        "pred_sum = tf.reshape(pred_sum, (-1, 1)) ## 16, 1\n",
        "print(pred_sum[0])\n",
        "\n",
        "\n",
        "predictions = predictions / pred_sum ## row 단위로 합을 나눠주면, row별로 총 합이 1인 prediction으로 만들어짐.\n",
        "print(predictions[0])\n",
        "print(tf.reduce_sum(predictions[0]))"
      ],
      "metadata": {
        "colab": {
          "base_uri": "https://localhost:8080/"
        },
        "id": "Lo6B6h0uVSgU",
        "outputId": "01752335-c255-4fd2-e24e-d707b8c0a5ea"
      },
      "execution_count": 77,
      "outputs": [
        {
          "output_type": "stream",
          "name": "stdout",
          "text": [
            "tf.Tensor([0.920025   0.8870747  0.18793738 0.78301775 0.29404616], shape=(5,), dtype=float32)\n",
            "tf.Tensor(3.0721009, shape=(), dtype=float32)\n",
            "tf.Tensor([3.0721009], shape=(1,), dtype=float32)\n",
            "tf.Tensor([0.29947746 0.2887518  0.06117552 0.25488022 0.09571501], shape=(5,), dtype=float32)\n",
            "tf.Tensor(1.0000001, shape=(), dtype=float32)\n"
          ]
        }
      ]
    },
    {
      "cell_type": "code",
      "source": [],
      "metadata": {
        "id": "kKiLmTkMV2R5"
      },
      "execution_count": null,
      "outputs": []
    }
  ]
}