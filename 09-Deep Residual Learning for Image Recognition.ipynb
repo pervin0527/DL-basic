{
 "cells": [
  {
   "cell_type": "markdown",
   "metadata": {},
   "source": [
    "## 09-ResNet"
   ]
  },
  {
   "cell_type": "markdown",
   "metadata": {},
   "source": [
    "[1.Load Mammal Dataset](#1)\n",
    "- [1-1.Define Dataset Class](#1-1)\n",
    "- [1-2.Define DataLoader](#1-2)\n",
    "\n",
    "[2.Plain Network](#2)\n",
    "- [2-1.Plain BasicBlock](#2-1)\n",
    "- [2-2.Plain BottleNeckBlock](#2-2)\n",
    "- [2-3.Plain Network](#2-3)\n",
    "\n",
    "[3.Residual Learning Network](#3)\n",
    "- [3-1.Residual BasicBlock](#3-1)\n",
    "- [3-2.Residual BottleNeckBlock](#3-2)\n",
    "- [3-3.ResNet](#3-3)\n",
    "\n",
    "[4.Training](#4)\n",
    "- [4-1.Define Functions](#4-1)\n",
    "- [4-2.Train Plain Network](#4-2)\n",
    "- [4-3.Train ResNet](#4-3)"
   ]
  },
  {
   "cell_type": "code",
   "execution_count": 1,
   "metadata": {},
   "outputs": [],
   "source": [
    "import os\n",
    "import cv2\n",
    "import torch\n",
    "import albumentations as A\n",
    "import matplotlib.pyplot as plt\n",
    "\n",
    "from torch import nn\n",
    "from tqdm import tqdm\n",
    "from torchsummary import summary\n",
    "from torch.nn import functional as F\n",
    "from albumentations.pytorch import ToTensorV2\n",
    "from torch.utils.data import Dataset, DataLoader\n",
    "from sklearn.model_selection import train_test_split\n",
    "from torch.optim.lr_scheduler import ReduceLROnPlateau"
   ]
  },
  {
   "cell_type": "code",
   "execution_count": 2,
   "metadata": {},
   "outputs": [],
   "source": [
    "data_dir = \"/home/pervinco/Datasets/mammals-classification/data\"\n",
    "save_dir = \"./runs/mammal-classification/resnet\"\n",
    "\n",
    "epochs = 500\n",
    "batch_size = 64\n",
    "learning_rate = 0.0001 ## 0.0001\n",
    "lr_patience = 10\n",
    "lr_decay_factor = 0.1\n",
    "weight_decay = 0.1 ## 0.09\n",
    "momentum = 0.9\n",
    "\n",
    "num_workers = os.cpu_count()\n",
    "device = torch.device(\"cuda:0\" if torch.cuda.is_available() else \"cpu\")"
   ]
  },
  {
   "cell_type": "markdown",
   "metadata": {},
   "source": [
    "<a id=\"1\"></a>\n",
    "## 1. Load Mamal Dataset"
   ]
  },
  {
   "cell_type": "markdown",
   "metadata": {},
   "source": [
    "<a id=\"1-1\"></a>\n",
    "### 1-1.Define Dataset Class"
   ]
  },
  {
   "cell_type": "markdown",
   "metadata": {},
   "source": [
    "[https://www.kaggle.com/datasets/asaniczka/mammals-image-classification-dataset-45-animals](https://www.kaggle.com/datasets/asaniczka/mammals-image-classification-dataset-45-animals)"
   ]
  },
  {
   "cell_type": "code",
   "execution_count": 3,
   "metadata": {},
   "outputs": [
    {
     "name": "stdout",
     "output_type": "stream",
     "text": [
      "['african_elephant', 'alpaca', 'american_bison', 'anteater', 'arctic_fox', 'armadillo', 'baboon', 'badger', 'blue_whale', 'brown_bear', 'camel', 'dolphin', 'giraffe', 'groundhog', 'highland_cattle', 'horse', 'jackal', 'kangaroo', 'koala', 'manatee', 'mongoose', 'mountain_goat', 'opossum', 'orangutan', 'otter', 'polar_bear', 'porcupine', 'red_panda', 'rhinoceros', 'sea_lion', 'seal', 'snow_leopard', 'squirrel', 'sugar_glider', 'tapir', 'vampire_bat', 'vicuna', 'walrus', 'warthog', 'water_buffalo', 'weasel', 'wildebeest', 'wombat', 'yak', 'zebra']\n"
     ]
    }
   ],
   "source": [
    "classes = sorted(os.listdir(data_dir))\n",
    "print(classes)"
   ]
  },
  {
   "cell_type": "code",
   "execution_count": 4,
   "metadata": {},
   "outputs": [
    {
     "name": "stdout",
     "output_type": "stream",
     "text": [
      "Num of Classes : 45\n",
      "Num of files & labels : 13751, 13751\n",
      "/home/pervinco/Datasets/mammals-classification/data/african_elephant/african_elephant-0125.jpg\n"
     ]
    }
   ],
   "source": [
    "images, labels = [], []\n",
    "for str_label in classes:\n",
    "    img_files = os.listdir(f\"{data_dir}/{str_label}\")\n",
    "    for file in img_files:\n",
    "        if file.endswith(\".jpg\"):\n",
    "            images.append(f\"{data_dir}/{str_label}/{file}\")\n",
    "            labels.append(str_label)\n",
    "\n",
    "print(f\"Num of Classes : {len(classes)}\")\n",
    "print(f\"Num of files & labels : {len(images)}, {len(labels)}\")\n",
    "print(images[0])"
   ]
  },
  {
   "cell_type": "code",
   "execution_count": 5,
   "metadata": {},
   "outputs": [
    {
     "name": "stdout",
     "output_type": "stream",
     "text": [
      "12375 12375\n",
      "1376 1376\n"
     ]
    }
   ],
   "source": [
    "train_x, valid_x, train_y, valid_y = train_test_split(images, labels, test_size=0.1, shuffle=True, random_state=42)\n",
    "\n",
    "print(len(train_x), len(train_y))\n",
    "print(len(valid_x), len(valid_y))"
   ]
  },
  {
   "cell_type": "code",
   "execution_count": 6,
   "metadata": {},
   "outputs": [],
   "source": [
    "class PetDataset(Dataset):\n",
    "    def __init__(self, images, labels, classes, mean=None, std=None, augmentation=False):\n",
    "        self.classes = classes\n",
    "        self.images = images\n",
    "        self.labels = labels\n",
    "\n",
    "        if mean is None:\n",
    "            mean = (0.485, 0.456, 0.406)\n",
    "\n",
    "        if std is None:\n",
    "            std = (0.229, 0.224, 0.225)\n",
    "\n",
    "        if augmentation:\n",
    "            self.augmentation = A.Compose([\n",
    "                A.OneOf([\n",
    "                    A.Resize(224, 224, p=0.5),\n",
    "                    A.SmallestMaxSize(max_size=[256, 512], p=0.5)\n",
    "                ], p=1),\n",
    "                A.RandomCrop(width=224, height=224),\n",
    "\n",
    "                A.HorizontalFlip(p=0.4),\n",
    "                A.RGBShift(p=0.3),\n",
    "\n",
    "                A.ShiftScaleRotate(p=1.0, shift_limit_x=(-0.06, 0.06), shift_limit_y=(-0.06, 0.06), \n",
    "                                   scale_limit=(-0.099, 0.100), \n",
    "                                   rotate_limit=(-180, 180), \n",
    "                                   interpolation=0, \n",
    "                                   border_mode=0, \n",
    "                                   value=(0, 0, 0)),\n",
    "                A.RandomBrightnessContrast(p=1.0, brightness_limit=(-0.2, 0.2), contrast_limit=(-0.2, 0.2), brightness_by_max=True),\n",
    "                A.AdvancedBlur(p=0.35, blur_limit=(3, 7), \n",
    "                               sigmaX_limit=(0.2, 1.0), \n",
    "                               sigmaY_limit=(0.2, 1.0), \n",
    "                               rotate_limit=(-90, 90), \n",
    "                               beta_limit=(0.5, 8.0), \n",
    "                               noise_limit=(0.9, 1.1)),\n",
    "\n",
    "                A.Normalize(mean=mean, std=std),\n",
    "                ToTensorV2()\n",
    "            ])\n",
    "        else:\n",
    "            self.augmentation = A.Compose([\n",
    "                A.Resize(224, 224, p=1),\n",
    "                A.Normalize(mean=mean, std=std),\n",
    "                ToTensorV2()\n",
    "            ])\n",
    "\n",
    "\n",
    "    def __len__(self):\n",
    "        return len(self.images)\n",
    "\n",
    "\n",
    "    def __getitem__(self, idx):\n",
    "        image = self.images[idx]\n",
    "        label = self.labels[idx]\n",
    "\n",
    "        image = cv2.imread(image)\n",
    "        image = cv2.cvtColor(image, cv2.COLOR_BGR2RGB)\n",
    "        label = self.classes.index(label)\n",
    "\n",
    "        image = self.augmentation(image=image)[\"image\"]\n",
    "\n",
    "        return image, label"
   ]
  },
  {
   "cell_type": "code",
   "execution_count": 7,
   "metadata": {},
   "outputs": [],
   "source": [
    "train_dataset = PetDataset(train_x, train_y, classes, augmentation=True)\n",
    "valid_dataset = PetDataset(valid_x, valid_y, classes, augmentation=False)"
   ]
  },
  {
   "cell_type": "markdown",
   "metadata": {},
   "source": [
    "<a id=\"1-2\"></a>\n",
    "### 1-2.Define DataLoader"
   ]
  },
  {
   "cell_type": "code",
   "execution_count": 8,
   "metadata": {},
   "outputs": [],
   "source": [
    "train_dataloder = DataLoader(train_dataset, batch_size=batch_size, shuffle=True, num_workers=num_workers)\n",
    "valid_dataloader = DataLoader(valid_dataset, batch_size=batch_size, num_workers=num_workers)"
   ]
  },
  {
   "cell_type": "markdown",
   "metadata": {},
   "source": [
    "<a id=\"2\"></a>\n",
    "## 2.Build Plain Network"
   ]
  },
  {
   "cell_type": "markdown",
   "metadata": {},
   "source": [
    "<a id=\"2-1\"></a>\n",
    "### 2-1.Plain BasicBlock"
   ]
  },
  {
   "cell_type": "code",
   "execution_count": 9,
   "metadata": {},
   "outputs": [],
   "source": [
    "class PlainBasicBlock(nn.Module):\n",
    "    expansion = 1\n",
    "    def __init__(self, in_channels, out_channels, stride=1):\n",
    "        super().__init__()\n",
    "        self.conv1 = nn.Conv2d(in_channels, out_channels, kernel_size=3, stride=stride, padding=1, bias=False)\n",
    "        self.bn1 = nn.BatchNorm2d(out_channels)\n",
    "\n",
    "        self.conv2 = nn.Conv2d(out_channels, out_channels, kernel_size=3, stride=1, padding=1, bias=False)\n",
    "        self.bn2 = nn.BatchNorm2d(out_channels)\n",
    "\n",
    "        self.relu = nn.ReLU(inplace=True)\n",
    "\n",
    "    def forward(self, x):\n",
    "        x = self.conv1(x)\n",
    "        x = self.bn1(x)\n",
    "        x = self.relu(x)\n",
    "\n",
    "        x = self.conv2(x)\n",
    "        x = self.bn2(x)\n",
    "        x = self.relu(x)\n",
    "\n",
    "        return x"
   ]
  },
  {
   "cell_type": "markdown",
   "metadata": {},
   "source": [
    "<a id=\"2-2\"></a>\n",
    "### 2-2.Plain BottleNeck Block"
   ]
  },
  {
   "cell_type": "code",
   "execution_count": 10,
   "metadata": {},
   "outputs": [],
   "source": [
    "class PlainBottleneck(nn.Module):\n",
    "    expansion = 4\n",
    "    def __init__(self, in_channels, out_channels, stride=1):\n",
    "        super().__init__()\n",
    "        self.conv1 = nn.Conv2d(in_channels, out_channels, kernel_size=1, bias=False)\n",
    "        self.bn1 = nn.BatchNorm2d(out_channels)\n",
    "\n",
    "        self.conv2 = nn.Conv2d(out_channels, out_channels, kernel_size=3, stride=stride, padding=1, bias=False)\n",
    "        self.bn2 = nn.BatchNorm2d(out_channels)\n",
    "\n",
    "        self.conv3 = nn.Conv2d(out_channels, self.expansion*out_channels, kernel_size=1, bias=False)\n",
    "        self.bn3 = nn.BatchNorm2d(self.expansion*out_channels)\n",
    "\n",
    "        self.relu = nn.ReLU(inplace=True)\n",
    "\n",
    "    def forward(self, x):\n",
    "        x = self.conv1(x)\n",
    "        x = self.bn1(x)\n",
    "        x = self.relu(x)\n",
    "\n",
    "        x = self.conv2(x)\n",
    "        x = self.bn2(x)\n",
    "        x = self.relu(x)\n",
    "\n",
    "        x = self.conv3(x)\n",
    "        x = self.bn3(x)\n",
    "        x = self.relu(x)\n",
    "\n",
    "        return x"
   ]
  },
  {
   "cell_type": "markdown",
   "metadata": {},
   "source": [
    "<a id=\"2-3\"></a>\n",
    "### 2-3.Plain Network"
   ]
  },
  {
   "cell_type": "code",
   "execution_count": 11,
   "metadata": {},
   "outputs": [],
   "source": [
    "class PlainNet(nn.Module):\n",
    "    def __init__(self, model_name=\"plainnet18\", num_classes=1000):\n",
    "        super().__init__()\n",
    "        self.in_channels = 64\n",
    "        configs = {\"plainnet18\" : [2, 2, 2, 2],\n",
    "                   \"plainnet34\" : [3, 4, 6, 3],\n",
    "                   \"plainnet50\" : [3, 4, 6, 3],\n",
    "                   \"plainnet101\" : [3, 4, 23, 3],\n",
    "                   \"plainnet152\" : [3, 8, 36, 3]}\n",
    "        \n",
    "        config = configs[model_name]\n",
    "        if model_name in [\"plainnet18\", \"plainnet34\"]:\n",
    "            block = PlainBasicBlock\n",
    "        else:\n",
    "            block = PlainBottleneck\n",
    "\n",
    "        self.conv1 = nn.Conv2d(3, 64, kernel_size=7, stride=2, padding=3, bias=False)\n",
    "        self.bn1 = nn.BatchNorm2d(64)\n",
    "        self.maxpool = nn.MaxPool2d(kernel_size=3, stride=2, padding=1)\n",
    "\n",
    "        self.layer1 = self._make_layer(block, 64, config[0], stride=1)\n",
    "        self.layer2 = self._make_layer(block, 128, config[1], stride=2)\n",
    "        self.layer3 = self._make_layer(block, 256, config[2], stride=2)\n",
    "        self.layer4 = self._make_layer(block, 512, config[3], stride=2)\n",
    "\n",
    "        self.avgpool = nn.AdaptiveAvgPool2d((1, 1))\n",
    "        self.fc = nn.Linear(512 * block.expansion, num_classes)\n",
    "\n",
    "        self.relu = nn.ReLU(inplace=True)\n",
    "\n",
    "    def _make_layer(self, block, out_channels, num_blocks, stride):\n",
    "        strides = [stride] + [1]*(num_blocks-1)\n",
    "        layers = []\n",
    "        for stride in strides:\n",
    "            layers.append(block(self.in_channels, out_channels, stride))\n",
    "            self.in_channels = out_channels * block.expansion\n",
    "        return nn.Sequential(*layers)\n",
    "\n",
    "    def forward(self, x):\n",
    "        x = self.conv1(x)\n",
    "        x = self.bn1(x)\n",
    "        x = self.relu(x)\n",
    "        x = self.maxpool(x)\n",
    "\n",
    "        x = self.layer1(x)\n",
    "        x = self.layer2(x)\n",
    "        x = self.layer3(x)\n",
    "        x = self.layer4(x)\n",
    "\n",
    "        x = self.avgpool(x)\n",
    "        x = x.view(x.size(0), -1)\n",
    "        x = self.fc(x)\n",
    "        \n",
    "        return x"
   ]
  },
  {
   "cell_type": "markdown",
   "metadata": {},
   "source": [
    "<a id=\"3\"></a>\n",
    "## 3.Residual Learning Network"
   ]
  },
  {
   "cell_type": "markdown",
   "metadata": {},
   "source": [
    "<a id=\"3-1\"></a>\n",
    "### 3-1.Residual BasicBlock"
   ]
  },
  {
   "cell_type": "code",
   "execution_count": 12,
   "metadata": {},
   "outputs": [],
   "source": [
    "class BasicBlock(nn.Module):\n",
    "    expansion = 1\n",
    "\n",
    "    def __init__(self, in_channels, out_channels, stride=1, downsample=None):\n",
    "        super(BasicBlock, self).__init__()\n",
    "        self.stride = stride\n",
    "        self.downsample = downsample\n",
    "\n",
    "        self.conv1 = nn.Conv2d(in_channels, out_channels, kernel_size=3, stride=stride, padding=1, bias=False)\n",
    "        self.bn1 = nn.BatchNorm2d(out_channels)\n",
    "\n",
    "        self.conv2 = nn.Conv2d(out_channels, out_channels, kernel_size=3, padding=1, bias=False)\n",
    "        self.bn2 = nn.BatchNorm2d(out_channels)\n",
    "\n",
    "        self.relu = nn.ReLU(inplace=True)\n",
    "\n",
    "    def forward(self, x):\n",
    "        identity = x\n",
    "\n",
    "        out = self.conv1(x)\n",
    "        out = self.bn1(out)\n",
    "        out = self.relu(out)\n",
    "\n",
    "        out = self.conv2(out)\n",
    "        out = self.bn2(out)\n",
    "\n",
    "        if self.downsample is not None:\n",
    "            identity = self.downsample(x)\n",
    "\n",
    "        out += identity\n",
    "        out = self.relu(out)\n",
    "\n",
    "        return out\n"
   ]
  },
  {
   "cell_type": "markdown",
   "metadata": {},
   "source": [
    "<a id=\"3-2\"></a>\n",
    "### 3-2.Residual BottleNeckBlock"
   ]
  },
  {
   "cell_type": "code",
   "execution_count": 13,
   "metadata": {},
   "outputs": [],
   "source": [
    "class Bottleneck(nn.Module):\n",
    "    expansion = 4\n",
    "\n",
    "    def __init__(self, in_channels, out_channels, stride=1, downsample=None):\n",
    "        super().__init__()\n",
    "        self.stride = stride\n",
    "        self.downsample = downsample\n",
    "        \n",
    "        self.conv1 = nn.Conv2d(in_channels, out_channels, kernel_size=1, bias=False)\n",
    "        self.bn1 = nn.BatchNorm2d(out_channels)\n",
    "\n",
    "        self.conv2 = nn.Conv2d(out_channels, out_channels, kernel_size=3, stride=stride, padding=1, bias=False)\n",
    "        self.bn2 = nn.BatchNorm2d(out_channels)\n",
    "\n",
    "        self.conv3 = nn.Conv2d(out_channels, out_channels * self.expansion, kernel_size=1, bias=False)\n",
    "        self.bn3 = nn.BatchNorm2d(out_channels * self.expansion)\n",
    "\n",
    "        self.relu = nn.ReLU(inplace=True)\n",
    "\n",
    "    def forward(self, x):\n",
    "        identity = x\n",
    "\n",
    "        out = self.conv1(x)\n",
    "        out = self.bn1(out)\n",
    "        out = self.relu(out)\n",
    "\n",
    "        out = self.conv2(out)\n",
    "        out = self.bn2(out)\n",
    "        out = self.relu(out)\n",
    "\n",
    "        out = self.conv3(out)\n",
    "        out = self.bn3(out)\n",
    "\n",
    "        if self.downsample is not None:\n",
    "            identity = self.downsample(x)\n",
    "\n",
    "        out += identity\n",
    "        out = self.relu(out)\n",
    "\n",
    "        return out"
   ]
  },
  {
   "cell_type": "markdown",
   "metadata": {},
   "source": [
    "<a id=\"3-3\"></a>\n",
    "### 3-3.ResNet"
   ]
  },
  {
   "cell_type": "code",
   "execution_count": 14,
   "metadata": {},
   "outputs": [],
   "source": [
    "class ResNet(nn.Module):\n",
    "    def __init__(self, model_name, num_classes=1000):\n",
    "        super().__init__()\n",
    "        configs = {\"resnet18\" : [2, 2, 2, 2],\n",
    "                   \"resnet34\" : [3, 4, 6, 3],\n",
    "                   \"resnet50\" : [3, 4, 6, 3],\n",
    "                   \"resnet101\" : [3, 4, 23, 3],\n",
    "                   \"resnet152\" : [3, 8, 36, 3]}\n",
    "        \n",
    "        if model_name in [\"resnet18\", \"resnet34\"]:\n",
    "            block = BasicBlock\n",
    "        else:\n",
    "            block = Bottleneck\n",
    "        \n",
    "        config = configs[model_name]\n",
    "        self.in_channels = 64\n",
    "\n",
    "        self.conv1 = nn.Conv2d(3, 64, kernel_size=7, stride=2, padding=3, bias=False)\n",
    "        self.bn1 = nn.BatchNorm2d(64)\n",
    "        self.relu = nn.ReLU(inplace=True)\n",
    "        self.maxpool = nn.MaxPool2d(kernel_size=3, stride=2, padding=1)\n",
    "        \n",
    "        self.layer1 = self.make_layer(block, 64, config[0])\n",
    "        self.layer2 = self.make_layer(block, 128, config[1], stride=2)\n",
    "        self.layer3 = self.make_layer(block, 256, config[2], stride=2)\n",
    "        self.layer4 = self.make_layer(block, 512, config[3], stride=2)\n",
    "        \n",
    "        self.avgpool = nn.AdaptiveAvgPool2d((1, 1))\n",
    "        self.fc = nn.Linear(512 * block.expansion, num_classes)\n",
    "\n",
    "    def make_layer(self, block, out_channels, blocks, stride=1):\n",
    "        downsample = None\n",
    "        if stride != 1 or self.in_channels != out_channels * block.expansion:\n",
    "            downsample = nn.Sequential(\n",
    "                nn.Conv2d(self.in_channels, out_channels * block.expansion,\n",
    "                          kernel_size=1, stride=stride, bias=False),\n",
    "                nn.BatchNorm2d(out_channels * block.expansion),\n",
    "            )\n",
    "\n",
    "        layers = []\n",
    "        layers.append(block(self.in_channels, out_channels, stride, downsample))\n",
    "        self.in_channels = out_channels * block.expansion\n",
    "        for i in range(1, blocks):\n",
    "            layers.append(block(self.in_channels, out_channels))\n",
    "\n",
    "        return nn.Sequential(*layers)\n",
    "\n",
    "    def forward(self, x):\n",
    "        x = self.conv1(x)\n",
    "        x = self.bn1(x)\n",
    "        x = self.relu(x)\n",
    "        x = self.maxpool(x)\n",
    "\n",
    "        x = self.layer1(x)\n",
    "        x = self.layer2(x)\n",
    "        x = self.layer3(x)\n",
    "        x = self.layer4(x)\n",
    "\n",
    "        x = self.avgpool(x)\n",
    "        x = torch.flatten(x, 1)\n",
    "        x = self.fc(x)\n",
    "\n",
    "        return x"
   ]
  },
  {
   "cell_type": "markdown",
   "metadata": {},
   "source": [
    "<a id=\"4\"></a>\n",
    "## 4.Training"
   ]
  },
  {
   "cell_type": "markdown",
   "metadata": {},
   "source": [
    "<a id=\"4-1\"></a>\n",
    "### 4-1.Define Functions"
   ]
  },
  {
   "cell_type": "code",
   "execution_count": 15,
   "metadata": {},
   "outputs": [],
   "source": [
    "def train(model, dataloader, criterion, optimizer, device):\n",
    "    model.train()\n",
    "\n",
    "    train_cost, train_acc = 0.0, 0.0\n",
    "    for x, y in tqdm(dataloader, desc=\"Train\", leave=False):\n",
    "        x, y = x.to(device), y.to(device)\n",
    "\n",
    "        optimizer.zero_grad()\n",
    "        y_pred = model(x)\n",
    "\n",
    "        cost = criterion(y_pred, y)\n",
    "        cost.backward()\n",
    "        optimizer.step()\n",
    "\n",
    "        train_cost += cost.item() * x.size(0)\n",
    "\n",
    "        _, pred_labels = torch.max(y_pred, 1)\n",
    "        train_acc += (pred_labels == y).sum().item()\n",
    "\n",
    "    train_cost /= len(dataloader.dataset)\n",
    "    train_acc /= len(dataloader.dataset)\n",
    "\n",
    "    return train_cost, train_acc\n",
    "\n",
    "\n",
    "def valid(model, dataloader, criterion, device):\n",
    "    model.eval()\n",
    "\n",
    "    valid_cost, valid_acc = 0.0, 0.0\n",
    "    with torch.no_grad():\n",
    "        for x, y in tqdm(dataloader, desc=\"Valid\", leave=False):\n",
    "            x, y = x.to(device), y.to(device)\n",
    "            y_pred = model(x)\n",
    "\n",
    "            cost = criterion(y_pred, y)\n",
    "\n",
    "            valid_cost += cost.item() * x.size(0)\n",
    "\n",
    "            _, pred_labels = torch.max(y_pred, 1)\n",
    "            valid_acc += (pred_labels == y).sum().item()\n",
    "\n",
    "        valid_cost /= len(dataloader.dataset)\n",
    "        valid_acc /= len(dataloader.dataset)\n",
    "\n",
    "    return valid_cost, valid_acc"
   ]
  },
  {
   "cell_type": "markdown",
   "metadata": {},
   "source": [
    "<a id=\"4-2\"></a>\n",
    "### 4-2.Train Plain Network"
   ]
  },
  {
   "cell_type": "code",
   "execution_count": 16,
   "metadata": {},
   "outputs": [
    {
     "name": "stderr",
     "output_type": "stream",
     "text": [
      "                                                        \r"
     ]
    },
    {
     "name": "stdout",
     "output_type": "stream",
     "text": [
      "Epoch : 0 | 500\n",
      "\tTrain Loss : 3.8062, Train Acc : 0.0287\n",
      "\tValid Loss : 3.7848, Valid Acc : 0.0240\n"
     ]
    },
    {
     "name": "stderr",
     "output_type": "stream",
     "text": [
      "                                                        \r"
     ]
    },
    {
     "name": "stdout",
     "output_type": "stream",
     "text": [
      "Epoch : 10 | 500\n",
      "\tTrain Loss : 3.6119, Train Acc : 0.0677\n",
      "\tValid Loss : 3.5810, Valid Acc : 0.0981\n"
     ]
    },
    {
     "name": "stderr",
     "output_type": "stream",
     "text": [
      "                                                        \r"
     ]
    },
    {
     "name": "stdout",
     "output_type": "stream",
     "text": [
      "Epoch : 20 | 500\n",
      "\tTrain Loss : 3.4403, Train Acc : 0.1133\n",
      "\tValid Loss : 3.3714, Valid Acc : 0.1214\n"
     ]
    },
    {
     "name": "stderr",
     "output_type": "stream",
     "text": [
      "                                                        \r"
     ]
    },
    {
     "name": "stdout",
     "output_type": "stream",
     "text": [
      "Epoch : 30 | 500\n",
      "\tTrain Loss : 3.3558, Train Acc : 0.1390\n",
      "\tValid Loss : 3.2911, Valid Acc : 0.1366\n"
     ]
    },
    {
     "name": "stderr",
     "output_type": "stream",
     "text": [
      "                                                        \r"
     ]
    },
    {
     "name": "stdout",
     "output_type": "stream",
     "text": [
      "Epoch : 40 | 500\n",
      "\tTrain Loss : 3.2861, Train Acc : 0.1601\n",
      "\tValid Loss : 3.2141, Valid Acc : 0.1824\n"
     ]
    },
    {
     "name": "stderr",
     "output_type": "stream",
     "text": [
      "                                                        \r"
     ]
    },
    {
     "name": "stdout",
     "output_type": "stream",
     "text": [
      "Epoch : 50 | 500\n",
      "\tTrain Loss : 3.2583, Train Acc : 0.1796\n",
      "\tValid Loss : 3.2258, Valid Acc : 0.1642\n"
     ]
    },
    {
     "name": "stderr",
     "output_type": "stream",
     "text": [
      "                                                        \r"
     ]
    },
    {
     "name": "stdout",
     "output_type": "stream",
     "text": [
      "Epoch : 60 | 500\n",
      "\tTrain Loss : 3.2209, Train Acc : 0.2018\n",
      "\tValid Loss : 3.1743, Valid Acc : 0.1984\n"
     ]
    },
    {
     "name": "stderr",
     "output_type": "stream",
     "text": [
      "                                                        "
     ]
    },
    {
     "name": "stdout",
     "output_type": "stream",
     "text": [
      "Early stopping triggered after epoch 67 due to no improvement in validation loss\n"
     ]
    },
    {
     "name": "stderr",
     "output_type": "stream",
     "text": [
      "\r"
     ]
    }
   ],
   "source": [
    "plain_model = PlainNet(\"plainnet34\", num_classes=len(classes))\n",
    "plain_model = plain_model.to(device)\n",
    "\n",
    "criterion = nn.CrossEntropyLoss()\n",
    "optimizer = torch.optim.SGD(plain_model.parameters(), lr=learning_rate, momentum=momentum, weight_decay=weight_decay)\n",
    "scheduler = ReduceLROnPlateau(optimizer, mode='min', factor=lr_decay_factor, patience=lr_patience, verbose=True)\n",
    "\n",
    "train_costs, train_accs = [], []\n",
    "valid_costs, valid_accs = [], []\n",
    "early_stop_counter = 0\n",
    "early_stop_patience = 10\n",
    "best_valid_cost = float('inf')\n",
    "for epoch in range(epochs):\n",
    "    train_cost, train_acc = train(plain_model, train_dataloder, criterion, optimizer, device)\n",
    "    valid_cost, valid_acc = valid(plain_model, valid_dataloader, criterion, device)\n",
    "\n",
    "    if epoch % 10 == 0 or epoch == epochs:\n",
    "        print(f\"Epoch : {epoch} | {epochs}\")\n",
    "        print(f\"\\tTrain Loss : {train_cost:.4f}, Train Acc : {train_acc:.4f}\")\n",
    "        print(f\"\\tValid Loss : {valid_cost:.4f}, Valid Acc : {valid_acc:.4f}\")\n",
    "\n",
    "    train_costs.append(train_cost)\n",
    "    valid_costs.append(valid_cost)\n",
    "    train_accs.append(train_acc)\n",
    "    valid_accs.append(valid_acc)\n",
    "\n",
    "    ## Early Stopping\n",
    "    if valid_cost < best_valid_cost:\n",
    "        best_valid_cost = valid_cost\n",
    "        early_stop_counter = 0\n",
    "    else:\n",
    "        early_stop_counter += 1\n",
    "    \n",
    "    if early_stop_counter >= early_stop_patience:\n",
    "        print(f\"Early stopping triggered after epoch {epoch} due to no improvement in validation loss\")\n",
    "        break  # Break out of the loop to stop training\n",
    "\n",
    "    scheduler.step(valid_cost)"
   ]
  },
  {
   "cell_type": "code",
   "execution_count": 17,
   "metadata": {},
   "outputs": [
    {
     "data": {
      "image/png": "[encoded data removed]",
      "text/plain": [
       "<Figure size 1000x500 with 1 Axes>"
      ]
     },
     "metadata": {},
     "output_type": "display_data"
    }
   ],
   "source": [
    "plt.figure(figsize=(10, 5))\n",
    "plt.plot(train_costs, label='Training cost')\n",
    "plt.plot(valid_costs, label='Validation cost')\n",
    "plt.xlabel('Epochs')\n",
    "plt.ylabel('Cost')\n",
    "plt.legend()\n",
    "plt.title('PlainNet-34')\n",
    "plt.show()"
   ]
  },
  {
   "cell_type": "code",
   "execution_count": 18,
   "metadata": {},
   "outputs": [
    {
     "data": {
      "image/png": "[encoded data removed]",
      "text/plain": [
       "<Figure size 1000x500 with 1 Axes>"
      ]
     },
     "metadata": {},
     "output_type": "display_data"
    }
   ],
   "source": [
    "plt.figure(figsize=(10, 5))\n",
    "plt.plot(train_accs, label='Training accs')\n",
    "plt.plot(valid_accs, label='Validation accs')\n",
    "plt.xlabel('Epochs')\n",
    "plt.ylabel('Accuracy')\n",
    "plt.legend()\n",
    "plt.title('PlainNet-34')\n",
    "plt.show()"
   ]
  },
  {
   "cell_type": "code",
   "execution_count": 19,
   "metadata": {},
   "outputs": [
    {
     "name": "stderr",
     "output_type": "stream",
     "text": [
      "                                                        \r"
     ]
    },
    {
     "name": "stdout",
     "output_type": "stream",
     "text": [
      "Epoch : 0 | 500\n",
      "\tTrain Loss : 3.8110, Train Acc : 0.0275\n",
      "\tValid Loss : 3.8147, Valid Acc : 0.0189\n"
     ]
    },
    {
     "name": "stderr",
     "output_type": "stream",
     "text": [
      "                                                        \r"
     ]
    },
    {
     "name": "stdout",
     "output_type": "stream",
     "text": [
      "Epoch : 10 | 500\n",
      "\tTrain Loss : 3.7362, Train Acc : 0.0441\n",
      "\tValid Loss : 3.6946, Valid Acc : 0.0472\n"
     ]
    },
    {
     "name": "stderr",
     "output_type": "stream",
     "text": [
      "                                                        \r"
     ]
    },
    {
     "name": "stdout",
     "output_type": "stream",
     "text": [
      "Epoch : 20 | 500\n",
      "\tTrain Loss : 3.5863, Train Acc : 0.0677\n",
      "\tValid Loss : 3.5248, Valid Acc : 0.0778\n"
     ]
    },
    {
     "name": "stderr",
     "output_type": "stream",
     "text": [
      "                                                        \r"
     ]
    },
    {
     "name": "stdout",
     "output_type": "stream",
     "text": [
      "Epoch : 30 | 500\n",
      "\tTrain Loss : 3.5204, Train Acc : 0.0844\n",
      "\tValid Loss : 3.4636, Valid Acc : 0.0945\n"
     ]
    },
    {
     "name": "stderr",
     "output_type": "stream",
     "text": [
      "                                                        \r"
     ]
    },
    {
     "name": "stdout",
     "output_type": "stream",
     "text": [
      "Epoch : 40 | 500\n",
      "\tTrain Loss : 3.4601, Train Acc : 0.1051\n",
      "\tValid Loss : 3.4100, Valid Acc : 0.1170\n"
     ]
    },
    {
     "name": "stderr",
     "output_type": "stream",
     "text": [
      "                                                        \r"
     ]
    },
    {
     "name": "stdout",
     "output_type": "stream",
     "text": [
      "Epoch : 50 | 500\n",
      "\tTrain Loss : 3.4089, Train Acc : 0.1177\n",
      "\tValid Loss : 3.3275, Valid Acc : 0.1359\n"
     ]
    },
    {
     "name": "stderr",
     "output_type": "stream",
     "text": [
      "                                                        \r"
     ]
    },
    {
     "name": "stdout",
     "output_type": "stream",
     "text": [
      "Epoch : 60 | 500\n",
      "\tTrain Loss : 3.3734, Train Acc : 0.1270\n",
      "\tValid Loss : 3.2898, Valid Acc : 0.1323\n"
     ]
    },
    {
     "name": "stderr",
     "output_type": "stream",
     "text": [
      "                                                        \r"
     ]
    },
    {
     "name": "stdout",
     "output_type": "stream",
     "text": [
      "Epoch : 70 | 500\n",
      "\tTrain Loss : 3.3265, Train Acc : 0.1412\n",
      "\tValid Loss : 3.2594, Valid Acc : 0.1424\n"
     ]
    },
    {
     "name": "stderr",
     "output_type": "stream",
     "text": [
      "                                                        \r"
     ]
    },
    {
     "name": "stdout",
     "output_type": "stream",
     "text": [
      "Epoch : 80 | 500\n",
      "\tTrain Loss : 3.3007, Train Acc : 0.1446\n",
      "\tValid Loss : 3.2309, Valid Acc : 0.1541\n"
     ]
    },
    {
     "name": "stderr",
     "output_type": "stream",
     "text": [
      "                                                        "
     ]
    },
    {
     "name": "stdout",
     "output_type": "stream",
     "text": [
      "Early stopping triggered after epoch 86 due to no improvement in validation loss\n"
     ]
    },
    {
     "name": "stderr",
     "output_type": "stream",
     "text": [
      "\r"
     ]
    }
   ],
   "source": [
    "plain_model = PlainNet(\"plainnet50\", num_classes=len(classes))\n",
    "plain_model = plain_model.to(device)\n",
    "\n",
    "criterion = nn.CrossEntropyLoss()\n",
    "optimizer = torch.optim.SGD(plain_model.parameters(), lr=learning_rate, momentum=momentum, weight_decay=weight_decay)\n",
    "scheduler = ReduceLROnPlateau(optimizer, mode='min', factor=lr_decay_factor, patience=lr_patience, verbose=True)\n",
    "\n",
    "train_costs, train_accs = [], []\n",
    "valid_costs, valid_accs = [], []\n",
    "early_stop_counter = 0\n",
    "early_stop_patience = 10\n",
    "best_valid_cost = float('inf')\n",
    "for epoch in range(epochs):\n",
    "    train_cost, train_acc = train(plain_model, train_dataloder, criterion, optimizer, device)\n",
    "    valid_cost, valid_acc = valid(plain_model, valid_dataloader, criterion, device)\n",
    "\n",
    "    if epoch % 10 == 0 or epoch == epochs:\n",
    "        print(f\"Epoch : {epoch} | {epochs}\")\n",
    "        print(f\"\\tTrain Loss : {train_cost:.4f}, Train Acc : {train_acc:.4f}\")\n",
    "        print(f\"\\tValid Loss : {valid_cost:.4f}, Valid Acc : {valid_acc:.4f}\")\n",
    "\n",
    "    train_costs.append(train_cost)\n",
    "    valid_costs.append(valid_cost)\n",
    "    train_accs.append(train_acc)\n",
    "    valid_accs.append(valid_acc)\n",
    "\n",
    "    ## Early Stopping\n",
    "    if valid_cost < best_valid_cost:\n",
    "        best_valid_cost = valid_cost\n",
    "        early_stop_counter = 0\n",
    "    else:\n",
    "        early_stop_counter += 1\n",
    "    \n",
    "    if early_stop_counter >= early_stop_patience:\n",
    "        print(f\"Early stopping triggered after epoch {epoch} due to no improvement in validation loss\")\n",
    "        break  # Break out of the loop to stop training\n",
    "\n",
    "    scheduler.step(valid_cost)"
   ]
  },
  {
   "cell_type": "code",
   "execution_count": 20,
   "metadata": {},
   "outputs": [
    {
     "data": {
      "image/png": "[encoded data removed]",
      "text/plain": [
       "<Figure size 1000x500 with 1 Axes>"
      ]
     },
     "metadata": {},
     "output_type": "display_data"
    }
   ],
   "source": [
    "plt.figure(figsize=(10, 5))\n",
    "plt.plot(train_costs, label='Training cost')\n",
    "plt.plot(valid_costs, label='Validation cost')\n",
    "plt.xlabel('Epochs')\n",
    "plt.ylabel('Cost')\n",
    "plt.legend()\n",
    "plt.title('PlainNet-50')\n",
    "plt.show()"
   ]
  },
  {
   "cell_type": "code",
   "execution_count": 21,
   "metadata": {},
   "outputs": [
    {
     "data": {
      "image/png": "[encoded data removed]",
      "text/plain": [
       "<Figure size 1000x500 with 1 Axes>"
      ]
     },
     "metadata": {},
     "output_type": "display_data"
    }
   ],
   "source": [
    "plt.figure(figsize=(10, 5))\n",
    "plt.plot(train_accs, label='Training accs')\n",
    "plt.plot(valid_accs, label='Validation accs')\n",
    "plt.xlabel('Epochs')\n",
    "plt.ylabel('Accuracy')\n",
    "plt.legend()\n",
    "plt.title('PlainNet-50')\n",
    "plt.show()"
   ]
  },
  {
   "cell_type": "markdown",
   "metadata": {},
   "source": [
    "<a id=\"4-3\"></a>\n",
    "### 4-3.Train ResNet"
   ]
  },
  {
   "cell_type": "code",
   "execution_count": 22,
   "metadata": {},
   "outputs": [
    {
     "name": "stderr",
     "output_type": "stream",
     "text": [
      "                                                        \r"
     ]
    },
    {
     "name": "stdout",
     "output_type": "stream",
     "text": [
      "Epoch : 0 | 500\n",
      "\tTrain Loss : 3.8005, Train Acc : 0.0435\n",
      "\tValid Loss : 3.6557, Valid Acc : 0.0698\n"
     ]
    },
    {
     "name": "stderr",
     "output_type": "stream",
     "text": [
      "Train:   0%|          | 0/194 [00:00<?, ?it/s]          Exception ignored in: <function _releaseLock at 0x7fc376cc2320>\n",
      "Traceback (most recent call last):\n",
      "  File \"/home/pervinco/anaconda3/envs/openmmlab/lib/python3.10/logging/__init__.py\", line 228, in _releaseLock\n",
      "    def _releaseLock():\n",
      "KeyboardInterrupt: \n",
      "Train:  74%|███████▎  | 143/194 [00:13<00:03, 16.80it/s]"
     ]
    }
   ],
   "source": [
    "residual_model = ResNet(\"resnet34\", num_classes=len(classes))\n",
    "residual_model = residual_model.to(device)\n",
    "\n",
    "criterion = nn.CrossEntropyLoss()\n",
    "optimizer = torch.optim.SGD(residual_model.parameters(), lr=learning_rate, momentum=momentum, weight_decay=weight_decay)\n",
    "scheduler = ReduceLROnPlateau(optimizer, mode='min', factor=lr_decay_factor, patience=lr_patience, verbose=True)\n",
    "\n",
    "train_costs, train_accs = [], []\n",
    "valid_costs, valid_accs = [], []\n",
    "early_stop_counter = 0\n",
    "early_stop_patience = 10\n",
    "best_valid_cost = float('inf')\n",
    "for epoch in range(epochs):\n",
    "    train_cost, train_acc = train(residual_model, train_dataloder, criterion, optimizer, device)\n",
    "    valid_cost, valid_acc = valid(residual_model, valid_dataloader, criterion, device)\n",
    "\n",
    "    if epoch % 10 == 0 or epoch == epochs:\n",
    "        print(f\"Epoch : {epoch} | {epochs}\")\n",
    "        print(f\"\\tTrain Loss : {train_cost:.4f}, Train Acc : {train_acc:.4f}\")\n",
    "        print(f\"\\tValid Loss : {valid_cost:.4f}, Valid Acc : {valid_acc:.4f}\")\n",
    "\n",
    "    train_costs.append(train_cost)\n",
    "    valid_costs.append(valid_cost)\n",
    "    train_accs.append(train_acc)\n",
    "    valid_accs.append(valid_acc)\n",
    "\n",
    "    ## Early Stopping\n",
    "    if valid_cost < best_valid_cost:\n",
    "        best_valid_cost = valid_cost\n",
    "        early_stop_counter = 0\n",
    "    else:\n",
    "        early_stop_counter += 1\n",
    "    \n",
    "    if early_stop_counter >= early_stop_patience:\n",
    "        print(f\"Early stopping triggered after epoch {epoch} due to no improvement in validation loss\")\n",
    "        break  # Break out of the loop to stop training\n",
    "\n",
    "    scheduler.step(valid_cost)"
   ]
  },
  {
   "cell_type": "code",
   "execution_count": null,
   "metadata": {},
   "outputs": [],
   "source": [
    "plt.figure(figsize=(10, 5))\n",
    "plt.plot(train_costs, label='Training cost')\n",
    "plt.plot(valid_costs, label='Validation cost')\n",
    "plt.xlabel('Epochs')\n",
    "plt.ylabel('Cost')\n",
    "plt.legend()\n",
    "plt.title('ResNet34')\n",
    "plt.show()"
   ]
  },
  {
   "cell_type": "code",
   "execution_count": null,
   "metadata": {},
   "outputs": [],
   "source": [
    "plt.figure(figsize=(10, 5))\n",
    "plt.plot(train_accs, label='Training accs')\n",
    "plt.plot(valid_accs, label='Validation accs')\n",
    "plt.xlabel('Epochs')\n",
    "plt.ylabel('Accuracy')\n",
    "plt.legend()\n",
    "plt.title('ResNet34')\n",
    "plt.show()"
   ]
  },
  {
   "cell_type": "code",
   "execution_count": null,
   "metadata": {},
   "outputs": [],
   "source": [
    "residual_model = ResNet(\"resnet50\", num_classes=len(classes))\n",
    "residual_model = residual_model.to(device)\n",
    "\n",
    "criterion = nn.CrossEntropyLoss()\n",
    "optimizer = torch.optim.SGD(residual_model.parameters(), lr=learning_rate, momentum=momentum, weight_decay=weight_decay)\n",
    "scheduler = ReduceLROnPlateau(optimizer, mode='min', factor=lr_decay_factor, patience=lr_patience, verbose=True)\n",
    "\n",
    "train_costs, train_accs = [], []\n",
    "valid_costs, valid_accs = [], []\n",
    "early_stop_counter = 0\n",
    "early_stop_patience = 10\n",
    "best_valid_cost = float('inf')\n",
    "for epoch in range(epochs):\n",
    "    train_cost, train_acc = train(residual_model, train_dataloder, criterion, optimizer, device)\n",
    "    valid_cost, valid_acc = valid(residual_model, valid_dataloader, criterion, device)\n",
    "\n",
    "    if epoch % 10 == 0 or epoch == epochs:\n",
    "        print(f\"Epoch : {epoch} | {epochs}\")\n",
    "        print(f\"\\tTrain Loss : {train_cost:.4f}, Train Acc : {train_acc:.4f}\")\n",
    "        print(f\"\\tValid Loss : {valid_cost:.4f}, Valid Acc : {valid_acc:.4f}\")\n",
    "\n",
    "    train_costs.append(train_cost)\n",
    "    valid_costs.append(valid_cost)\n",
    "    train_accs.append(train_acc)\n",
    "    valid_accs.append(valid_acc)\n",
    "\n",
    "    ## Early Stopping\n",
    "    if valid_cost < best_valid_cost:\n",
    "        best_valid_cost = valid_cost\n",
    "        early_stop_counter = 0\n",
    "    else:\n",
    "        early_stop_counter += 1\n",
    "    \n",
    "    if early_stop_counter >= early_stop_patience:\n",
    "        print(f\"Early stopping triggered after epoch {epoch} due to no improvement in validation loss\")\n",
    "        break  # Break out of the loop to stop training\n",
    "\n",
    "    scheduler.step(valid_cost)"
   ]
  },
  {
   "cell_type": "code",
   "execution_count": null,
   "metadata": {},
   "outputs": [],
   "source": [
    "plt.figure(figsize=(10, 5))\n",
    "plt.plot(train_costs, label='Training cost')\n",
    "plt.plot(valid_costs, label='Validation cost')\n",
    "plt.xlabel('Epochs')\n",
    "plt.ylabel('Cost')\n",
    "plt.legend()\n",
    "plt.title('ResNet50')\n",
    "plt.show()"
   ]
  },
  {
   "cell_type": "code",
   "execution_count": null,
   "metadata": {},
   "outputs": [],
   "source": [
    "plt.figure(figsize=(10, 5))\n",
    "plt.plot(train_accs, label='Training accs')\n",
    "plt.plot(valid_accs, label='Validation accs')\n",
    "plt.xlabel('Epochs')\n",
    "plt.ylabel('Accuracy')\n",
    "plt.legend()\n",
    "plt.title('ResNet50')\n",
    "plt.show()"
   ]
  }
 ],
 "metadata": {
  "kernelspec": {
   "display_name": "openmmlab",
   "language": "python",
   "name": "python3"
  },
  "language_info": {
   "codemirror_mode": {
    "name": "ipython",
    "version": 3
   },
   "file_extension": ".py",
   "mimetype": "text/x-python",
   "name": "python",
   "nbconvert_exporter": "python",
   "pygments_lexer": "ipython3",
   "version": "3.10.13"
  }
 },
 "nbformat": 4,
 "nbformat_minor": 2
}
