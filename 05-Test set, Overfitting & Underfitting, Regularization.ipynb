{
 "cells": [
  {
   "cell_type": "markdown",
   "metadata": {},
   "source": [
    "# 05-Valid/Test set, Overfitting & Underfitting, Regularization"
   ]
  },
  {
   "cell_type": "markdown",
   "metadata": {},
   "source": [
    "[1.Train/Valid/Test dataset](#1)\n",
    "\n",
    "[2.Define Model & Training](#2)\n",
    "  - [2-1.Forward Propagation](#2-1)\n",
    "  - [2-2.Compute Loss](#2-2)\n",
    "  - [2-3.Back Propagation](#2-3)\n",
    "  - [2-4.Update Parameters](#2-4)\n",
    "  - [2-5.weight initialization](#2-5)\n",
    "  - [2-6.training](#2-6)\n",
    "\n",
    "[3.Weight Regularization](#3)\n",
    "\n",
    "[4.Dropout](#4)\n",
    "\n",
    "[5.Trainig](#5)"
   ]
  },
  {
   "cell_type": "code",
   "execution_count": 1,
   "metadata": {},
   "outputs": [],
   "source": [
    "import math\n",
    "import numpy as np\n",
    "import pandas as pd\n",
    "import matplotlib.pyplot as plt\n",
    "\n",
    "from scipy.special import expit as sigmoid\n",
    "from sklearn.model_selection import train_test_split"
   ]
  },
  {
   "cell_type": "markdown",
   "metadata": {},
   "source": [
    "<a id=\"1\"></a>\n",
    "## 1.Train/Valid/Test dataset"
   ]
  },
  {
   "cell_type": "code",
   "execution_count": 2,
   "metadata": {},
   "outputs": [],
   "source": [
    "df=pd.read_csv(\"/home/pervinco/DL-basic/data/Social_Network_Ads.csv\")\n",
    "df['Gender'] = (df['Gender'] =='Male').astype(int)\n",
    "\n",
    "y = df['Purchased']\n",
    "df = df.drop(columns = ['User ID','Purchased'])"
   ]
  },
  {
   "cell_type": "code",
   "execution_count": 3,
   "metadata": {},
   "outputs": [
    {
     "name": "stdout",
     "output_type": "stream",
     "text": [
      "(3, 360) (1, 360)\n",
      "(3, 40) (1, 40)\n"
     ]
    }
   ],
   "source": [
    "train_x, test_x, train_y, test_y = train_test_split(df, y, test_size=0.1, random_state=0)\n",
    "\n",
    "train_x = np.array(train_x).T\n",
    "train_y = np.expand_dims(train_y, axis=0)\n",
    "\n",
    "test_x = np.array(test_x).T\n",
    "test_y = np.expand_dims(test_y, axis=0)\n",
    "\n",
    "print(train_x.shape, train_y.shape)\n",
    "print(test_x.shape, test_y.shape)"
   ]
  },
  {
   "cell_type": "code",
   "execution_count": 4,
   "metadata": {},
   "outputs": [
    {
     "name": "stdout",
     "output_type": "stream",
     "text": [
      "(3, 357) (1, 357)\n",
      "(3, 3) (1, 3)\n"
     ]
    }
   ],
   "source": [
    "num_valid = int(train_x.shape[0] * 0.1)\n",
    "slice_idx = train_x.shape[0] - num_valid\n",
    "\n",
    "train_x, train_y = train_x[:, slice_idx:], train_y[:, slice_idx:]\n",
    "valid_x, valid_y = train_x[:, :slice_idx], train_y[:, :slice_idx]\n",
    "\n",
    "print(train_x.shape, train_y.shape)\n",
    "print(valid_x.shape, valid_y.shape)"
   ]
  },
  {
   "cell_type": "code",
   "execution_count": 5,
   "metadata": {},
   "outputs": [],
   "source": [
    "def random_mini_batches(X, Y, mini_batch_size=64, seed=0):\n",
    "    np.random.seed(seed)\n",
    "    m = X.shape[1]\n",
    "    mini_batches = []\n",
    "\n",
    "    ## Shuffle\n",
    "    permutation = list(np.random.permutation(m))\n",
    "    shuffled_X = X[:, permutation]\n",
    "    shuffled_Y = Y[:, permutation].reshape((1, m))\n",
    "\n",
    "    num_mini_batches = math.floor(m / mini_batch_size)\n",
    "    for k in range(0, num_mini_batches):\n",
    "        mini_batch_X = shuffled_X[:, k * mini_batch_size : (k + 1) * mini_batch_size]\n",
    "        mini_batch_Y = shuffled_Y[:, k * mini_batch_size : (k + 1) * mini_batch_size]\n",
    "\n",
    "        mini_batch = (mini_batch_X, mini_batch_Y)\n",
    "        mini_batches.append(mini_batch)\n",
    "\n",
    "    ## 마지막 미니배치의 크기가 batch_size와 다른 경우. 나머지 데이터들을 묶어서 미니 배치를 생성.\n",
    "    if m % mini_batch_size != 0:\n",
    "        mini_batch_X = shuffled_X[:, num_mini_batches * mini_batch_size:]\n",
    "        mini_batch_Y = shuffled_Y[:, num_mini_batches * mini_batch_size:]\n",
    "\n",
    "        mini_batch = (mini_batch_X, mini_batch_Y)\n",
    "        mini_batches.append(mini_batch)\n",
    "\n",
    "    return mini_batches"
   ]
  },
  {
   "cell_type": "markdown",
   "metadata": {},
   "source": [
    "<a id=\"2\"></a>\n",
    "## 2.Define Model & Training"
   ]
  },
  {
   "cell_type": "markdown",
   "metadata": {},
   "source": [
    "<a id=\"2-1\"></a>\n",
    "### 2-1. Forward Propagation"
   ]
  },
  {
   "cell_type": "code",
   "execution_count": 6,
   "metadata": {},
   "outputs": [],
   "source": [
    "def forward_propagation(X, parameters):\n",
    "    \"\"\"\n",
    "    Arguments:\n",
    "     - X : input data (n_x, m) n_x는 feature 수, m은 데이터 샘플 수\n",
    "     - parameters : 각 layer의 trainable params dict타입 {\"W1\", \"b1\", ..., \"WL\", \"bL\"}\n",
    "\n",
    "    Returns:\n",
    "     - AL : 출력층(L번째 layer)의 activation feature\n",
    "     - caches : 각 층의 (input, weight, bias, output)\n",
    "    \"\"\"\n",
    "    caches = []\n",
    "    A = X\n",
    "    L = len(parameters) // 2\n",
    "    \n",
    "    # [LINEAR -> RELU]*(L-1)\n",
    "    for l in range(1, L):\n",
    "        A_prev = A \n",
    "        W = parameters['W' + str(l)]\n",
    "        b = parameters['b' + str(l)]\n",
    "        Z = np.dot(W, A_prev) + b\n",
    "        A = np.maximum(0, Z)  # ReLU\n",
    "        cache = (A_prev, W, b, Z)\n",
    "        caches.append(cache)\n",
    "        \n",
    "    # LINEAR -> SIGMOID\n",
    "    WL = parameters['W' + str(L)]\n",
    "    bL = parameters['b' + str(L)]\n",
    "    ZL = np.dot(WL, A) + bL\n",
    "    # AL = 1 / (1 + np.exp(-ZL))  # Sigmoid\n",
    "    AL = sigmoid(ZL)\n",
    "    cache = (A, WL, bL, ZL)\n",
    "    caches.append(cache)\n",
    "    \n",
    "    assert(AL.shape == (1, X.shape[1]))\n",
    "    \n",
    "    return AL, caches"
   ]
  },
  {
   "cell_type": "markdown",
   "metadata": {},
   "source": [
    "<a id=\"2-2\"></a>\n",
    "### 2-2. compute_loss"
   ]
  },
  {
   "cell_type": "code",
   "execution_count": 7,
   "metadata": {},
   "outputs": [],
   "source": [
    "def compute_cost(AL, Y):\n",
    "    \"\"\"\n",
    "    Arguments:\n",
    "     - AL : label 예측에 해당하는 확률 벡터. (1, num of data samples)\n",
    "     - Y : ground-truth 벡터. (1, num of data samples)\n",
    "\n",
    "    Returns:\n",
    "     - cost : cross-entropy cost\n",
    "    \"\"\"\n",
    "    m = Y.shape[1]\n",
    "\n",
    "    # logprobs = np.multiply(np.log(AL), Y) + np.multiply((1 - Y), np.log(1 - AL))\n",
    "    logprobs = np.multiply(np.log(AL + 1e-10), Y) + np.multiply((1 - Y), np.log(1 - AL + 1e-10))\n",
    "\n",
    "    cost = -np.sum(logprobs) / m\n",
    "\n",
    "    cost = float(np.squeeze(cost))\n",
    "\n",
    "    return cost"
   ]
  },
  {
   "cell_type": "markdown",
   "metadata": {},
   "source": [
    "<a id=\"2-3\"></a>\n",
    "### 2-3.Back Propagation"
   ]
  },
  {
   "cell_type": "code",
   "execution_count": 8,
   "metadata": {},
   "outputs": [],
   "source": [
    "def relu_backward(dA, Z):\n",
    "    dZ = np.array(dA, copy=True)\n",
    "    dZ[Z <= 0] = 0\n",
    "\n",
    "    return dZ\n",
    "\n",
    "def sigmoid_backward(dA, Z):\n",
    "    S = sigmoid(Z)\n",
    "    dZ = dA * S * (1-S)\n",
    "\n",
    "    return dZ\n",
    "\n",
    "def backward_propagation(X, Y, caches, AL):\n",
    "    \"\"\"\n",
    "    Backward Propagation.\n",
    "    L-1개의 [Linear -> ReLU] layer와 출력층 [Linear -> Sigmoid]의 parameter에 대한 gradient를 계산한다.\n",
    "\n",
    "    Arguments:\n",
    "     - X : 입력 데이터. (n_x, m) n_x는 feature 수, m은 데이터 샘플의 수\n",
    "     - Y : ground_truth. (1, m)\n",
    "     - caches : list 타입. 각 layer의 (input, weight, bias, output).\n",
    "     - AL : 마지막 출력층의 출력값. y hat.\n",
    "    \"\"\"\n",
    "    grads = {}\n",
    "    L = len(caches) ## layer 수\n",
    "    m = X.shape[1] ## 데이터 샘플의 수\n",
    "\n",
    "    ## cost function gradient\n",
    "    # dAL = -(np.divide(Y, AL) - np.divide(1-Y, 1-AL))\n",
    "    dAL = -(np.divide(Y, AL + 1e-10) - np.divide(1 - Y, 1 - AL + 1e-10))\n",
    "\n",
    "    ## L번째 layer(출력층) [sigmoid -> Linear] gradient\n",
    "    cache = caches[-1]\n",
    "    A_prev, WL, bL, ZL = cache\n",
    "    dZL = sigmoid_backward(dAL, ZL) ## dL/dA * dA/dZ = dL / dZ\n",
    "    dWL = np.dot(dZL, A_prev.T) ## dL/dZ * dZ/dW = dL/dW\n",
    "    dbL = np.sum(dZL, axis=1, keepdims=True) / m ## dL/dZ * dZ/db = dL/db\n",
    "    dA_prev = np.dot(WL.T, dZL) ## dL/dZ * dZ/dX = dL/dX\n",
    "\n",
    "    grads[\"dA\" + str(L)] = dA_prev\n",
    "    grads[\"dW\" + str(L)] = dWL\n",
    "    grads[\"db\" + str(L)] = dbL\n",
    "\n",
    "    for l in reversed(range(L-1)):\n",
    "        cache = caches[l]\n",
    "        A_prev, W, b, Z = cache\n",
    "        dZ = relu_backward(grads[\"dA\" + str(l + 2)], Z)\n",
    "        dW = np.dot(dZ, A_prev.T) / m\n",
    "        db = np.sum(dZ, axis=1, keepdims=True) / m\n",
    "        dA_prev = np.dot(W.T, dZ)\n",
    "\n",
    "        grads[\"dA\" + str(l + 1)] = dA_prev\n",
    "        grads[\"dW\" + str(l + 1)] = dW\n",
    "        grads[\"db\" + str(l + 1)] = db\n",
    "    \n",
    "    return grads"
   ]
  },
  {
   "cell_type": "markdown",
   "metadata": {},
   "source": [
    "<a id=\"2-4\"></a>\n",
    "### 2-4.Update Parameters"
   ]
  },
  {
   "cell_type": "code",
   "execution_count": 9,
   "metadata": {},
   "outputs": [],
   "source": [
    "def update_parameters_with_gradient_descent(parameters, grads, learning_rate):\n",
    "    \"\"\"\n",
    "    Gradient Descent 방식으로 parameter를 업데이트.\n",
    "\n",
    "    Arguments:\n",
    "     - parameters : dict 타입. layer에 설정된 weight, bias\n",
    "     - grads : dict 타입. 각 parameter에 대한 gradients\n",
    "     - learning rate : 실수형. \n",
    "\n",
    "    Returns:\n",
    "     - parameters : dict 타입. gradient로 업데이트된 parameters\n",
    "    \"\"\"\n",
    "    L = len(parameters) // 2 ## nn을 구성하는 layer 수\n",
    "\n",
    "    for l in range(1, L + 1):\n",
    "        parameters[\"W\" + str(l)] = parameters[\"W\" + str(l)] - learning_rate * grads['dW' + str(l)]\n",
    "        parameters[\"b\" + str(l)] = parameters[\"b\" + str(l)] - learning_rate * grads['db' + str(l)]\n",
    "\n",
    "    return parameters"
   ]
  },
  {
   "cell_type": "markdown",
   "metadata": {},
   "source": [
    "<a id=\"2-5\"></a>\n",
    "### 2-5.weight initialization"
   ]
  },
  {
   "cell_type": "code",
   "execution_count": 10,
   "metadata": {},
   "outputs": [],
   "source": [
    "def initialize_parameters_random(layers_dims):\n",
    "    \"\"\"\n",
    "    Normal Distribution을 기반으로 랜덤값을 선정.\n",
    "\n",
    "    Arguments:\n",
    "     - layer_dims : 각 layer에 설정할 unit의 수. list 타입\n",
    "    \n",
    "    Returns:\n",
    "     - parameters : 각 layer에 설정되는 weight(matrix, \"W1\", \"W2\",...\"WL\"), bias(vector, \"b1\", \"b2\",...\"bL\")의 dictionary 타입\n",
    "                    W1 : weight matrix of shape (layers_dims[1], layers_dims[0])\n",
    "                    b1 : bias vector of shape (layers_dims[1], 1)\n",
    "                    ...\n",
    "                    WL : weight matrix of shape (layers_dims[L], layers_dims[L-1])\n",
    "                    bL : bias vector of shape (layers_dims[L], 1)\n",
    "    \"\"\"\n",
    "    np.random.seed(3)\n",
    "\n",
    "    parameters = {}\n",
    "    L = len(layers_dims)\n",
    "    for l in range(1, L):\n",
    "        parameters['W' + str(l)] = np.random.randn(layers_dims[l], layers_dims[l-1]) * 10\n",
    "        parameters['b' + str(l)] = np.zeros((layers_dims[l], 1))\n",
    "        \n",
    "    return parameters\n",
    "\n",
    "\n",
    "def initialize_parameters_zeros(layers_dims):\n",
    "    ## zero initialization\n",
    "    \n",
    "    parameters = {}\n",
    "    L = len(layers_dims) # number of layers in the network\n",
    "    \n",
    "    for l in range(1, L):\n",
    "        parameters[\"W\" + str(l)] = np.zeros((layers_dims[l], layers_dims[l-1]))\n",
    "        parameters[\"b\" + str(l)] = np.zeros((layers_dims[l], 1))\n",
    "                \n",
    "    return parameters\n",
    "\n",
    "\n",
    "def initialize_parameters_he(layers_dims):  \n",
    "    ## He Normal Distribution을 따라 확률 변수들에 확률을 부여하고, 랜덤으로 가중치 값을 선정.\n",
    "    np.random.seed(3)\n",
    "    parameters = {}\n",
    "    L = len(layers_dims) - 1\n",
    "     \n",
    "    for l in range(1, L + 1):\n",
    "        parameters['W' + str(l)] = np.random.randn(layers_dims[l], layers_dims[l-1]) * np.sqrt(2 / layers_dims[l-1])\n",
    "        parameters['b' + str(l)] = np.zeros((layers_dims[l], 1))\n",
    "                \n",
    "    return parameters"
   ]
  },
  {
   "cell_type": "markdown",
   "metadata": {},
   "source": [
    "<a id=\"2-6\"></a>\n",
    "### 2-6. training"
   ]
  },
  {
   "cell_type": "code",
   "execution_count": 11,
   "metadata": {},
   "outputs": [],
   "source": [
    "def model(X, Y, learning_rate=0.3, num_iterations=30000, print_cost=True, lambd=0, keep_prob=1):       \n",
    "    grads = {}\n",
    "    costs = []\n",
    "    m = X.shape[1] # number of examples\n",
    "    layers_dims = [X.shape[0], 20, 3, 1]\n",
    "    \n",
    "    parameters = initialize_parameters_random(layers_dims)\n",
    "\n",
    "    for i in range(0, num_iterations):\n",
    "        # Forward propagation: LINEAR -> RELU -> LINEAR -> RELU -> LINEAR -> SIGMOID.\n",
    "        a3, cache = forward_propagation(X, parameters)\n",
    "        \n",
    "        # Cost function\n",
    "        cost = compute_cost(a3, Y)\n",
    "            \n",
    "        assert (lambd == 0 or keep_prob == 1)\n",
    "        # Backward propagation.\n",
    "        grads = backward_propagation(X, Y, cache, a3)\n",
    "        \n",
    "        # Update parameters.\n",
    "        parameters = update_parameters_with_gradient_descent(parameters, grads, learning_rate)\n",
    "        \n",
    "        # Print the loss every 10000 iterations\n",
    "        if print_cost and i % 10000 == 0:\n",
    "            print(\"Cost after iteration {}: {}\".format(i, cost))\n",
    "        if print_cost and i % 1000 == 0:\n",
    "            costs.append(cost)\n",
    "    \n",
    "    # plot the cost\n",
    "    plt.plot(costs)\n",
    "    plt.ylabel('cost')\n",
    "    plt.xlabel('iterations (x1,000)')\n",
    "    plt.title(\"Learning rate =\" + str(learning_rate))\n",
    "    plt.show()\n",
    "    \n",
    "    return parameters"
   ]
  },
  {
   "cell_type": "code",
   "execution_count": 12,
   "metadata": {},
   "outputs": [
    {
     "name": "stdout",
     "output_type": "stream",
     "text": [
      "Cost after iteration 0: 8.707254553276645\n"
     ]
    },
    {
     "name": "stdout",
     "output_type": "stream",
     "text": [
      "Cost after iteration 10000: 8.707254553276645\n",
      "Cost after iteration 20000: 8.707254553276645\n"
     ]
    },
    {
     "data": {
      "image/png": "[encoded data removed]",
      "text/plain": [
       "<Figure size 640x480 with 1 Axes>"
      ]
     },
     "metadata": {},
     "output_type": "display_data"
    }
   ],
   "source": [
    "parameters = model(train_x, train_y)"
   ]
  },
  {
   "cell_type": "markdown",
   "metadata": {},
   "source": [
    "<a id=\"3\"></a>\n",
    "## 3.Weight Regularization"
   ]
  },
  {
   "cell_type": "code",
   "execution_count": 13,
   "metadata": {},
   "outputs": [],
   "source": [
    "def compute_cost_with_regularization(A3, Y, parameters, lambd):\n",
    "    \"\"\"\n",
    "    L2 Regularization을 적용한 cost function.\n",
    "    Arguments:\n",
    "     - A3 : L번째 layer(출력층)의 출력값 (output size, number of examples)\n",
    "     - Y : ground-truth (output size, number of examples)\n",
    "     - parameters : 각 층에 적용된 trainable parameters\n",
    "    \n",
    "    Returns:\n",
    "     - cost : L2 정규화가 더해진 cost값.\n",
    "    \"\"\"\n",
    "    m = Y.shape[1]\n",
    "    W1 = parameters[\"W1\"]\n",
    "    W2 = parameters[\"W2\"]\n",
    "    W3 = parameters[\"W3\"]\n",
    "    \n",
    "    cross_entropy_cost = compute_cost(A3, Y)\n",
    "    L2_regularization_cost = (lambd / (2 * m)) * (np.sum(np.square(W1)) + np.sum(np.square(W2)) + np.sum(np.square(W3)))\n",
    "    \n",
    "    cost = cross_entropy_cost + L2_regularization_cost\n",
    "    \n",
    "    return cost"
   ]
  },
  {
   "cell_type": "code",
   "execution_count": 14,
   "metadata": {},
   "outputs": [],
   "source": [
    "def backward_propagation_with_regularization(X, Y, caches, lambd):\n",
    "    \"\"\"\n",
    "    L2 regularization이 적용되었을 때의 Back propagation\n",
    "\n",
    "    Arguments:\n",
    "    - X : input dataset. (input features, number of examples)\n",
    "    - Y : ground-truth. (output size, number of examples)\n",
    "    - caches : forward propagation에서 각 layer의 (A_prev, W, b, Z)가 저장된 리스트\n",
    "    - lambd : regularization의 scaling factor\n",
    "\n",
    "    Returns:\n",
    "    - grads : 각 layer에서 발생한 gradient.\n",
    "    \"\"\"\n",
    "    grads = {}\n",
    "    L = len(caches)  # the number of layers\n",
    "    m = X.shape[1]\n",
    "    Y = Y.reshape(caches[-1][3].shape)  # after this line, Y is the same shape as AL\n",
    "\n",
    "    # Initializing the backpropagation\n",
    "    AL, current_cache = caches[-1][2], caches[-1]\n",
    "    dZL = AL - Y  # Derivative of cost with respect to AL\n",
    "    dWL = 1./m * np.dot(dZL, current_cache[0].T) + (lambd/m) * current_cache[1]\n",
    "    dbL = 1./m * np.sum(dZL, axis=1, keepdims=True)\n",
    "    dAL_prev = np.dot(current_cache[1].T, dZL)\n",
    "    \n",
    "    grads[\"dW\" + str(L)] = dWL\n",
    "    grads[\"db\" + str(L)] = dbL\n",
    "\n",
    "    # Loop from l=L-2 to l=0\n",
    "    for l in reversed(range(L-1)):\n",
    "        current_cache = caches[l]\n",
    "        dZ = np.multiply(dAL_prev, np.int64(current_cache[3] > 0))\n",
    "        dW = 1./m * np.dot(dZ, current_cache[0].T) + (lambd/m) * current_cache[1]\n",
    "        db = 1./m * np.sum(dZ, axis=1, keepdims=True)\n",
    "        if l > 0:  # dA_prev is not used for the first layer\n",
    "            dAL_prev = np.dot(current_cache[1].T, dZ)\n",
    "\n",
    "        grads[\"dW\" + str(l + 1)] = dW\n",
    "        grads[\"db\" + str(l + 1)] = db\n",
    "\n",
    "    return grads\n"
   ]
  },
  {
   "cell_type": "markdown",
   "metadata": {},
   "source": [
    "<a id=\"4\"></a>\n",
    "## 4.Dropout"
   ]
  },
  {
   "cell_type": "code",
   "execution_count": 15,
   "metadata": {},
   "outputs": [],
   "source": [
    "def forward_propagation_with_dropout(X, parameters, keep_prob = 0.5):\n",
    "    \"\"\"\n",
    "    LINEAR -> RELU + DROPOUT -> LINEAR -> RELU + DROPOUT -> LINEAR -> SIGMOID.\n",
    "    \n",
    "    Arguments:\n",
    "     - X : input dataset. (num features, number of examples)\n",
    "     - parameters : 각 layer에 적용되는 trainable parameters.\n",
    "                    W1 : weight matrix of shape (20, 2)\n",
    "                    b1 : bias vector of shape (20, 1)\n",
    "                    W2 : weight matrix of shape (3, 20)\n",
    "                    b2 : bias vector of shape (3, 1)\n",
    "                    W3 : weight matrix of shape (1, 3)\n",
    "                    b3 : bias vector of shape (1, 1)\n",
    "     - keep_prob : dropout이 적용되지 않는, 활성화되는 unit의 수(백분율)\n",
    "    \n",
    "    Returns:\n",
    "     - A3 : output layer의 출력.\n",
    "     - cache : 각 layer의 (input, weight, bias, output)\n",
    "    \"\"\"\n",
    "    \n",
    "    np.random.seed(1)\n",
    "    \n",
    "    # retrieve parameters\n",
    "    W1 = parameters[\"W1\"]\n",
    "    b1 = parameters[\"b1\"]\n",
    "    W2 = parameters[\"W2\"]\n",
    "    b2 = parameters[\"b2\"]\n",
    "    W3 = parameters[\"W3\"]\n",
    "    b3 = parameters[\"b3\"]\n",
    "    \n",
    "    # LINEAR -> RELU -> LINEAR -> RELU -> LINEAR -> SIGMOID\n",
    "    Z1 = np.dot(W1, X) + b1\n",
    "    A1 = np.maximum(0, Z1) ## ReLU\n",
    "\n",
    "    D1 = np.random.rand(A1.shape[0], A1.shape[1])\n",
    "    D1 = (D1 < keep_prob).astype(int)\n",
    "    A1 = np.multiply(D1, A1)\n",
    "    A1 /= keep_prob\n",
    "    \n",
    "    Z2 = np.dot(W2, A1) + b2\n",
    "    A2 = np.maximum(0, Z2) ## ReLU\n",
    "\n",
    "    D2 = np.random.rand(A2.shape[0], A2.shape[1])\n",
    "    D2 = (D2 < keep_prob).astype(int)\n",
    "    A2 = np.multiply(D2, A2)\n",
    "    A2 /= keep_prob\n",
    "    \n",
    "    \n",
    "    Z3 = np.dot(W3, A2) + b3\n",
    "    # A3 = 1 / (1 + np.exp(-Z3)) ## Sigmoid\n",
    "    A3 = sigmoid(Z3)\n",
    "    \n",
    "    cache = (Z1, D1, A1, W1, b1, Z2, D2, A2, W2, b2, Z3, A3, W3, b3)\n",
    "    \n",
    "    return A3, cache"
   ]
  },
  {
   "cell_type": "code",
   "execution_count": 16,
   "metadata": {},
   "outputs": [],
   "source": [
    "def backward_propagation_with_dropout(X, Y, cache, keep_prob):\n",
    "    \"\"\"\n",
    "    Dropout이 적용되었을 때의 Backward propagation.\n",
    "    \n",
    "    Arguments:\n",
    "     - X : input dataset. (num features, number of examples)\n",
    "     - Y : ground-truth. (output size, number of examples)\n",
    "     - cache : forward propagation에서 각 layer의 (input, weight, bias, output)\n",
    "     - keep_prob : keep_prob : dropout이 적용되지 않는, 활성화되는 unit의 수(백분율)\n",
    "    \n",
    "    Returns:\n",
    "     - gradients : 각 layer에서 발생한 gradient.\n",
    "    \"\"\"\n",
    "    \n",
    "    m = X.shape[1]\n",
    "    (Z1, D1, A1, W1, b1, Z2, D2, A2, W2, b2, Z3, A3, W3, b3) = cache\n",
    "    \n",
    "    dZ3 = A3 - Y\n",
    "    dW3 = 1./m * np.dot(dZ3, A2.T)\n",
    "    db3 = 1./m * np.sum(dZ3, axis=1, keepdims=True)\n",
    "    dA2 = np.dot(W3.T, dZ3)\n",
    "\n",
    "    dA2 *= D2\n",
    "    dA2 /= keep_prob\n",
    "        \n",
    "    dZ2 = np.multiply(dA2, np.int64(A2 > 0))\n",
    "    dW2 = 1./m * np.dot(dZ2, A1.T)\n",
    "    db2 = 1./m * np.sum(dZ2, axis=1, keepdims=True)\n",
    "    \n",
    "    dA1 = np.dot(W2.T, dZ2)\n",
    "    dA1 *= D1\n",
    "    dA1 /= keep_prob\n",
    "    \n",
    "    \n",
    "    dZ1 = np.multiply(dA1, np.int64(A1 > 0))\n",
    "    dW1 = 1./m * np.dot(dZ1, X.T)\n",
    "    db1 = 1./m * np.sum(dZ1, axis=1, keepdims=True)\n",
    "    \n",
    "    gradients = {\"dZ3\": dZ3, \"dW3\": dW3, \"db3\": db3,\"dA2\": dA2,\n",
    "                 \"dZ2\": dZ2, \"dW2\": dW2, \"db2\": db2, \"dA1\": dA1, \n",
    "                 \"dZ1\": dZ1, \"dW1\": dW1, \"db1\": db1}\n",
    "    \n",
    "    return gradients"
   ]
  },
  {
   "cell_type": "markdown",
   "metadata": {},
   "source": [
    "<a id=\"5\"></a>\n",
    "## 5.Training"
   ]
  },
  {
   "cell_type": "code",
   "execution_count": 17,
   "metadata": {},
   "outputs": [],
   "source": [
    "def model(X, Y, learning_rate=0.3, num_iterations=30000, print_cost=True, lambd=0, keep_prob=1):       \n",
    "    grads = {}\n",
    "    costs = []\n",
    "    m = X.shape[1] # number of examples\n",
    "    layers_dims = [X.shape[0], 20, 3, 1]\n",
    "    \n",
    "    parameters = initialize_parameters_random(layers_dims)\n",
    "\n",
    "    for i in range(0, num_iterations):\n",
    "        # Forward propagation: LINEAR -> RELU -> LINEAR -> RELU -> LINEAR -> SIGMOID.\n",
    "        if keep_prob == 1:\n",
    "            a3, cache = forward_propagation(X, parameters)\n",
    "        elif keep_prob < 1:\n",
    "            a3, cache = forward_propagation_with_dropout(X, parameters, keep_prob)\n",
    "        \n",
    "        # Cost function\n",
    "        if lambd == 0:\n",
    "            cost = compute_cost(a3, Y)\n",
    "        else:\n",
    "            cost = compute_cost_with_regularization(a3, Y, parameters, lambd)\n",
    "            \n",
    "        assert (lambd == 0 or keep_prob == 1)\n",
    "        # Backward propagation.\n",
    "        if lambd == 0 and keep_prob == 1:\n",
    "            grads = backward_propagation(X, Y, cache)\n",
    "        elif lambd != 0:\n",
    "            grads = backward_propagation_with_regularization(X, Y, cache, lambd)\n",
    "        elif keep_prob < 1:\n",
    "            grads = backward_propagation_with_dropout(X, Y, cache, keep_prob)\n",
    "        \n",
    "        # Update parameters.\n",
    "        parameters = update_parameters_with_gradient_descent(parameters, grads, learning_rate)\n",
    "        \n",
    "        # Print the loss every 10000 iterations\n",
    "        if print_cost and i % 10000 == 0:\n",
    "            print(\"Cost after iteration {}: {}\".format(i, cost))\n",
    "        if print_cost and i % 1000 == 0:\n",
    "            costs.append(cost)\n",
    "    \n",
    "    # plot the cost\n",
    "    plt.plot(costs)\n",
    "    plt.ylabel('cost')\n",
    "    plt.xlabel('iterations (x1,000)')\n",
    "    plt.title(\"Learning rate =\" + str(learning_rate))\n",
    "    plt.show()\n",
    "    \n",
    "    return parameters"
   ]
  },
  {
   "cell_type": "code",
   "execution_count": 18,
   "metadata": {},
   "outputs": [
    {
     "name": "stdout",
     "output_type": "stream",
     "text": [
      "Cost after iteration 0: 21.100728597099085\n"
     ]
    },
    {
     "name": "stdout",
     "output_type": "stream",
     "text": [
      "Cost after iteration 10000: 207098.75505120077\n",
      "Cost after iteration 20000: 2.361441991839428\n"
     ]
    },
    {
     "data": {
      "image/png": "[encoded data removed]",
      "text/plain": [
       "<Figure size 640x480 with 1 Axes>"
      ]
     },
     "metadata": {},
     "output_type": "display_data"
    }
   ],
   "source": [
    "parameters = model(train_x, train_y, lambd=0.7)"
   ]
  },
  {
   "cell_type": "code",
   "execution_count": 19,
   "metadata": {},
   "outputs": [
    {
     "name": "stdout",
     "output_type": "stream",
     "text": [
      "Cost after iteration 0: 8.222334518114277\n",
      "Cost after iteration 10000: 0.6631518211739416\n",
      "Cost after iteration 20000: 0.6631518211739416\n"
     ]
    },
    {
     "data": {
      "image/png": "[encoded data removed]",
      "text/plain": [
       "<Figure size 640x480 with 1 Axes>"
      ]
     },
     "metadata": {},
     "output_type": "display_data"
    }
   ],
   "source": [
    "parameters = model(train_x, train_y, keep_prob=0.8)"
   ]
  },
  {
   "cell_type": "code",
   "execution_count": null,
   "metadata": {},
   "outputs": [],
   "source": []
  }
 ],
 "metadata": {
  "kernelspec": {
   "display_name": "openmmlab",
   "language": "python",
   "name": "python3"
  },
  "language_info": {
   "codemirror_mode": {
    "name": "ipython",
    "version": 3
   },
   "file_extension": ".py",
   "mimetype": "text/x-python",
   "name": "python",
   "nbconvert_exporter": "python",
   "pygments_lexer": "ipython3",
   "version": "3.10.13"
  }
 },
 "nbformat": 4,
 "nbformat_minor": 2
}
