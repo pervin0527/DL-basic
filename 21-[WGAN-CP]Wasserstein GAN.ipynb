{
 "cells": [
  {
   "cell_type": "code",
   "execution_count": null,
   "metadata": {},
   "outputs": [],
   "source": [
    "import os\n",
    "import torch\n",
    "import torchvision\n",
    "import numpy as np\n",
    "import matplotlib.pyplot as plt\n",
    "\n",
    "from tqdm import tqdm\n",
    "from torch import nn\n",
    "from torchsummary import summary\n",
    "from torchvision import transforms\n",
    "from torchvision import datasets\n",
    "from torch.utils.data import DataLoader\n",
    "from torchvision import utils as vutils"
   ]
  },
  {
   "cell_type": "code",
   "execution_count": null,
   "metadata": {},
   "outputs": [],
   "source": [
    "num_workers = os.cpu_count()\n",
    "device = torch.device(\"cuda:0\" if torch.cuda.is_available() else \"cpu\")"
   ]
  },
  {
   "cell_type": "code",
   "execution_count": null,
   "metadata": {},
   "outputs": [],
   "source": [
    "save_dir = \"./runs/WGAN\"\n",
    "data_dir = \"/home/pervinco/Datasets/CelebA\"\n",
    "\n",
    "epochs = 100\n",
    "batch_size = 128\n",
    "lr = 0.0002\n",
    "beta1 = 0.5 \n",
    "beta2 = 0.999\n",
    "\n",
    "n_critics = 5\n",
    "weight_cliping_limit = 0.01\n",
    "\n",
    "img_size = 64\n",
    "\n",
    "nc = 3\n",
    "nz = 100\n",
    "ngf = 64\n",
    "ndf = 64"
   ]
  },
  {
   "cell_type": "code",
   "execution_count": null,
   "metadata": {},
   "outputs": [],
   "source": [
    "if not os.path.exists(save_dir):\n",
    "    os.makedirs(save_dir)"
   ]
  },
  {
   "cell_type": "code",
   "execution_count": null,
   "metadata": {},
   "outputs": [],
   "source": [
    "dataset = datasets.ImageFolder(root=data_dir,\n",
    "                                transform=transforms.Compose([\n",
    "                                    transforms.Resize(img_size),\n",
    "                                    # transforms.CenterCrop(img_size),\n",
    "                                    transforms.ToTensor(),\n",
    "                                    transforms.Normalize((0.5, 0.5, 0.5), (0.5, 0.5, 0.5)),\n",
    "                                ]))\n",
    "dataloader = DataLoader(dataset, batch_size=batch_size, shuffle=True, num_workers=num_workers)\n",
    "\n",
    "one_batch = next(iter(dataloader))\n",
    "plt.figure(figsize=(8, 8))\n",
    "plt.axis('off')\n",
    "plt.title('Training Images')\n",
    "plt.imshow(np.transpose(vutils.make_grid(one_batch[0].to(device)[:64], padding=2, normalize=True).cpu(),(1,2,0)))\n",
    "plt.show()"
   ]
  },
  {
   "cell_type": "code",
   "execution_count": null,
   "metadata": {},
   "outputs": [],
   "source": [
    "def weights_init(m):\n",
    "    if isinstance(m, (nn.Conv2d, nn.ConvTranspose2d)):\n",
    "        nn.init.normal_(m.weight.data, 0.0, 0.02)\n",
    "    elif isinstance(m, nn.BatchNorm2d):\n",
    "        nn.init.normal_(m.weight.data, 1.0, 0.02)\n",
    "        nn.init.constant_(m.bias.data, 0)"
   ]
  },
  {
   "cell_type": "code",
   "execution_count": null,
   "metadata": {},
   "outputs": [],
   "source": [
    "class Generator(torch.nn.Module):\n",
    "    def __init__(self, channels):\n",
    "        super().__init__()\n",
    "        # Filters [1024, 512, 256]\n",
    "        # Input_dim = 100\n",
    "        # Output_dim = C (number of channels)\n",
    "        self.main_module = nn.Sequential(\n",
    "            # Z latent vector 100\n",
    "            nn.ConvTranspose2d(in_channels=100, out_channels=1024, kernel_size=4, stride=1, padding=0),\n",
    "            nn.BatchNorm2d(num_features=1024),\n",
    "            nn.ReLU(True),\n",
    "\n",
    "            # State (1024x4x4)\n",
    "            nn.ConvTranspose2d(in_channels=1024, out_channels=512, kernel_size=4, stride=2, padding=1),\n",
    "            nn.BatchNorm2d(num_features=512),\n",
    "            nn.ReLU(True),\n",
    "\n",
    "            # State (512x8x8)\n",
    "            nn.ConvTranspose2d(in_channels=512, out_channels=256, kernel_size=4, stride=2, padding=1),\n",
    "            nn.BatchNorm2d(num_features=256),\n",
    "            nn.ReLU(True),\n",
    "\n",
    "            # State (256x16x16)\n",
    "            nn.ConvTranspose2d(in_channels=256, out_channels=channels, kernel_size=4, stride=2, padding=1))\n",
    "            # output of main module --> Image (Cx32x32)\n",
    "\n",
    "        self.output = nn.Tanh()\n",
    "\n",
    "    def forward(self, x):\n",
    "        x = self.main_module(x)\n",
    "        return self.output(x)"
   ]
  },
  {
   "cell_type": "code",
   "execution_count": null,
   "metadata": {},
   "outputs": [],
   "source": [
    "G = Generator(channels=nz).to(device)\n",
    "G.apply(weights_init)\n",
    "summary(G, (nz, 1, 1))"
   ]
  },
  {
   "cell_type": "code",
   "execution_count": null,
   "metadata": {},
   "outputs": [],
   "source": [
    "class Discriminator(torch.nn.Module):\n",
    "    def __init__(self, channels):\n",
    "        super().__init__()\n",
    "        # Filters [256, 512, 1024]\n",
    "        # Input_dim = channels (Cx64x64)\n",
    "        # Output_dim = 1\n",
    "        self.main_module = nn.Sequential(\n",
    "            # Image (Cx32x32)\n",
    "            nn.Conv2d(in_channels=channels, out_channels=256, kernel_size=4, stride=2, padding=1),\n",
    "            nn.BatchNorm2d(num_features=256),\n",
    "            nn.LeakyReLU(0.2, inplace=True),\n",
    "\n",
    "            # State (256x16x16)\n",
    "            nn.Conv2d(in_channels=256, out_channels=512, kernel_size=4, stride=2, padding=1),\n",
    "            nn.BatchNorm2d(num_features=512),\n",
    "            nn.LeakyReLU(0.2, inplace=True),\n",
    "\n",
    "            # State (512x8x8)\n",
    "            nn.Conv2d(in_channels=512, out_channels=1024, kernel_size=4, stride=2, padding=1),\n",
    "            nn.BatchNorm2d(num_features=1024),\n",
    "            nn.LeakyReLU(0.2, inplace=True))\n",
    "            # output of main module --> State (1024x4x4)\n",
    "\n",
    "        self.output = nn.Sequential(\n",
    "            # The output of D is no longer a probability, we do not apply sigmoid at the output of D.\n",
    "            nn.Conv2d(in_channels=1024, out_channels=1, kernel_size=4, stride=1, padding=0))\n",
    "\n",
    "\n",
    "    def forward(self, x):\n",
    "        x = self.main_module(x)\n",
    "        return self.output(x)\n",
    "\n",
    "    def feature_extraction(self, x):\n",
    "        # Use discriminator for feature extraction then flatten to vector of 16384\n",
    "        x = self.main_module(x)\n",
    "        return x.view(-1, 1024*4*4)"
   ]
  },
  {
   "cell_type": "code",
   "execution_count": null,
   "metadata": {},
   "outputs": [],
   "source": [
    "D = Discriminator(channels=nc).to(device)\n",
    "D.apply(weights_init)\n",
    "summary(D, (3, 64, 64))"
   ]
  },
  {
   "cell_type": "code",
   "execution_count": null,
   "metadata": {},
   "outputs": [],
   "source": [
    "def save_fake_images(epoch, G, fixed_noise, num_images=64):\n",
    "    with torch.no_grad():  # 그래디언트 계산을 하지 않음\n",
    "        fake_images = G(fixed_noise).detach().cpu()\n",
    "    fig = plt.figure(figsize=(8, 8))\n",
    "    plt.axis(\"off\")\n",
    "    plt.title(f\"Fake Images at Epoch {epoch}\")\n",
    "    plt.imshow(np.transpose(vutils.make_grid(fake_images[:num_images], padding=2, normalize=True), (1, 2, 0)))\n",
    "    plt.savefig(f\"{save_dir}/Epoch_{epoch}_Fake.png\")  # 이미지 파일로 저장\n",
    "    plt.close(fig)"
   ]
  },
  {
   "cell_type": "code",
   "execution_count": null,
   "metadata": {},
   "outputs": [],
   "source": [
    "D = Discriminator(channels=nc).to(device)\n",
    "G = Generator(channels=nc).to(device)\n",
    "D.apply(weights_init)\n",
    "G.apply(weights_init)\n",
    "\n",
    "optimizerD = torch.optim.RMSprop(D.parameters(), lr=lr)\n",
    "optimizerG = torch.optim.RMSprop(G.parameters(), lr=lr)\n",
    "\n",
    "G.train()\n",
    "D.train()\n",
    "one = torch.tensor(1, dtype=torch.float).to(device)\n",
    "mone = (one * -1).to(device)\n",
    "fixed_noise = torch.randn(batch_size, nz, 1, 1, device=device)\n",
    "for epoch in range(epochs):\n",
    "    for idx, (images, _) in enumerate(tqdm(dataloader, desc=\"Train\", leave=False)):\n",
    "        D.zero_grad()\n",
    "        images = images.to(device)\n",
    "        \n",
    "        # 진짜 이미지를 사용하여 판별자 학습\n",
    "        d_loss_real = D(images).mean()\n",
    "        d_loss_real.backward(one)\n",
    "        \n",
    "        # 가짜 이미지 생성\n",
    "        z = torch.randn(batch_size, nz, 1, 1, device=device)\n",
    "        fake_images = G(z)\n",
    "        \n",
    "        # 가짜 이미지를 사용하여 판별자 학습\n",
    "        d_loss_fake = D(fake_images.detach()).mean()\n",
    "        d_loss_fake.backward(mone)\n",
    "        \n",
    "        d_loss = d_loss_fake - d_loss_real\n",
    "        optimizerD.step()\n",
    "        \n",
    "        # Generator 학습\n",
    "        G.zero_grad()\n",
    "        \n",
    "        z = torch.randn(batch_size, nz, 1, 1, device=device)\n",
    "        fake_images = G(z)\n",
    "        g_loss = D(fake_images).mean()\n",
    "        g_loss.backward(one)\n",
    "        optimizerG.step()\n",
    "        \n",
    "    print(f'Epoch: {epoch}, D loss: {d_loss.item():.4f}, G loss: {g_loss.item():.4f}')        \n",
    "    save_fake_images(epoch, G, fixed_noise)\n",
    "\n",
    "torch.save(G.state_dict(), f'{save_dir}/generator_epoch_{epoch}.pth')\n",
    "torch.save(D.state_dict(), f'{save_dir}/discriminator_epoch_{epoch}.pth')"
   ]
  }
 ],
 "metadata": {
  "kernelspec": {
   "display_name": "Python 3",
   "language": "python",
   "name": "python3"
  },
  "language_info": {
   "codemirror_mode": {
    "name": "ipython",
    "version": 3
   },
   "file_extension": ".py",
   "mimetype": "text/x-python",
   "name": "python",
   "nbconvert_exporter": "python",
   "pygments_lexer": "ipython3",
   "version": "3.8.10"
  }
 },
 "nbformat": 4,
 "nbformat_minor": 2
}
