{
 "cells": [
  {
   "cell_type": "code",
   "execution_count": 1,
   "metadata": {},
   "outputs": [],
   "source": [
    "import os\n",
    "import torch\n",
    "import torchvision\n",
    "import numpy as np\n",
    "import matplotlib.pyplot as plt\n",
    "\n",
    "from tqdm import tqdm\n",
    "from torch import nn\n",
    "from torchvision import transforms\n",
    "from torchvision import utils as vutils\n",
    "from torch.utils.data import DataLoader"
   ]
  },
  {
   "cell_type": "code",
   "execution_count": 2,
   "metadata": {},
   "outputs": [],
   "source": [
    "save_dir = \"./runs/GAN\"\n",
    "data_dir = \"/home/pervinco/Datasets/torch_mnist\"\n",
    "\n",
    "epochs = 100\n",
    "batch_size = 64\n",
    "d_lr = 0.0001\n",
    "g_lr = 0.0001\n",
    "\n",
    "disc_iter = 5\n",
    "input_dim = 1\n",
    "latent_dim = 64\n",
    "hidden_dim = 256\n",
    "image_size = 784\n",
    "\n",
    "num_workers = os.cpu_count()\n",
    "device = torch.device(\"cuda:0\" if torch.cuda.is_available() else \"cpu\")\n",
    "\n",
    "if not os.path.exists(save_dir):\n",
    "    os.makedirs(save_dir)"
   ]
  },
  {
   "cell_type": "code",
   "execution_count": 3,
   "metadata": {},
   "outputs": [],
   "source": [
    "class Discriminator(nn.Module):\n",
    "    def __init__(self, input_dim):\n",
    "        super().__init__()\n",
    "\n",
    "        self.model = nn.Sequential(\n",
    "            nn.Linear(input_dim, hidden_dim),\n",
    "            nn.LeakyReLU(0.2),\n",
    "            nn.Linear(hidden_dim, hidden_dim),\n",
    "            nn.LeakyReLU(0.2),\n",
    "            nn.Linear(hidden_dim, 1),\n",
    "            nn.Sigmoid(),\n",
    "        )\n",
    "\n",
    "    def forward(self, x):\n",
    "        x = self.model(x)\n",
    "\n",
    "        return x"
   ]
  },
  {
   "cell_type": "code",
   "execution_count": 4,
   "metadata": {},
   "outputs": [],
   "source": [
    "class Generator(nn.Module):\n",
    "    def __init__(self, latent_dim):\n",
    "        super().__init__()\n",
    "\n",
    "        self.model = nn.Sequential(\n",
    "            nn.Linear(latent_dim, hidden_dim),\n",
    "            nn.ReLU(),\n",
    "            nn.Linear(hidden_dim, hidden_dim),\n",
    "            nn.ReLU(),\n",
    "            nn.Linear(hidden_dim, image_size),\n",
    "            nn.Tanh()\n",
    "        )\n",
    "\n",
    "    def forward(self, z):\n",
    "        z = self.model(z)\n",
    "        \n",
    "        return z"
   ]
  },
  {
   "cell_type": "code",
   "execution_count": 5,
   "metadata": {},
   "outputs": [],
   "source": [
    "transform = transforms.Compose([transforms.ToTensor(),\n",
    "                                transforms.Normalize(mean=[0.5], std=[0.5])])\n",
    "\n",
    "train_dataset = torchvision.datasets.MNIST(root=data_dir,\n",
    "                                           train=True,\n",
    "                                           transform=transform,\n",
    "                                           download=True)\n",
    "\n",
    "train_dataloader = DataLoader(dataset=train_dataset, batch_size=batch_size, shuffle=True, drop_last=True)"
   ]
  },
  {
   "cell_type": "code",
   "execution_count": 6,
   "metadata": {},
   "outputs": [],
   "source": [
    "def save_fake_images(epoch, G, fixed_noise, channels, height, width, num_images=64):\n",
    "    with torch.no_grad():  # No gradients required\n",
    "        # Generate fake images from the fixed noise\n",
    "        fake_images = G(fixed_noise).detach().cpu()\n",
    "        # Reshape the images to (batch_size, channels, height, width)\n",
    "        fake_images = fake_images.view(fake_images.size(0), channels, height, width)\n",
    "        # Make sure the number of images does not exceed the batch size\n",
    "        fake_images = fake_images[:min(num_images, fake_images.size(0))]\n",
    "        # Create a grid of images\n",
    "        grid = vutils.make_grid(fake_images, padding=2, normalize=True)\n",
    "        # Convert grid to a numpy array\n",
    "        np_grid = grid.numpy()\n",
    "        # Transpose the image array (PyTorch tensors have channel in the first dimension, while matplotlib expects it in the third)\n",
    "        plt.imshow(np.transpose(np_grid, (1, 2, 0)))\n",
    "\n",
    "    # Save the current figure\n",
    "    plt.axis(\"off\")\n",
    "    plt.title(f\"Fake Images at Epoch {epoch}\")\n",
    "    plt.savefig(f\"{save_dir}/Epoch_{epoch}_Fake.png\")\n",
    "    plt.close()"
   ]
  },
  {
   "cell_type": "code",
   "execution_count": 7,
   "metadata": {},
   "outputs": [
    {
     "name": "stderr",
     "output_type": "stream",
     "text": [
      "                                                         \r"
     ]
    },
    {
     "name": "stdout",
     "output_type": "stream",
     "text": [
      "Epoch[0/100], Step[937/937]\n",
      "D_loss: 0.0057, G_loss: 5.9318\n",
      "Real Score: 1.0000, Fake Score: 0.0057\n"
     ]
    },
    {
     "name": "stderr",
     "output_type": "stream",
     "text": [
      "                                                         \r"
     ]
    },
    {
     "name": "stdout",
     "output_type": "stream",
     "text": [
      "Epoch[1/100], Step[937/937]\n",
      "D_loss: 0.0009, G_loss: 8.1174\n",
      "Real Score: 1.0000, Fake Score: 0.0008\n"
     ]
    },
    {
     "name": "stderr",
     "output_type": "stream",
     "text": [
      "                                                         \r"
     ]
    },
    {
     "name": "stdout",
     "output_type": "stream",
     "text": [
      "Epoch[2/100], Step[937/937]\n",
      "D_loss: 0.0004, G_loss: 9.7543\n",
      "Real Score: 1.0000, Fake Score: 0.0004\n"
     ]
    },
    {
     "name": "stderr",
     "output_type": "stream",
     "text": [
      "                                                         \r"
     ]
    },
    {
     "name": "stdout",
     "output_type": "stream",
     "text": [
      "Epoch[3/100], Step[937/937]\n",
      "D_loss: 0.0003, G_loss: 10.8637\n",
      "Real Score: 0.9999, Fake Score: 0.0002\n"
     ]
    },
    {
     "name": "stderr",
     "output_type": "stream",
     "text": [
      "                                                         \r"
     ]
    },
    {
     "name": "stdout",
     "output_type": "stream",
     "text": [
      "Epoch[4/100], Step[937/937]\n",
      "D_loss: 0.0075, G_loss: 9.1340\n",
      "Real Score: 0.9941, Fake Score: 0.0011\n"
     ]
    },
    {
     "name": "stderr",
     "output_type": "stream",
     "text": [
      "                                                         \r"
     ]
    },
    {
     "name": "stdout",
     "output_type": "stream",
     "text": [
      "Epoch[5/100], Step[937/937]\n",
      "D_loss: 0.0046, G_loss: 6.5216\n",
      "Real Score: 0.9991, Fake Score: 0.0037\n"
     ]
    },
    {
     "name": "stderr",
     "output_type": "stream",
     "text": [
      "                                                         \r"
     ]
    },
    {
     "name": "stdout",
     "output_type": "stream",
     "text": [
      "Epoch[6/100], Step[937/937]\n",
      "D_loss: 0.0416, G_loss: 5.3355\n",
      "Real Score: 0.9819, Fake Score: 0.0074\n"
     ]
    },
    {
     "name": "stderr",
     "output_type": "stream",
     "text": [
      "                                                         \r"
     ]
    },
    {
     "name": "stdout",
     "output_type": "stream",
     "text": [
      "Epoch[7/100], Step[937/937]\n",
      "D_loss: 0.0197, G_loss: 6.2031\n",
      "Real Score: 0.9988, Fake Score: 0.0181\n"
     ]
    },
    {
     "name": "stderr",
     "output_type": "stream",
     "text": [
      "                                                         \r"
     ]
    },
    {
     "name": "stdout",
     "output_type": "stream",
     "text": [
      "Epoch[8/100], Step[937/937]\n",
      "D_loss: 0.0405, G_loss: 7.4313\n",
      "Real Score: 0.9789, Fake Score: 0.0039\n"
     ]
    },
    {
     "name": "stderr",
     "output_type": "stream",
     "text": [
      "                                                         \r"
     ]
    },
    {
     "name": "stdout",
     "output_type": "stream",
     "text": [
      "Epoch[9/100], Step[937/937]\n",
      "D_loss: 0.0034, G_loss: 5.9060\n",
      "Real Score: 0.9999, Fake Score: 0.0032\n"
     ]
    },
    {
     "name": "stderr",
     "output_type": "stream",
     "text": [
      "                                                         \r"
     ]
    },
    {
     "name": "stdout",
     "output_type": "stream",
     "text": [
      "Epoch[10/100], Step[937/937]\n",
      "D_loss: 0.0151, G_loss: 5.0694\n",
      "Real Score: 0.9961, Fake Score: 0.0109\n"
     ]
    },
    {
     "name": "stderr",
     "output_type": "stream",
     "text": [
      "                                                         \r"
     ]
    },
    {
     "name": "stdout",
     "output_type": "stream",
     "text": [
      "Epoch[11/100], Step[937/937]\n",
      "D_loss: 0.0098, G_loss: 7.9342\n",
      "Real Score: 0.9922, Fake Score: 0.0008\n"
     ]
    },
    {
     "name": "stderr",
     "output_type": "stream",
     "text": [
      "                                                         \r"
     ]
    },
    {
     "name": "stdout",
     "output_type": "stream",
     "text": [
      "Epoch[12/100], Step[937/937]\n",
      "D_loss: 0.0062, G_loss: 6.3931\n",
      "Real Score: 0.9996, Fake Score: 0.0058\n"
     ]
    },
    {
     "name": "stderr",
     "output_type": "stream",
     "text": [
      "                                                         \r"
     ]
    },
    {
     "name": "stdout",
     "output_type": "stream",
     "text": [
      "Epoch[13/100], Step[937/937]\n",
      "D_loss: 0.0107, G_loss: 9.4196\n",
      "Real Score: 0.9907, Fake Score: 0.0001\n"
     ]
    },
    {
     "name": "stderr",
     "output_type": "stream",
     "text": [
      "                                                         \r"
     ]
    },
    {
     "name": "stdout",
     "output_type": "stream",
     "text": [
      "Epoch[14/100], Step[937/937]\n",
      "D_loss: 0.0057, G_loss: 7.0133\n",
      "Real Score: 0.9961, Fake Score: 0.0015\n"
     ]
    },
    {
     "name": "stderr",
     "output_type": "stream",
     "text": [
      "                                                         \r"
     ]
    },
    {
     "name": "stdout",
     "output_type": "stream",
     "text": [
      "Epoch[15/100], Step[937/937]\n",
      "D_loss: 0.0012, G_loss: 8.4405\n",
      "Real Score: 0.9994, Fake Score: 0.0006\n"
     ]
    },
    {
     "name": "stderr",
     "output_type": "stream",
     "text": [
      "                                                         \r"
     ]
    },
    {
     "name": "stdout",
     "output_type": "stream",
     "text": [
      "Epoch[16/100], Step[937/937]\n",
      "D_loss: 0.0007, G_loss: 9.6763\n",
      "Real Score: 0.9995, Fake Score: 0.0003\n"
     ]
    },
    {
     "name": "stderr",
     "output_type": "stream",
     "text": [
      "                                                         \r"
     ]
    },
    {
     "name": "stdout",
     "output_type": "stream",
     "text": [
      "Epoch[17/100], Step[937/937]\n",
      "D_loss: 0.0012, G_loss: 8.1091\n",
      "Real Score: 1.0000, Fake Score: 0.0012\n"
     ]
    },
    {
     "name": "stderr",
     "output_type": "stream",
     "text": [
      "                                                         \r"
     ]
    },
    {
     "name": "stdout",
     "output_type": "stream",
     "text": [
      "Epoch[18/100], Step[937/937]\n",
      "D_loss: 0.0034, G_loss: 8.4433\n",
      "Real Score: 0.9999, Fake Score: 0.0033\n"
     ]
    },
    {
     "name": "stderr",
     "output_type": "stream",
     "text": [
      "                                                         \r"
     ]
    },
    {
     "name": "stdout",
     "output_type": "stream",
     "text": [
      "Epoch[19/100], Step[937/937]\n",
      "D_loss: 0.0143, G_loss: 8.2384\n",
      "Real Score: 0.9927, Fake Score: 0.0053\n"
     ]
    },
    {
     "name": "stderr",
     "output_type": "stream",
     "text": [
      "                                                         \r"
     ]
    },
    {
     "name": "stdout",
     "output_type": "stream",
     "text": [
      "Epoch[20/100], Step[937/937]\n",
      "D_loss: 0.0014, G_loss: 8.6660\n",
      "Real Score: 1.0000, Fake Score: 0.0014\n"
     ]
    },
    {
     "name": "stderr",
     "output_type": "stream",
     "text": [
      "                                                         \r"
     ]
    },
    {
     "name": "stdout",
     "output_type": "stream",
     "text": [
      "Epoch[21/100], Step[937/937]\n",
      "D_loss: 0.0005, G_loss: 10.7158\n",
      "Real Score: 1.0000, Fake Score: 0.0005\n"
     ]
    },
    {
     "name": "stderr",
     "output_type": "stream",
     "text": [
      "                                                         \r"
     ]
    },
    {
     "name": "stdout",
     "output_type": "stream",
     "text": [
      "Epoch[22/100], Step[937/937]\n",
      "D_loss: 0.0107, G_loss: 8.9658\n",
      "Real Score: 0.9925, Fake Score: 0.0005\n"
     ]
    },
    {
     "name": "stderr",
     "output_type": "stream",
     "text": [
      "                                                         \r"
     ]
    },
    {
     "name": "stdout",
     "output_type": "stream",
     "text": [
      "Epoch[23/100], Step[937/937]\n",
      "D_loss: 0.0031, G_loss: 5.2660\n",
      "Real Score: 0.9999, Fake Score: 0.0030\n"
     ]
    },
    {
     "name": "stderr",
     "output_type": "stream",
     "text": [
      "                                                         \r"
     ]
    },
    {
     "name": "stdout",
     "output_type": "stream",
     "text": [
      "Epoch[24/100], Step[937/937]\n",
      "D_loss: 0.0344, G_loss: 32.5733\n",
      "Real Score: 0.9857, Fake Score: 0.0000\n"
     ]
    },
    {
     "name": "stderr",
     "output_type": "stream",
     "text": [
      "                                                         \r"
     ]
    },
    {
     "name": "stdout",
     "output_type": "stream",
     "text": [
      "Epoch[25/100], Step[937/937]\n",
      "D_loss: 0.0106, G_loss: 7.5916\n",
      "Real Score: 1.0000, Fake Score: 0.0101\n"
     ]
    },
    {
     "name": "stderr",
     "output_type": "stream",
     "text": [
      "                                                         \r"
     ]
    },
    {
     "name": "stdout",
     "output_type": "stream",
     "text": [
      "Epoch[26/100], Step[937/937]\n",
      "D_loss: 0.0000, G_loss: 17.3095\n",
      "Real Score: 1.0000, Fake Score: 0.0000\n"
     ]
    },
    {
     "name": "stderr",
     "output_type": "stream",
     "text": [
      "                                                         \r"
     ]
    },
    {
     "name": "stdout",
     "output_type": "stream",
     "text": [
      "Epoch[27/100], Step[937/937]\n",
      "D_loss: 0.0000, G_loss: 16.4667\n",
      "Real Score: 1.0000, Fake Score: 0.0000\n"
     ]
    },
    {
     "name": "stderr",
     "output_type": "stream",
     "text": [
      "                                                         \r"
     ]
    },
    {
     "name": "stdout",
     "output_type": "stream",
     "text": [
      "Epoch[28/100], Step[937/937]\n",
      "D_loss: 0.0066, G_loss: 8.5343\n",
      "Real Score: 1.0000, Fake Score: 0.0065\n"
     ]
    },
    {
     "name": "stderr",
     "output_type": "stream",
     "text": [
      "                                                         \r"
     ]
    },
    {
     "name": "stdout",
     "output_type": "stream",
     "text": [
      "Epoch[29/100], Step[937/937]\n",
      "D_loss: 0.0056, G_loss: 5.7647\n",
      "Real Score: 1.0000, Fake Score: 0.0055\n"
     ]
    },
    {
     "name": "stderr",
     "output_type": "stream",
     "text": [
      "                                                         \r"
     ]
    },
    {
     "name": "stdout",
     "output_type": "stream",
     "text": [
      "Epoch[30/100], Step[937/937]\n",
      "D_loss: 0.0003, G_loss: 10.5102\n",
      "Real Score: 1.0000, Fake Score: 0.0003\n"
     ]
    },
    {
     "name": "stderr",
     "output_type": "stream",
     "text": [
      "                                                         \r"
     ]
    },
    {
     "name": "stdout",
     "output_type": "stream",
     "text": [
      "Epoch[31/100], Step[937/937]\n",
      "D_loss: 0.0011, G_loss: 12.5552\n",
      "Real Score: 1.0000, Fake Score: 0.0011\n"
     ]
    },
    {
     "name": "stderr",
     "output_type": "stream",
     "text": [
      "                                                         \r"
     ]
    },
    {
     "name": "stdout",
     "output_type": "stream",
     "text": [
      "Epoch[32/100], Step[937/937]\n",
      "D_loss: 0.0000, G_loss: 12.0766\n",
      "Real Score: 1.0000, Fake Score: 0.0000\n"
     ]
    },
    {
     "name": "stderr",
     "output_type": "stream",
     "text": [
      "                                                         \r"
     ]
    },
    {
     "name": "stdout",
     "output_type": "stream",
     "text": [
      "Epoch[33/100], Step[937/937]\n",
      "D_loss: 0.0082, G_loss: 12.4679\n",
      "Real Score: 1.0000, Fake Score: 0.0080\n"
     ]
    },
    {
     "name": "stderr",
     "output_type": "stream",
     "text": [
      "                                                         \r"
     ]
    },
    {
     "name": "stdout",
     "output_type": "stream",
     "text": [
      "Epoch[34/100], Step[937/937]\n",
      "D_loss: 0.0036, G_loss: 11.0986\n",
      "Real Score: 1.0000, Fake Score: 0.0036\n"
     ]
    },
    {
     "name": "stderr",
     "output_type": "stream",
     "text": [
      "                                                         \r"
     ]
    },
    {
     "name": "stdout",
     "output_type": "stream",
     "text": [
      "Epoch[35/100], Step[937/937]\n",
      "D_loss: 0.0002, G_loss: 11.6792\n",
      "Real Score: 1.0000, Fake Score: 0.0002\n"
     ]
    },
    {
     "name": "stderr",
     "output_type": "stream",
     "text": [
      "                                                         \r"
     ]
    },
    {
     "name": "stdout",
     "output_type": "stream",
     "text": [
      "Epoch[36/100], Step[937/937]\n",
      "D_loss: 0.0014, G_loss: 9.7238\n",
      "Real Score: 1.0000, Fake Score: 0.0013\n"
     ]
    },
    {
     "name": "stderr",
     "output_type": "stream",
     "text": [
      "                                                         \r"
     ]
    },
    {
     "name": "stdout",
     "output_type": "stream",
     "text": [
      "Epoch[37/100], Step[937/937]\n",
      "D_loss: 0.0000, G_loss: 30.7651\n",
      "Real Score: 1.0000, Fake Score: 0.0000\n"
     ]
    },
    {
     "name": "stderr",
     "output_type": "stream",
     "text": [
      "                                                         \r"
     ]
    },
    {
     "name": "stdout",
     "output_type": "stream",
     "text": [
      "Epoch[38/100], Step[937/937]\n",
      "D_loss: 0.0000, G_loss: 40.6558\n",
      "Real Score: 1.0000, Fake Score: 0.0000\n"
     ]
    },
    {
     "name": "stderr",
     "output_type": "stream",
     "text": [
      "                                                         \r"
     ]
    },
    {
     "name": "stdout",
     "output_type": "stream",
     "text": [
      "Epoch[39/100], Step[937/937]\n",
      "D_loss: 0.0000, G_loss: 15.0179\n",
      "Real Score: 1.0000, Fake Score: 0.0000\n"
     ]
    },
    {
     "name": "stderr",
     "output_type": "stream",
     "text": [
      "                                                         \r"
     ]
    },
    {
     "name": "stdout",
     "output_type": "stream",
     "text": [
      "Epoch[40/100], Step[937/937]\n",
      "D_loss: 0.0045, G_loss: 9.7482\n",
      "Real Score: 0.9998, Fake Score: 0.0042\n"
     ]
    },
    {
     "name": "stderr",
     "output_type": "stream",
     "text": [
      "                                                         \r"
     ]
    },
    {
     "name": "stdout",
     "output_type": "stream",
     "text": [
      "Epoch[41/100], Step[937/937]\n",
      "D_loss: 0.0001, G_loss: 12.6034\n",
      "Real Score: 1.0000, Fake Score: 0.0001\n"
     ]
    },
    {
     "name": "stderr",
     "output_type": "stream",
     "text": [
      "                                                         \r"
     ]
    },
    {
     "name": "stdout",
     "output_type": "stream",
     "text": [
      "Epoch[42/100], Step[937/937]\n",
      "D_loss: 0.0000, G_loss: 16.9848\n",
      "Real Score: 1.0000, Fake Score: 0.0000\n"
     ]
    },
    {
     "name": "stderr",
     "output_type": "stream",
     "text": [
      "                                                         \r"
     ]
    },
    {
     "name": "stdout",
     "output_type": "stream",
     "text": [
      "Epoch[43/100], Step[937/937]\n",
      "D_loss: 0.0002, G_loss: 13.8747\n",
      "Real Score: 1.0000, Fake Score: 0.0002\n"
     ]
    },
    {
     "name": "stderr",
     "output_type": "stream",
     "text": [
      "                                                         \r"
     ]
    },
    {
     "name": "stdout",
     "output_type": "stream",
     "text": [
      "Epoch[44/100], Step[937/937]\n",
      "D_loss: 0.0004, G_loss: 10.0178\n",
      "Real Score: 1.0000, Fake Score: 0.0004\n"
     ]
    },
    {
     "name": "stderr",
     "output_type": "stream",
     "text": [
      "                                                         \r"
     ]
    },
    {
     "name": "stdout",
     "output_type": "stream",
     "text": [
      "Epoch[45/100], Step[937/937]\n",
      "D_loss: 0.0012, G_loss: 12.0683\n",
      "Real Score: 1.0000, Fake Score: 0.0012\n"
     ]
    },
    {
     "name": "stderr",
     "output_type": "stream",
     "text": [
      "                                                         \r"
     ]
    },
    {
     "name": "stdout",
     "output_type": "stream",
     "text": [
      "Epoch[46/100], Step[937/937]\n",
      "D_loss: 0.0000, G_loss: 13.8328\n",
      "Real Score: 1.0000, Fake Score: 0.0000\n"
     ]
    },
    {
     "name": "stderr",
     "output_type": "stream",
     "text": [
      "                                                         \r"
     ]
    },
    {
     "name": "stdout",
     "output_type": "stream",
     "text": [
      "Epoch[47/100], Step[937/937]\n",
      "D_loss: 0.0002, G_loss: 11.7005\n",
      "Real Score: 1.0000, Fake Score: 0.0002\n"
     ]
    },
    {
     "name": "stderr",
     "output_type": "stream",
     "text": [
      "                                                         \r"
     ]
    },
    {
     "name": "stdout",
     "output_type": "stream",
     "text": [
      "Epoch[48/100], Step[937/937]\n",
      "D_loss: 0.0000, G_loss: 45.6710\n",
      "Real Score: 1.0000, Fake Score: 0.0000\n"
     ]
    },
    {
     "name": "stderr",
     "output_type": "stream",
     "text": [
      "                                                         \r"
     ]
    },
    {
     "name": "stdout",
     "output_type": "stream",
     "text": [
      "Epoch[49/100], Step[937/937]\n",
      "D_loss: 0.0000, G_loss: 36.5357\n",
      "Real Score: 1.0000, Fake Score: 0.0000\n"
     ]
    },
    {
     "name": "stderr",
     "output_type": "stream",
     "text": [
      "                                                         \r"
     ]
    },
    {
     "name": "stdout",
     "output_type": "stream",
     "text": [
      "Epoch[50/100], Step[937/937]\n",
      "D_loss: 0.0000, G_loss: 20.2019\n",
      "Real Score: 1.0000, Fake Score: 0.0000\n"
     ]
    },
    {
     "name": "stderr",
     "output_type": "stream",
     "text": [
      "                                                         \r"
     ]
    },
    {
     "name": "stdout",
     "output_type": "stream",
     "text": [
      "Epoch[51/100], Step[937/937]\n",
      "D_loss: 0.0009, G_loss: 10.8818\n",
      "Real Score: 1.0000, Fake Score: 0.0009\n"
     ]
    },
    {
     "name": "stderr",
     "output_type": "stream",
     "text": [
      "                                                         \r"
     ]
    },
    {
     "name": "stdout",
     "output_type": "stream",
     "text": [
      "Epoch[52/100], Step[937/937]\n",
      "D_loss: 0.0147, G_loss: 11.1207\n",
      "Real Score: 1.0000, Fake Score: 0.0102\n"
     ]
    },
    {
     "name": "stderr",
     "output_type": "stream",
     "text": [
      "                                                         \r"
     ]
    },
    {
     "name": "stdout",
     "output_type": "stream",
     "text": [
      "Epoch[53/100], Step[937/937]\n",
      "D_loss: 0.0056, G_loss: 12.2174\n",
      "Real Score: 0.9965, Fake Score: 0.0016\n"
     ]
    },
    {
     "name": "stderr",
     "output_type": "stream",
     "text": [
      "                                                         \r"
     ]
    },
    {
     "name": "stdout",
     "output_type": "stream",
     "text": [
      "Epoch[54/100], Step[937/937]\n",
      "D_loss: 0.0019, G_loss: 9.5434\n",
      "Real Score: 1.0000, Fake Score: 0.0019\n"
     ]
    },
    {
     "name": "stderr",
     "output_type": "stream",
     "text": [
      "                                                         \r"
     ]
    },
    {
     "name": "stdout",
     "output_type": "stream",
     "text": [
      "Epoch[55/100], Step[937/937]\n",
      "D_loss: 0.0000, G_loss: 35.8317\n",
      "Real Score: 1.0000, Fake Score: 0.0000\n"
     ]
    },
    {
     "name": "stderr",
     "output_type": "stream",
     "text": [
      "                                                         \r"
     ]
    },
    {
     "name": "stdout",
     "output_type": "stream",
     "text": [
      "Epoch[56/100], Step[937/937]\n",
      "D_loss: 0.0001, G_loss: 12.8212\n",
      "Real Score: 1.0000, Fake Score: 0.0001\n"
     ]
    },
    {
     "name": "stderr",
     "output_type": "stream",
     "text": [
      "                                                         \r"
     ]
    },
    {
     "name": "stdout",
     "output_type": "stream",
     "text": [
      "Epoch[57/100], Step[937/937]\n",
      "D_loss: 0.0033, G_loss: 14.6280\n",
      "Real Score: 0.9971, Fake Score: 0.0000\n"
     ]
    },
    {
     "name": "stderr",
     "output_type": "stream",
     "text": [
      "                                                         \r"
     ]
    },
    {
     "name": "stdout",
     "output_type": "stream",
     "text": [
      "Epoch[58/100], Step[937/937]\n",
      "D_loss: 0.0372, G_loss: 38.1420\n",
      "Real Score: 0.9835, Fake Score: 0.0000\n"
     ]
    },
    {
     "name": "stderr",
     "output_type": "stream",
     "text": [
      "                                                         \r"
     ]
    },
    {
     "name": "stdout",
     "output_type": "stream",
     "text": [
      "Epoch[59/100], Step[937/937]\n",
      "D_loss: 0.0242, G_loss: 9.5778\n",
      "Real Score: 1.0000, Fake Score: 0.0141\n"
     ]
    },
    {
     "name": "stderr",
     "output_type": "stream",
     "text": [
      "                                                         \r"
     ]
    },
    {
     "name": "stdout",
     "output_type": "stream",
     "text": [
      "Epoch[60/100], Step[937/937]\n",
      "D_loss: 0.0047, G_loss: 9.6316\n",
      "Real Score: 0.9963, Fake Score: 0.0007\n"
     ]
    },
    {
     "name": "stderr",
     "output_type": "stream",
     "text": [
      "                                                         \r"
     ]
    },
    {
     "name": "stdout",
     "output_type": "stream",
     "text": [
      "Epoch[61/100], Step[937/937]\n",
      "D_loss: 0.0006, G_loss: 13.4637\n",
      "Real Score: 1.0000, Fake Score: 0.0006\n"
     ]
    },
    {
     "name": "stderr",
     "output_type": "stream",
     "text": [
      "                                                         \r"
     ]
    },
    {
     "name": "stdout",
     "output_type": "stream",
     "text": [
      "Epoch[62/100], Step[937/937]\n",
      "D_loss: 0.0006, G_loss: 10.2802\n",
      "Real Score: 1.0000, Fake Score: 0.0006\n"
     ]
    },
    {
     "name": "stderr",
     "output_type": "stream",
     "text": [
      "                                                         \r"
     ]
    },
    {
     "name": "stdout",
     "output_type": "stream",
     "text": [
      "Epoch[63/100], Step[937/937]\n",
      "D_loss: 0.0001, G_loss: 13.0316\n",
      "Real Score: 1.0000, Fake Score: 0.0000\n"
     ]
    },
    {
     "name": "stderr",
     "output_type": "stream",
     "text": [
      "                                                         \r"
     ]
    },
    {
     "name": "stdout",
     "output_type": "stream",
     "text": [
      "Epoch[64/100], Step[937/937]\n",
      "D_loss: 0.0001, G_loss: 18.6753\n",
      "Real Score: 1.0000, Fake Score: 0.0001\n"
     ]
    },
    {
     "name": "stderr",
     "output_type": "stream",
     "text": [
      "                                                         \r"
     ]
    },
    {
     "name": "stdout",
     "output_type": "stream",
     "text": [
      "Epoch[65/100], Step[937/937]\n",
      "D_loss: 0.0049, G_loss: 9.4286\n",
      "Real Score: 0.9968, Fake Score: 0.0014\n"
     ]
    },
    {
     "name": "stderr",
     "output_type": "stream",
     "text": [
      "                                                         \r"
     ]
    },
    {
     "name": "stdout",
     "output_type": "stream",
     "text": [
      "Epoch[66/100], Step[937/937]\n",
      "D_loss: 0.0010, G_loss: 7.7379\n",
      "Real Score: 1.0000, Fake Score: 0.0010\n"
     ]
    },
    {
     "name": "stderr",
     "output_type": "stream",
     "text": [
      "                                                         \r"
     ]
    },
    {
     "name": "stdout",
     "output_type": "stream",
     "text": [
      "Epoch[67/100], Step[937/937]\n",
      "D_loss: 0.0078, G_loss: 11.7302\n",
      "Real Score: 0.9939, Fake Score: 0.0004\n"
     ]
    },
    {
     "name": "stderr",
     "output_type": "stream",
     "text": [
      "                                                         \r"
     ]
    },
    {
     "name": "stdout",
     "output_type": "stream",
     "text": [
      "Epoch[68/100], Step[937/937]\n",
      "D_loss: 0.0094, G_loss: 9.5192\n",
      "Real Score: 0.9952, Fake Score: 0.0035\n"
     ]
    },
    {
     "name": "stderr",
     "output_type": "stream",
     "text": [
      "                                                         \r"
     ]
    },
    {
     "name": "stdout",
     "output_type": "stream",
     "text": [
      "Epoch[69/100], Step[937/937]\n",
      "D_loss: 0.0030, G_loss: 8.6264\n",
      "Real Score: 0.9998, Fake Score: 0.0027\n"
     ]
    },
    {
     "name": "stderr",
     "output_type": "stream",
     "text": [
      "                                                         \r"
     ]
    },
    {
     "name": "stdout",
     "output_type": "stream",
     "text": [
      "Epoch[70/100], Step[937/937]\n",
      "D_loss: 0.0376, G_loss: 12.8541\n",
      "Real Score: 0.9759, Fake Score: 0.0000\n"
     ]
    },
    {
     "name": "stderr",
     "output_type": "stream",
     "text": [
      "                                                         \r"
     ]
    },
    {
     "name": "stdout",
     "output_type": "stream",
     "text": [
      "Epoch[71/100], Step[937/937]\n",
      "D_loss: 0.0052, G_loss: 7.9333\n",
      "Real Score: 1.0000, Fake Score: 0.0050\n"
     ]
    },
    {
     "name": "stderr",
     "output_type": "stream",
     "text": [
      "                                                         \r"
     ]
    },
    {
     "name": "stdout",
     "output_type": "stream",
     "text": [
      "Epoch[72/100], Step[937/937]\n",
      "D_loss: 0.0032, G_loss: 9.4014\n",
      "Real Score: 0.9993, Fake Score: 0.0025\n"
     ]
    },
    {
     "name": "stderr",
     "output_type": "stream",
     "text": [
      "                                                         \r"
     ]
    },
    {
     "name": "stdout",
     "output_type": "stream",
     "text": [
      "Epoch[73/100], Step[937/937]\n",
      "D_loss: 0.0133, G_loss: 6.0859\n",
      "Real Score: 0.9923, Fake Score: 0.0027\n"
     ]
    },
    {
     "name": "stderr",
     "output_type": "stream",
     "text": [
      "                                                         \r"
     ]
    },
    {
     "name": "stdout",
     "output_type": "stream",
     "text": [
      "Epoch[74/100], Step[937/937]\n",
      "D_loss: 0.0789, G_loss: 10.0151\n",
      "Real Score: 0.9741, Fake Score: 0.0115\n"
     ]
    },
    {
     "name": "stderr",
     "output_type": "stream",
     "text": [
      "                                                         \r"
     ]
    },
    {
     "name": "stdout",
     "output_type": "stream",
     "text": [
      "Epoch[75/100], Step[937/937]\n",
      "D_loss: 0.0030, G_loss: 9.4570\n",
      "Real Score: 0.9999, Fake Score: 0.0028\n"
     ]
    },
    {
     "name": "stderr",
     "output_type": "stream",
     "text": [
      "                                                         \r"
     ]
    },
    {
     "name": "stdout",
     "output_type": "stream",
     "text": [
      "Epoch[76/100], Step[937/937]\n",
      "D_loss: 0.0048, G_loss: 7.9696\n",
      "Real Score: 0.9980, Fake Score: 0.0027\n"
     ]
    },
    {
     "name": "stderr",
     "output_type": "stream",
     "text": [
      "                                                         \r"
     ]
    },
    {
     "name": "stdout",
     "output_type": "stream",
     "text": [
      "Epoch[77/100], Step[937/937]\n",
      "D_loss: 0.0010, G_loss: 11.1459\n",
      "Real Score: 0.9998, Fake Score: 0.0008\n"
     ]
    },
    {
     "name": "stderr",
     "output_type": "stream",
     "text": [
      "                                                         \r"
     ]
    },
    {
     "name": "stdout",
     "output_type": "stream",
     "text": [
      "Epoch[78/100], Step[937/937]\n",
      "D_loss: 0.0078, G_loss: 7.1857\n",
      "Real Score: 1.0000, Fake Score: 0.0071\n"
     ]
    },
    {
     "name": "stderr",
     "output_type": "stream",
     "text": [
      "                                                         \r"
     ]
    },
    {
     "name": "stdout",
     "output_type": "stream",
     "text": [
      "Epoch[79/100], Step[937/937]\n",
      "D_loss: 0.0113, G_loss: 7.4484\n",
      "Real Score: 0.9998, Fake Score: 0.0099\n"
     ]
    },
    {
     "name": "stderr",
     "output_type": "stream",
     "text": [
      "                                                         \r"
     ]
    },
    {
     "name": "stdout",
     "output_type": "stream",
     "text": [
      "Epoch[80/100], Step[937/937]\n",
      "D_loss: 0.0091, G_loss: 10.3114\n",
      "Real Score: 0.9934, Fake Score: 0.0017\n"
     ]
    },
    {
     "name": "stderr",
     "output_type": "stream",
     "text": [
      "                                                         \r"
     ]
    },
    {
     "name": "stdout",
     "output_type": "stream",
     "text": [
      "Epoch[81/100], Step[937/937]\n",
      "D_loss: 0.0004, G_loss: 10.4810\n",
      "Real Score: 0.9999, Fake Score: 0.0004\n"
     ]
    },
    {
     "name": "stderr",
     "output_type": "stream",
     "text": [
      "                                                         \r"
     ]
    },
    {
     "name": "stdout",
     "output_type": "stream",
     "text": [
      "Epoch[82/100], Step[937/937]\n",
      "D_loss: 0.1020, G_loss: 9.7844\n",
      "Real Score: 0.9775, Fake Score: 0.0033\n"
     ]
    },
    {
     "name": "stderr",
     "output_type": "stream",
     "text": [
      "                                                         \r"
     ]
    },
    {
     "name": "stdout",
     "output_type": "stream",
     "text": [
      "Epoch[83/100], Step[937/937]\n",
      "D_loss: 0.0779, G_loss: 8.0603\n",
      "Real Score: 0.9763, Fake Score: 0.0019\n"
     ]
    },
    {
     "name": "stderr",
     "output_type": "stream",
     "text": [
      "                                                         \r"
     ]
    },
    {
     "name": "stdout",
     "output_type": "stream",
     "text": [
      "Epoch[84/100], Step[937/937]\n",
      "D_loss: 0.0123, G_loss: 8.5339\n",
      "Real Score: 0.9921, Fake Score: 0.0018\n"
     ]
    },
    {
     "name": "stderr",
     "output_type": "stream",
     "text": [
      "                                                         \r"
     ]
    },
    {
     "name": "stdout",
     "output_type": "stream",
     "text": [
      "Epoch[85/100], Step[937/937]\n",
      "D_loss: 0.0274, G_loss: 7.9256\n",
      "Real Score: 0.9987, Fake Score: 0.0146\n"
     ]
    },
    {
     "name": "stderr",
     "output_type": "stream",
     "text": [
      "                                                         \r"
     ]
    },
    {
     "name": "stdout",
     "output_type": "stream",
     "text": [
      "Epoch[86/100], Step[937/937]\n",
      "D_loss: 0.0866, G_loss: 5.1156\n",
      "Real Score: 0.9948, Fake Score: 0.0620\n"
     ]
    },
    {
     "name": "stderr",
     "output_type": "stream",
     "text": [
      "                                                         \r"
     ]
    },
    {
     "name": "stdout",
     "output_type": "stream",
     "text": [
      "Epoch[87/100], Step[937/937]\n",
      "D_loss: 0.0047, G_loss: 9.5579\n",
      "Real Score: 0.9959, Fake Score: 0.0005\n"
     ]
    },
    {
     "name": "stderr",
     "output_type": "stream",
     "text": [
      "                                                         \r"
     ]
    },
    {
     "name": "stdout",
     "output_type": "stream",
     "text": [
      "Epoch[88/100], Step[937/937]\n",
      "D_loss: 0.0985, G_loss: 7.6440\n",
      "Real Score: 0.9818, Fake Score: 0.0038\n"
     ]
    },
    {
     "name": "stderr",
     "output_type": "stream",
     "text": [
      "                                                         \r"
     ]
    },
    {
     "name": "stdout",
     "output_type": "stream",
     "text": [
      "Epoch[89/100], Step[937/937]\n",
      "D_loss: 0.0477, G_loss: 5.2235\n",
      "Real Score: 0.9779, Fake Score: 0.0083\n"
     ]
    },
    {
     "name": "stderr",
     "output_type": "stream",
     "text": [
      "                                                         \r"
     ]
    },
    {
     "name": "stdout",
     "output_type": "stream",
     "text": [
      "Epoch[90/100], Step[937/937]\n",
      "D_loss: 0.1132, G_loss: 6.9869\n",
      "Real Score: 0.9538, Fake Score: 0.0048\n"
     ]
    },
    {
     "name": "stderr",
     "output_type": "stream",
     "text": [
      "                                                         \r"
     ]
    },
    {
     "name": "stdout",
     "output_type": "stream",
     "text": [
      "Epoch[91/100], Step[937/937]\n",
      "D_loss: 0.0193, G_loss: 5.7310\n",
      "Real Score: 0.9985, Fake Score: 0.0170\n"
     ]
    },
    {
     "name": "stderr",
     "output_type": "stream",
     "text": [
      "                                                         \r"
     ]
    },
    {
     "name": "stdout",
     "output_type": "stream",
     "text": [
      "Epoch[92/100], Step[937/937]\n",
      "D_loss: 0.0020, G_loss: 6.6950\n",
      "Real Score: 0.9998, Fake Score: 0.0018\n"
     ]
    },
    {
     "name": "stderr",
     "output_type": "stream",
     "text": [
      "                                                         \r"
     ]
    },
    {
     "name": "stdout",
     "output_type": "stream",
     "text": [
      "Epoch[93/100], Step[937/937]\n",
      "D_loss: 0.0029, G_loss: 7.1699\n",
      "Real Score: 0.9995, Fake Score: 0.0024\n"
     ]
    },
    {
     "name": "stderr",
     "output_type": "stream",
     "text": [
      "                                                         \r"
     ]
    },
    {
     "name": "stdout",
     "output_type": "stream",
     "text": [
      "Epoch[94/100], Step[937/937]\n",
      "D_loss: 0.0519, G_loss: 4.4566\n",
      "Real Score: 0.9864, Fake Score: 0.0266\n"
     ]
    },
    {
     "name": "stderr",
     "output_type": "stream",
     "text": [
      "                                                         \r"
     ]
    },
    {
     "name": "stdout",
     "output_type": "stream",
     "text": [
      "Epoch[95/100], Step[937/937]\n",
      "D_loss: 0.0644, G_loss: 5.2233\n",
      "Real Score: 0.9652, Fake Score: 0.0082\n"
     ]
    },
    {
     "name": "stderr",
     "output_type": "stream",
     "text": [
      "                                                         \r"
     ]
    },
    {
     "name": "stdout",
     "output_type": "stream",
     "text": [
      "Epoch[96/100], Step[937/937]\n",
      "D_loss: 0.1017, G_loss: 6.1498\n",
      "Real Score: 0.9659, Fake Score: 0.0182\n"
     ]
    },
    {
     "name": "stderr",
     "output_type": "stream",
     "text": [
      "                                                         \r"
     ]
    },
    {
     "name": "stdout",
     "output_type": "stream",
     "text": [
      "Epoch[97/100], Step[937/937]\n",
      "D_loss: 0.0244, G_loss: 6.0906\n",
      "Real Score: 0.9920, Fake Score: 0.0145\n"
     ]
    },
    {
     "name": "stderr",
     "output_type": "stream",
     "text": [
      "                                                         \r"
     ]
    },
    {
     "name": "stdout",
     "output_type": "stream",
     "text": [
      "Epoch[98/100], Step[937/937]\n",
      "D_loss: 0.4304, G_loss: 11.7591\n",
      "Real Score: 0.9112, Fake Score: 0.0000\n"
     ]
    },
    {
     "name": "stderr",
     "output_type": "stream",
     "text": [
      "                                                         "
     ]
    },
    {
     "name": "stdout",
     "output_type": "stream",
     "text": [
      "Epoch[99/100], Step[937/937]\n",
      "D_loss: 0.0555, G_loss: 4.2978\n",
      "Real Score: 0.9825, Fake Score: 0.0085\n"
     ]
    },
    {
     "name": "stderr",
     "output_type": "stream",
     "text": [
      "\r"
     ]
    }
   ],
   "source": [
    "D = Discriminator(input_dim=image_size)\n",
    "G = Generator(latent_dim=latent_dim)\n",
    "\n",
    "D = D.to(device)\n",
    "G = G.to(device)\n",
    "\n",
    "criterion = nn.BCELoss()\n",
    "d_optimizer = torch.optim.Adam(D.parameters(), lr=d_lr)\n",
    "g_optimizer = torch.optim.Adam(G.parameters(), lr=g_lr)\n",
    "\n",
    "fixed_noise = torch.randn(batch_size, latent_dim, device=device)\n",
    "for epoch in range(epochs):\n",
    "    for idx, (images, _) in enumerate(tqdm(train_dataloader, desc=\"Train\", leave=False)):\n",
    "        real_images = images.reshape(batch_size, -1).to(device)\n",
    "        real_labels = torch.ones(batch_size, 1).to(device)\n",
    "        fake_labels = torch.zeros(batch_size, 1).to(device)\n",
    "\n",
    "        # Train the discriminator\n",
    "        # Initialize gradients for both optimizers\n",
    "        d_optimizer.zero_grad()\n",
    "        \n",
    "        # Forward pass for real images\n",
    "        real_outputs = D(real_images)\n",
    "        d_real_loss = criterion(real_outputs, real_labels)\n",
    "\n",
    "        # Sample noise and generate fake data\n",
    "        z = torch.randn(batch_size, latent_dim).to(device)\n",
    "        fake_images = G(z)\n",
    "        fake_outputs = D(fake_images.detach())\n",
    "        d_fake_loss = criterion(fake_outputs, fake_labels)\n",
    "\n",
    "        # Backward pass and optimize\n",
    "        d_loss = d_real_loss + d_fake_loss\n",
    "        d_loss.backward()\n",
    "        d_optimizer.step()\n",
    "\n",
    "        # Train the generator every k steps\n",
    "        if (idx+1) % disc_iter == 0:\n",
    "            # Reset gradients for generator optimizer\n",
    "            g_optimizer.zero_grad()\n",
    "            \n",
    "            # Sample noise and generate fake data\n",
    "            z = torch.randn(batch_size, latent_dim).to(device)\n",
    "            fake_images = G(z)\n",
    "            # We want to fool the discriminator, so we assign real labels\n",
    "            outputs = D(fake_images)\n",
    "            g_loss = criterion(outputs, real_labels)\n",
    "\n",
    "            # Backward pass and optimize\n",
    "            g_loss.backward()\n",
    "            g_optimizer.step()\n",
    "\n",
    "    save_fake_images(epoch+1, G, fixed_noise, input_dim, 28, 28)\n",
    "    # Print losses and scores\n",
    "    print(f\"Epoch[{epoch}/{epochs}], Step[{idx+1}/{len(train_dataloader)}]\")\n",
    "    print(f\"D_loss: {d_loss.item():.4f}, G_loss: {g_loss.item():.4f}\")\n",
    "    print(f\"Real Score: {real_outputs.mean().item():.4f}, Fake Score: {fake_outputs.mean().item():.4f}\")\n",
    "\n",
    "# Save the model checkpoints \n",
    "torch.save(G.state_dict(), f'{save_dir}/G.ckpt')\n",
    "torch.save(D.state_dict(), f'{save_dir}/D.ckpt')"
   ]
  }
 ],
 "metadata": {
  "kernelspec": {
   "display_name": "openmmlab",
   "language": "python",
   "name": "python3"
  },
  "language_info": {
   "codemirror_mode": {
    "name": "ipython",
    "version": 3
   },
   "file_extension": ".py",
   "mimetype": "text/x-python",
   "name": "python",
   "nbconvert_exporter": "python",
   "pygments_lexer": "ipython3",
   "version": "3.8.10"
  }
 },
 "nbformat": 4,
 "nbformat_minor": 2
}
