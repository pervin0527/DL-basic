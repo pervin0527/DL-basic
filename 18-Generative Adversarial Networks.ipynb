{
 "cells": [
  {
   "cell_type": "code",
   "execution_count": 1,
   "metadata": {},
   "outputs": [],
   "source": [
    "import os\n",
    "import torch\n",
    "import torchvision\n",
    "\n",
    "from tqdm import tqdm\n",
    "from torch import nn\n",
    "from torch.utils.data import DataLoader\n",
    "from torchvision import transforms\n",
    "from torchvision.utils import save_image"
   ]
  },
  {
   "cell_type": "code",
   "execution_count": 2,
   "metadata": {},
   "outputs": [],
   "source": [
    "save_dir = \"./runs/GAN\"\n",
    "data_dir = \"/home/pervinco/Datasets/torch_mnist\"\n",
    "\n",
    "epochs = 200\n",
    "batch_size = 64\n",
    "d_lr = 0.0001\n",
    "g_lr = 0.0001\n",
    "\n",
    "latent_dim = 64\n",
    "hidden_dim = 256\n",
    "image_size = 784\n",
    "\n",
    "num_workers = os.cpu_count()\n",
    "device = torch.device(\"cuda:0\" if torch.cuda.is_available() else \"cpu\")\n",
    "\n",
    "if not os.path.exists(save_dir):\n",
    "    os.makedirs(save_dir)"
   ]
  },
  {
   "cell_type": "code",
   "execution_count": 3,
   "metadata": {},
   "outputs": [],
   "source": [
    "class Discriminator(nn.Module):\n",
    "    def __init__(self, input_dim):\n",
    "        super().__init__()\n",
    "\n",
    "        self.model = nn.Sequential(\n",
    "            nn.Linear(input_dim, hidden_dim),\n",
    "            nn.LeakyReLU(0.2),\n",
    "            nn.Linear(hidden_dim, hidden_dim),\n",
    "            nn.LeakyReLU(0.2),\n",
    "            nn.Linear(hidden_dim, 1),\n",
    "            nn.Sigmoid(),\n",
    "        )\n",
    "\n",
    "    def forward(self, x):\n",
    "        x = self.model(x)\n",
    "\n",
    "        return x"
   ]
  },
  {
   "cell_type": "code",
   "execution_count": 4,
   "metadata": {},
   "outputs": [],
   "source": [
    "class Generator(nn.Module):\n",
    "    def __init__(self, latent_dim):\n",
    "        super().__init__()\n",
    "\n",
    "        self.model = nn.Sequential(\n",
    "            nn.Linear(latent_dim, hidden_dim),\n",
    "            nn.ReLU(),\n",
    "            nn.Linear(hidden_dim, hidden_dim),\n",
    "            nn.ReLU(),\n",
    "            nn.Linear(hidden_dim, image_size),\n",
    "            nn.Tanh()\n",
    "        )\n",
    "\n",
    "    def forward(self, z):\n",
    "        z = self.model(z)\n",
    "        \n",
    "        return z"
   ]
  },
  {
   "cell_type": "code",
   "execution_count": 5,
   "metadata": {},
   "outputs": [],
   "source": [
    "transform = transforms.Compose([transforms.ToTensor(),\n",
    "                                transforms.Normalize(mean=[0.5], std=[0.5])])\n",
    "\n",
    "train_dataset = torchvision.datasets.MNIST(root=data_dir,\n",
    "                                           train=True,\n",
    "                                           transform=transform,\n",
    "                                           download=True)\n",
    "\n",
    "train_dataloader = DataLoader(dataset=train_dataset, batch_size=batch_size, shuffle=True, drop_last=True)"
   ]
  },
  {
   "cell_type": "code",
   "execution_count": 7,
   "metadata": {},
   "outputs": [],
   "source": [
    "def denorm(x):\n",
    "    out = (x + 1) / 2\n",
    "    return out.clamp(0, 1)"
   ]
  },
  {
   "cell_type": "code",
   "execution_count": 9,
   "metadata": {},
   "outputs": [
    {
     "name": "stderr",
     "output_type": "stream",
     "text": [
      "                                                         \r"
     ]
    },
    {
     "name": "stdout",
     "output_type": "stream",
     "text": [
      "Epoch[0/200], Step[937/937]\n",
      "D_loss : 0.1652, G_loss : 3.2267\n",
      "Real Score : 0.9463, Fake Score : 0.0975\n"
     ]
    },
    {
     "name": "stderr",
     "output_type": "stream",
     "text": [
      "                                                         \r"
     ]
    },
    {
     "name": "stdout",
     "output_type": "stream",
     "text": [
      "Epoch[10/200], Step[937/937]\n",
      "D_loss : 0.2049, G_loss : 4.8571\n",
      "Real Score : 0.9793, Fake Score : 0.1384\n"
     ]
    },
    {
     "name": "stderr",
     "output_type": "stream",
     "text": [
      "                                                         \r"
     ]
    },
    {
     "name": "stdout",
     "output_type": "stream",
     "text": [
      "Epoch[20/200], Step[937/937]\n",
      "D_loss : 0.0842, G_loss : 5.6074\n",
      "Real Score : 0.9814, Fake Score : 0.0207\n"
     ]
    },
    {
     "name": "stderr",
     "output_type": "stream",
     "text": [
      "                                                         \r"
     ]
    },
    {
     "name": "stdout",
     "output_type": "stream",
     "text": [
      "Epoch[30/200], Step[937/937]\n",
      "D_loss : 0.2079, G_loss : 3.7800\n",
      "Real Score : 0.9182, Fake Score : 0.0529\n"
     ]
    },
    {
     "name": "stderr",
     "output_type": "stream",
     "text": [
      "                                                         \r"
     ]
    },
    {
     "name": "stdout",
     "output_type": "stream",
     "text": [
      "Epoch[40/200], Step[937/937]\n",
      "D_loss : 0.5208, G_loss : 3.6023\n",
      "Real Score : 0.8834, Fake Score : 0.1553\n"
     ]
    },
    {
     "name": "stderr",
     "output_type": "stream",
     "text": [
      "                                                         \r"
     ]
    },
    {
     "name": "stdout",
     "output_type": "stream",
     "text": [
      "Epoch[50/200], Step[937/937]\n",
      "D_loss : 0.4316, G_loss : 2.5888\n",
      "Real Score : 0.8474, Fake Score : 0.1272\n"
     ]
    },
    {
     "name": "stderr",
     "output_type": "stream",
     "text": [
      "                                                         \r"
     ]
    },
    {
     "name": "stdout",
     "output_type": "stream",
     "text": [
      "Epoch[60/200], Step[937/937]\n",
      "D_loss : 0.7734, G_loss : 2.7718\n",
      "Real Score : 0.7660, Fake Score : 0.2044\n"
     ]
    },
    {
     "name": "stderr",
     "output_type": "stream",
     "text": [
      "                                                         \r"
     ]
    },
    {
     "name": "stdout",
     "output_type": "stream",
     "text": [
      "Epoch[70/200], Step[937/937]\n",
      "D_loss : 0.8416, G_loss : 1.7307\n",
      "Real Score : 0.7275, Fake Score : 0.2847\n"
     ]
    },
    {
     "name": "stderr",
     "output_type": "stream",
     "text": [
      "                                                         \r"
     ]
    },
    {
     "name": "stdout",
     "output_type": "stream",
     "text": [
      "Epoch[80/200], Step[937/937]\n",
      "D_loss : 0.7958, G_loss : 1.8153\n",
      "Real Score : 0.7967, Fake Score : 0.3108\n"
     ]
    },
    {
     "name": "stderr",
     "output_type": "stream",
     "text": [
      "                                                         \r"
     ]
    },
    {
     "name": "stdout",
     "output_type": "stream",
     "text": [
      "Epoch[90/200], Step[937/937]\n",
      "D_loss : 0.7865, G_loss : 2.1533\n",
      "Real Score : 0.7181, Fake Score : 0.2346\n"
     ]
    },
    {
     "name": "stderr",
     "output_type": "stream",
     "text": [
      "                                                         \r"
     ]
    },
    {
     "name": "stdout",
     "output_type": "stream",
     "text": [
      "Epoch[100/200], Step[937/937]\n",
      "D_loss : 0.8525, G_loss : 1.8530\n",
      "Real Score : 0.7390, Fake Score : 0.2730\n"
     ]
    },
    {
     "name": "stderr",
     "output_type": "stream",
     "text": [
      "                                                         \r"
     ]
    },
    {
     "name": "stdout",
     "output_type": "stream",
     "text": [
      "Epoch[110/200], Step[937/937]\n",
      "D_loss : 0.9031, G_loss : 1.4449\n",
      "Real Score : 0.8041, Fake Score : 0.3824\n"
     ]
    },
    {
     "name": "stderr",
     "output_type": "stream",
     "text": [
      "                                                         \r"
     ]
    },
    {
     "name": "stdout",
     "output_type": "stream",
     "text": [
      "Epoch[120/200], Step[937/937]\n",
      "D_loss : 0.7613, G_loss : 1.4835\n",
      "Real Score : 0.7171, Fake Score : 0.2348\n"
     ]
    },
    {
     "name": "stderr",
     "output_type": "stream",
     "text": [
      "                                                         \r"
     ]
    },
    {
     "name": "stdout",
     "output_type": "stream",
     "text": [
      "Epoch[130/200], Step[937/937]\n",
      "D_loss : 0.7794, G_loss : 1.4543\n",
      "Real Score : 0.7581, Fake Score : 0.3079\n"
     ]
    },
    {
     "name": "stderr",
     "output_type": "stream",
     "text": [
      "                                                         \r"
     ]
    },
    {
     "name": "stdout",
     "output_type": "stream",
     "text": [
      "Epoch[140/200], Step[937/937]\n",
      "D_loss : 1.2812, G_loss : 1.4295\n",
      "Real Score : 0.5830, Fake Score : 0.3441\n"
     ]
    },
    {
     "name": "stderr",
     "output_type": "stream",
     "text": [
      "                                                         \r"
     ]
    },
    {
     "name": "stdout",
     "output_type": "stream",
     "text": [
      "Epoch[150/200], Step[937/937]\n",
      "D_loss : 0.7842, G_loss : 1.6454\n",
      "Real Score : 0.7152, Fake Score : 0.2758\n"
     ]
    },
    {
     "name": "stderr",
     "output_type": "stream",
     "text": [
      "                                                         \r"
     ]
    },
    {
     "name": "stdout",
     "output_type": "stream",
     "text": [
      "Epoch[160/200], Step[937/937]\n",
      "D_loss : 0.9154, G_loss : 1.7281\n",
      "Real Score : 0.7959, Fake Score : 0.3540\n"
     ]
    },
    {
     "name": "stderr",
     "output_type": "stream",
     "text": [
      "                                                         \r"
     ]
    },
    {
     "name": "stdout",
     "output_type": "stream",
     "text": [
      "Epoch[170/200], Step[937/937]\n",
      "D_loss : 0.8091, G_loss : 1.6097\n",
      "Real Score : 0.7327, Fake Score : 0.2903\n"
     ]
    },
    {
     "name": "stderr",
     "output_type": "stream",
     "text": [
      "                                                         \r"
     ]
    },
    {
     "name": "stdout",
     "output_type": "stream",
     "text": [
      "Epoch[180/200], Step[937/937]\n",
      "D_loss : 0.8456, G_loss : 1.8595\n",
      "Real Score : 0.7347, Fake Score : 0.2908\n"
     ]
    },
    {
     "name": "stderr",
     "output_type": "stream",
     "text": [
      "                                                         \r"
     ]
    },
    {
     "name": "stdout",
     "output_type": "stream",
     "text": [
      "Epoch[190/200], Step[937/937]\n",
      "D_loss : 0.7821, G_loss : 1.6569\n",
      "Real Score : 0.7935, Fake Score : 0.3152\n"
     ]
    },
    {
     "name": "stderr",
     "output_type": "stream",
     "text": [
      "                                                         \r"
     ]
    }
   ],
   "source": [
    "D = Discriminator(input_dim=image_size)\n",
    "G = Generator(latent_dim=latent_dim)\n",
    "\n",
    "D = D.to(device)\n",
    "G = G.to(device)\n",
    "\n",
    "criterion = nn.BCELoss()\n",
    "d_optimizer = torch.optim.Adam(D.parameters(), lr=d_lr)\n",
    "g_optimizer = torch.optim.Adam(G.parameters(), lr=g_lr)\n",
    "\n",
    "for epoch in range(epochs):\n",
    "    for idx, (images, _) in enumerate(tqdm(train_dataloader, desc=\"Train\", leave=False)):\n",
    "        images = images.reshape(batch_size, -1).to(device)\n",
    "        real_labels = torch.ones(batch_size, 1).to(device)\n",
    "        fake_labels = torch.zeros(batch_size, 1).to(device)\n",
    "\n",
    "        # ================================================================== #\n",
    "        #                      Train the discriminator                       #\n",
    "        # ================================================================== #\n",
    "\n",
    "        d_optimizer.zero_grad()\n",
    "        g_optimizer.zero_grad()\n",
    "\n",
    "        outputs = D(images)\n",
    "        d_real_loss = criterion(outputs, real_labels) ## first term of object func\n",
    "        real_score = outputs\n",
    "\n",
    "        z = torch.randn(batch_size, latent_dim).to(device)\n",
    "        fake_images = G(z)\n",
    "        outputs = D(fake_images)\n",
    "        d_fake_loss = criterion(outputs, fake_labels) ## second_term of object func\n",
    "        fake_score = outputs\n",
    "\n",
    "        d_loss = d_real_loss + d_fake_loss\n",
    "        d_loss.backward()\n",
    "        d_optimizer.step()\n",
    "\n",
    "        # ================================================================== #\n",
    "        #                        Train the generator                         #\n",
    "        # ================================================================== #\n",
    "\n",
    "        d_optimizer.zero_grad()\n",
    "        g_optimizer.zero_grad()\n",
    "\n",
    "        z = torch.randn(batch_size, latent_dim).to(device)\n",
    "        fake_images = G(z)\n",
    "        outputs = D(fake_images)\n",
    "        g_loss = criterion(outputs, real_labels) ## 가짜 데이터를 입력 받았을 때 D가 진짜라고 분류한 비율을 이용해 오차를 계산한다.\n",
    "        g_loss.backward()\n",
    "        g_optimizer.step()\n",
    "\n",
    "    if epoch % 10 == 0 or epoch == epochs:\n",
    "        print(f\"Epoch[{epoch}/{epochs}], Step[{idx+1}/{len(train_dataloader)}]\")\n",
    "        print(f\"D_loss : {d_loss.item():.4f}, G_loss : {g_loss.item():.4f}\")\n",
    "        print(f\"Real Score : {real_score.mean().item():.4f}, Fake Score : {fake_score.mean().item():.4f}\")\n",
    "\n",
    "    # Save real images\n",
    "    if (epoch+1) == 1:\n",
    "        images = images.reshape(images.size(0), 1, 28, 28)\n",
    "        save_image(denorm(images), f\"{save_dir}/real_images.png\")\n",
    "    \n",
    "    # Save sampled images\n",
    "    fake_images = fake_images.reshape(fake_images.size(0), 1, 28, 28)\n",
    "    save_image(denorm(fake_images), f\"{save_dir}/fake_images_{epoch+1:04}.png\")\n",
    "\n",
    "# Save the model checkpoints \n",
    "torch.save(G.state_dict(), f'{save_dir}/G.ckpt')\n",
    "torch.save(D.state_dict(), f'{save_dir}/D.ckpt')"
   ]
  },
  {
   "cell_type": "code",
   "execution_count": 11,
   "metadata": {},
   "outputs": [],
   "source": [
    "class AdvancedDiscriminator(nn.Module):\n",
    "    def __init__(self, input_dim, hidden_dim):\n",
    "        super().__init__()\n",
    "\n",
    "        self.model = nn.Sequential(\n",
    "            nn.Linear(input_dim, hidden_dim),\n",
    "            nn.LeakyReLU(0.2),\n",
    "            nn.Dropout(0.3),  # 드롭아웃 추가\n",
    "            nn.Linear(hidden_dim, hidden_dim),\n",
    "            nn.LeakyReLU(0.2),\n",
    "            nn.Dropout(0.3),  # 드롭아웃 추가\n",
    "            nn.Linear(hidden_dim, 1),\n",
    "            nn.Sigmoid(),\n",
    "        )\n",
    "\n",
    "    def forward(self, x):\n",
    "        x = self.model(x)\n",
    "        return x\n",
    "\n",
    "class AdvancedGenerator(nn.Module):\n",
    "    def __init__(self, latent_dim, hidden_dim, output_dim):\n",
    "        super().__init__()\n",
    "\n",
    "        self.model = nn.Sequential(\n",
    "            nn.Linear(latent_dim, hidden_dim),\n",
    "            nn.BatchNorm1d(hidden_dim),  # 배치 정규화 추가\n",
    "            nn.ReLU(),\n",
    "            nn.Linear(hidden_dim, hidden_dim),\n",
    "            nn.BatchNorm1d(hidden_dim),  # 배치 정규화 추가\n",
    "            nn.ReLU(),\n",
    "            nn.Linear(hidden_dim, output_dim),\n",
    "            nn.Tanh()\n",
    "        )\n",
    "\n",
    "    def forward(self, z):\n",
    "        z = self.model(z)\n",
    "        return z\n"
   ]
  },
  {
   "cell_type": "code",
   "execution_count": 13,
   "metadata": {},
   "outputs": [
    {
     "name": "stderr",
     "output_type": "stream",
     "text": [
      "                                                         \r"
     ]
    },
    {
     "name": "stdout",
     "output_type": "stream",
     "text": [
      "Epoch[0/200], Step[937/937]\n",
      "D_loss : 0.6711, G_loss : 1.8578\n",
      "Real Score : 0.7862, Fake Score : 0.2853\n"
     ]
    },
    {
     "name": "stderr",
     "output_type": "stream",
     "text": [
      "                                                         \r"
     ]
    },
    {
     "name": "stdout",
     "output_type": "stream",
     "text": [
      "Epoch[10/200], Step[937/937]\n",
      "D_loss : 0.5473, G_loss : 2.4590\n",
      "Real Score : 0.7992, Fake Score : 0.1592\n"
     ]
    },
    {
     "name": "stderr",
     "output_type": "stream",
     "text": [
      "                                                         \r"
     ]
    },
    {
     "name": "stdout",
     "output_type": "stream",
     "text": [
      "Epoch[20/200], Step[937/937]\n",
      "D_loss : 0.8279, G_loss : 1.6135\n",
      "Real Score : 0.7199, Fake Score : 0.2669\n"
     ]
    },
    {
     "name": "stderr",
     "output_type": "stream",
     "text": [
      "                                                         \r"
     ]
    },
    {
     "name": "stdout",
     "output_type": "stream",
     "text": [
      "Epoch[30/200], Step[937/937]\n",
      "D_loss : 1.0755, G_loss : 1.3621\n",
      "Real Score : 0.6025, Fake Score : 0.3305\n"
     ]
    },
    {
     "name": "stderr",
     "output_type": "stream",
     "text": [
      "                                                         \r"
     ]
    },
    {
     "name": "stdout",
     "output_type": "stream",
     "text": [
      "Epoch[40/200], Step[937/937]\n",
      "D_loss : 1.0013, G_loss : 1.4986\n",
      "Real Score : 0.6280, Fake Score : 0.2709\n"
     ]
    },
    {
     "name": "stderr",
     "output_type": "stream",
     "text": [
      "                                                         \r"
     ]
    },
    {
     "name": "stdout",
     "output_type": "stream",
     "text": [
      "Epoch[50/200], Step[937/937]\n",
      "D_loss : 1.0589, G_loss : 1.2150\n",
      "Real Score : 0.6896, Fake Score : 0.3872\n"
     ]
    },
    {
     "name": "stderr",
     "output_type": "stream",
     "text": [
      "                                                         \r"
     ]
    },
    {
     "name": "stdout",
     "output_type": "stream",
     "text": [
      "Epoch[60/200], Step[937/937]\n",
      "D_loss : 0.9230, G_loss : 1.6381\n",
      "Real Score : 0.6876, Fake Score : 0.2938\n"
     ]
    },
    {
     "name": "stderr",
     "output_type": "stream",
     "text": [
      "                                                         \r"
     ]
    },
    {
     "name": "stdout",
     "output_type": "stream",
     "text": [
      "Epoch[70/200], Step[937/937]\n",
      "D_loss : 1.0628, G_loss : 1.5331\n",
      "Real Score : 0.6235, Fake Score : 0.3280\n"
     ]
    },
    {
     "name": "stderr",
     "output_type": "stream",
     "text": [
      "                                                         \r"
     ]
    },
    {
     "name": "stdout",
     "output_type": "stream",
     "text": [
      "Epoch[80/200], Step[937/937]\n",
      "D_loss : 1.0901, G_loss : 1.2250\n",
      "Real Score : 0.6533, Fake Score : 0.3871\n"
     ]
    },
    {
     "name": "stderr",
     "output_type": "stream",
     "text": [
      "                                                         \r"
     ]
    },
    {
     "name": "stdout",
     "output_type": "stream",
     "text": [
      "Epoch[90/200], Step[937/937]\n",
      "D_loss : 1.3654, G_loss : 0.9739\n",
      "Real Score : 0.5536, Fake Score : 0.4588\n"
     ]
    },
    {
     "name": "stderr",
     "output_type": "stream",
     "text": [
      "                                                         \r"
     ]
    },
    {
     "name": "stdout",
     "output_type": "stream",
     "text": [
      "Epoch[100/200], Step[937/937]\n",
      "D_loss : 1.2288, G_loss : 0.9998\n",
      "Real Score : 0.5461, Fake Score : 0.3942\n"
     ]
    },
    {
     "name": "stderr",
     "output_type": "stream",
     "text": [
      "                                                         \r"
     ]
    },
    {
     "name": "stdout",
     "output_type": "stream",
     "text": [
      "Epoch[110/200], Step[937/937]\n",
      "D_loss : 1.2280, G_loss : 1.0569\n",
      "Real Score : 0.5313, Fake Score : 0.3914\n"
     ]
    },
    {
     "name": "stderr",
     "output_type": "stream",
     "text": [
      "                                                         \r"
     ]
    },
    {
     "name": "stdout",
     "output_type": "stream",
     "text": [
      "Epoch[120/200], Step[937/937]\n",
      "D_loss : 1.2942, G_loss : 0.9153\n",
      "Real Score : 0.5412, Fake Score : 0.4366\n"
     ]
    },
    {
     "name": "stderr",
     "output_type": "stream",
     "text": [
      "                                                         \r"
     ]
    },
    {
     "name": "stdout",
     "output_type": "stream",
     "text": [
      "Epoch[130/200], Step[937/937]\n",
      "D_loss : 1.3524, G_loss : 0.7226\n",
      "Real Score : 0.5815, Fake Score : 0.4952\n"
     ]
    },
    {
     "name": "stderr",
     "output_type": "stream",
     "text": [
      "                                                         \r"
     ]
    },
    {
     "name": "stdout",
     "output_type": "stream",
     "text": [
      "Epoch[140/200], Step[937/937]\n",
      "D_loss : 1.2203, G_loss : 1.0147\n",
      "Real Score : 0.5466, Fake Score : 0.4047\n"
     ]
    },
    {
     "name": "stderr",
     "output_type": "stream",
     "text": [
      "                                                         \r"
     ]
    },
    {
     "name": "stdout",
     "output_type": "stream",
     "text": [
      "Epoch[150/200], Step[937/937]\n",
      "D_loss : 1.3265, G_loss : 0.9456\n",
      "Real Score : 0.5296, Fake Score : 0.4531\n"
     ]
    },
    {
     "name": "stderr",
     "output_type": "stream",
     "text": [
      "                                                         \r"
     ]
    },
    {
     "name": "stdout",
     "output_type": "stream",
     "text": [
      "Epoch[160/200], Step[937/937]\n",
      "D_loss : 1.1656, G_loss : 0.8242\n",
      "Real Score : 0.5670, Fake Score : 0.4034\n"
     ]
    },
    {
     "name": "stderr",
     "output_type": "stream",
     "text": [
      "                                                         \r"
     ]
    },
    {
     "name": "stdout",
     "output_type": "stream",
     "text": [
      "Epoch[170/200], Step[937/937]\n",
      "D_loss : 1.3170, G_loss : 0.8261\n",
      "Real Score : 0.5525, Fake Score : 0.4534\n"
     ]
    },
    {
     "name": "stderr",
     "output_type": "stream",
     "text": [
      "                                                         \r"
     ]
    },
    {
     "name": "stdout",
     "output_type": "stream",
     "text": [
      "Epoch[180/200], Step[937/937]\n",
      "D_loss : 1.2808, G_loss : 0.9478\n",
      "Real Score : 0.5486, Fake Score : 0.4282\n"
     ]
    },
    {
     "name": "stderr",
     "output_type": "stream",
     "text": [
      "                                                         \r"
     ]
    },
    {
     "name": "stdout",
     "output_type": "stream",
     "text": [
      "Epoch[190/200], Step[937/937]\n",
      "D_loss : 1.2877, G_loss : 0.9010\n",
      "Real Score : 0.5261, Fake Score : 0.4299\n"
     ]
    },
    {
     "name": "stderr",
     "output_type": "stream",
     "text": [
      "                                                         \r"
     ]
    }
   ],
   "source": [
    "D = AdvancedDiscriminator(input_dim=image_size, hidden_dim=hidden_dim)\n",
    "G = AdvancedGenerator(latent_dim=latent_dim, hidden_dim=hidden_dim, output_dim=image_size)\n",
    "\n",
    "D = D.to(device)\n",
    "G = G.to(device)\n",
    "\n",
    "criterion = nn.BCELoss()\n",
    "d_optimizer = torch.optim.Adam(D.parameters(), lr=d_lr)\n",
    "g_optimizer = torch.optim.Adam(G.parameters(), lr=g_lr)\n",
    "\n",
    "for epoch in range(epochs):\n",
    "    for idx, (images, _) in enumerate(tqdm(train_dataloader, desc=\"Train\", leave=False)):\n",
    "        images = images.reshape(batch_size, -1).to(device)\n",
    "        real_labels = torch.ones(batch_size, 1).to(device)\n",
    "        fake_labels = torch.zeros(batch_size, 1).to(device)\n",
    "\n",
    "        # ================================================================== #\n",
    "        #                      Train the discriminator                       #\n",
    "        # ================================================================== #\n",
    "\n",
    "        d_optimizer.zero_grad()\n",
    "        g_optimizer.zero_grad()\n",
    "\n",
    "        outputs = D(images)\n",
    "        d_real_loss = criterion(outputs, real_labels) ## first term of object func\n",
    "        real_score = outputs\n",
    "\n",
    "        z = torch.randn(batch_size, latent_dim).to(device)\n",
    "        fake_images = G(z)\n",
    "        outputs = D(fake_images)\n",
    "        d_fake_loss = criterion(outputs, fake_labels) ## second_term of object func\n",
    "        fake_score = outputs\n",
    "\n",
    "        d_loss = d_real_loss + d_fake_loss\n",
    "        d_loss.backward()\n",
    "        d_optimizer.step()\n",
    "\n",
    "        # ================================================================== #\n",
    "        #                        Train the generator                         #\n",
    "        # ================================================================== #\n",
    "\n",
    "        d_optimizer.zero_grad()\n",
    "        g_optimizer.zero_grad()\n",
    "\n",
    "        z = torch.randn(batch_size, latent_dim).to(device)\n",
    "        fake_images = G(z)\n",
    "        outputs = D(fake_images)\n",
    "\n",
    "        ## 생성자가 생성한 가짜 데이터에 대해 구분자가 이를 진짜로 판별할 확률을 최대화하는 방향으로 학습함.\n",
    "        ## 가짜 데이터를 입력 받았을 때 D가 진짜라고 분류한 비율을 이용해 오차를 계산한다.\n",
    "        g_loss = criterion(outputs, real_labels)\n",
    "        g_loss.backward()\n",
    "        g_optimizer.step()\n",
    "\n",
    "    if epoch % 10 == 0 or epoch == epochs:\n",
    "        print(f\"Epoch[{epoch}/{epochs}], Step[{idx+1}/{len(train_dataloader)}]\")\n",
    "        print(f\"D_loss : {d_loss.item():.4f}, G_loss : {g_loss.item():.4f}\")\n",
    "        print(f\"Real Score : {real_score.mean().item():.4f}, Fake Score : {fake_score.mean().item():.4f}\")\n",
    "\n",
    "    # Save real images\n",
    "    if (epoch+1) == 1:\n",
    "        images = images.reshape(images.size(0), 1, 28, 28)\n",
    "        save_image(denorm(images), f\"{save_dir}/real_images.png\")\n",
    "    \n",
    "    # Save sampled images\n",
    "    fake_images = fake_images.reshape(fake_images.size(0), 1, 28, 28)\n",
    "    save_image(denorm(fake_images), f\"{save_dir}/fake_images_{epoch+1:04}.png\")\n",
    "\n",
    "# Save the model checkpoints \n",
    "torch.save(G.state_dict(), f'{save_dir}/G.ckpt')\n",
    "torch.save(D.state_dict(), f'{save_dir}/D.ckpt')"
   ]
  },
  {
   "cell_type": "code",
   "execution_count": null,
   "metadata": {},
   "outputs": [],
   "source": []
  }
 ],
 "metadata": {
  "kernelspec": {
   "display_name": "openmmlab",
   "language": "python",
   "name": "python3"
  },
  "language_info": {
   "codemirror_mode": {
    "name": "ipython",
    "version": 3
   },
   "file_extension": ".py",
   "mimetype": "text/x-python",
   "name": "python",
   "nbconvert_exporter": "python",
   "pygments_lexer": "ipython3",
   "version": "3.8.10"
  }
 },
 "nbformat": 4,
 "nbformat_minor": 2
}
