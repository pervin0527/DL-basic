{
 "cells": [
  {
   "cell_type": "markdown",
   "metadata": {},
   "source": [
    "# 08-VGG"
   ]
  },
  {
   "cell_type": "markdown",
   "metadata": {},
   "source": [
    "[1. The Oxford-IIIT Pet Dataset](#1)  \n",
    "\n",
    "[2. Data Preprocessing](#2)  \n",
    " - [2-1.Compute Mean, Std of Training Set](#2-1)\n",
    " - [2-2.Define Torch Dataset](#2-2)\n",
    "\n",
    "[3.Define VGG19](#3)\n",
    "\n",
    "[4.Training](#4)\n",
    " - [4-1.Hyper Parameters](#4-1)\n",
    " - [4-2.Torch DataLoader](#4-2)\n",
    " - [4-3.Train function](#4-3)\n",
    " - [4-4.Valid function](#4-4)\n",
    " - [4-5.Train Loop](#4-5)"
   ]
  },
  {
   "cell_type": "code",
   "execution_count": null,
   "metadata": {},
   "outputs": [],
   "source": [
    "import os\n",
    "import cv2\n",
    "import torch\n",
    "import numpy as np\n",
    "import pandas as pd\n",
    "import albumentations as A\n",
    "import matplotlib.pyplot as plt\n",
    "\n",
    "from torch import nn\n",
    "from tqdm import tqdm\n",
    "from torchsummary import summary\n",
    "from albumentations.pytorch import ToTensorV2\n",
    "from torch.utils.data import Dataset, DataLoader\n",
    "from sklearn.model_selection import train_test_split"
   ]
  },
  {
   "cell_type": "markdown",
   "metadata": {},
   "source": [
    "<a id=\"1\"></a>\n",
    "## 1. 100 Sports Image Classification\n",
    "[https://www.kaggle.com/datasets/gpiosenka/sports-classification/data](https://www.kaggle.com/datasets/gpiosenka/sports-classification/data)"
   ]
  },
  {
   "cell_type": "code",
   "execution_count": null,
   "metadata": {},
   "outputs": [],
   "source": [
    "data_dir = \"/home/pervinco/Datasets/sports-classification/train\"\n",
    "classes = sorted(os.listdir(data_dir))\n",
    "print(classes)"
   ]
  },
  {
   "cell_type": "code",
   "execution_count": null,
   "metadata": {},
   "outputs": [],
   "source": [
    "images, labels = [], []\n",
    "for str_label in classes:\n",
    "    img_files = os.listdir(f\"{data_dir}/{str_label}\")\n",
    "    for file in img_files:\n",
    "        if file.endswith(\".jpg\"):\n",
    "            images.append(f\"{data_dir}/{str_label}/{file}\")\n",
    "            labels.append(str_label)\n",
    "\n",
    "print(f\"Num of Classes : {len(classes)}\")\n",
    "print(f\"Num of files & labels : {len(images)}, {len(labels)}\")\n",
    "print(images[0])"
   ]
  },
  {
   "cell_type": "code",
   "execution_count": null,
   "metadata": {},
   "outputs": [],
   "source": [
    "classes = list(classes)\n",
    "sample_per_class = {}\n",
    "for label in labels:\n",
    "    if not label in sample_per_class:\n",
    "        sample_per_class[label] = 0\n",
    "    else:\n",
    "        sample_per_class[label] += 1\n",
    "\n",
    "plt.figure(figsize=(16, 8))\n",
    "plt.bar(sample_per_class.keys(), sample_per_class.values(), color='skyblue')\n",
    "plt.xlabel('Class')\n",
    "plt.ylabel('Number of Samples')\n",
    "plt.title('Number of Samples per Class')\n",
    "plt.xticks(rotation=90)\n",
    "plt.show()"
   ]
  },
  {
   "cell_type": "markdown",
   "metadata": {},
   "source": [
    "<a id=\"2\"></a>\n",
    "## 2. Data Preprocessing"
   ]
  },
  {
   "cell_type": "code",
   "execution_count": null,
   "metadata": {},
   "outputs": [],
   "source": [
    "train_x, valid_x, train_y, valid_y = train_test_split(images, labels, test_size=0.1, shuffle=True, random_state=42)\n",
    "\n",
    "print(len(train_x), len(train_y))\n",
    "print(len(valid_x), len(valid_y))"
   ]
  },
  {
   "cell_type": "markdown",
   "metadata": {},
   "source": [
    "<a id=\"2-1\"></a>\n",
    "### 2-1.Compute Mean, Std of Training Set"
   ]
  },
  {
   "cell_type": "code",
   "execution_count": null,
   "metadata": {},
   "outputs": [],
   "source": [
    "def compute_mean_std(files):\n",
    "    images = np.zeros((len(files), 224, 224, 3), dtype=np.uint8)\n",
    "    for idx, file in enumerate(files):\n",
    "        image = cv2.imread(file)\n",
    "        image = cv2.cvtColor(image, cv2.COLOR_BGR2RGB)\n",
    "        image = cv2.resize(image, (224, 224))\n",
    "        images[idx, :, : ,:] = image\n",
    "    \n",
    "    mean_rgb = np.mean(images, axis=(0, 1, 2))\n",
    "    std_rgb = np.std(images, axis=(0, 1, 2))\n",
    "\n",
    "    return mean_rgb, std_rgb\n",
    "\n",
    "mean, std = compute_mean_std(train_x)\n",
    "print(mean, std)"
   ]
  },
  {
   "cell_type": "markdown",
   "metadata": {},
   "source": [
    "<a id=\"2-2\"></a>\n",
    "### 2-2.Define Torch Dataset"
   ]
  },
  {
   "cell_type": "code",
   "execution_count": null,
   "metadata": {},
   "outputs": [],
   "source": [
    "class PetDataset(Dataset):\n",
    "    def __init__(self, images, labels, classes, mean, std, augmentation=False):\n",
    "        self.classes = classes\n",
    "        self.images = images\n",
    "        self.labels = labels\n",
    "\n",
    "        if augmentation:\n",
    "            self.augmentation = A.Compose([\n",
    "                A.OneOf([\n",
    "                    A.Resize(224, 224, p=0.5),\n",
    "                    A.SmallestMaxSize(max_size=[256, 512], p=0.5)\n",
    "                ], p=1),\n",
    "                A.RandomCrop(width=224, height=224),\n",
    "                A.HorizontalFlip(),\n",
    "                A.RGBShift(),\n",
    "                A.Normalize(mean=mean, std=std),\n",
    "                ToTensorV2()\n",
    "            ])\n",
    "        else:\n",
    "            self.augmentation = A.Compose([\n",
    "                A.Resize(224, 224, p=1),\n",
    "                A.Normalize(mean=mean, std=std),\n",
    "                ToTensorV2()\n",
    "            ])\n",
    "\n",
    "\n",
    "    def __len__(self):\n",
    "        return len(self.images)\n",
    "\n",
    "\n",
    "    def __getitem__(self, idx):\n",
    "        image = self.images[idx]\n",
    "        label = self.labels[idx]\n",
    "\n",
    "        image = cv2.imread(image)\n",
    "        image = cv2.cvtColor(image, cv2.COLOR_BGR2RGB)\n",
    "        label = self.classes.index(label)\n",
    "\n",
    "        image = self.augmentation(image=image)[\"image\"]\n",
    "\n",
    "        return image, label"
   ]
  },
  {
   "cell_type": "code",
   "execution_count": null,
   "metadata": {},
   "outputs": [],
   "source": [
    "train_dataset = PetDataset(train_x, train_y, classes, mean, std, augmentation=True)\n",
    "valid_dataset = PetDataset(valid_x, valid_y, classes, mean, std, augmentation=False)"
   ]
  },
  {
   "cell_type": "code",
   "execution_count": null,
   "metadata": {},
   "outputs": [],
   "source": [
    "sample_image, sample_label = train_dataset[0]\n",
    "print(sample_image.shape, sample_label)"
   ]
  },
  {
   "cell_type": "markdown",
   "metadata": {},
   "source": [
    "<a id=\"3\"></a>\n",
    "## 3. Define VGG19"
   ]
  },
  {
   "cell_type": "code",
   "execution_count": null,
   "metadata": {},
   "outputs": [],
   "source": [
    "def conv_bn_act(in_channels, out_channels, num_layers):\n",
    "    block = []\n",
    "    for idx in range(num_layers):\n",
    "        if idx > 0:\n",
    "            in_channels = out_channels\n",
    "\n",
    "        block.extend([nn.Conv2d(in_channels, out_channels, kernel_size=3, padding=1, stride=1),\n",
    "                     nn.BatchNorm2d(out_channels),\n",
    "                     nn.ReLU(inplace=True)])\n",
    "        \n",
    "    block.extend([nn.MaxPool2d(kernel_size=2, stride=2)])\n",
    "\n",
    "    return nn.Sequential(*block)"
   ]
  },
  {
   "cell_type": "code",
   "execution_count": null,
   "metadata": {},
   "outputs": [],
   "source": [
    "class VGG19(nn.Module):\n",
    "    def __init__(self, num_classes, drop_rate=0.5, init_weights=False):\n",
    "        super().__init__()\n",
    "\n",
    "        self.block1 = conv_bn_act(in_channels=3, out_channels=64, num_layers=2)\n",
    "        self.block2 = conv_bn_act(in_channels=64, out_channels=128, num_layers=2)\n",
    "        self.block3 = conv_bn_act(in_channels=128, out_channels=256, num_layers=4)\n",
    "        self.block4 = conv_bn_act(in_channels=256, out_channels=512, num_layers=4)\n",
    "        self.block5 = conv_bn_act(in_channels=512, out_channels=512, num_layers=4)\n",
    "\n",
    "        self.avgpool = nn.AdaptiveAvgPool2d((7, 7))\n",
    "        self.classifier = nn.Sequential(nn.Linear(512 * 7 * 7, 4096),\n",
    "                                        nn.ReLU(inplace=True),\n",
    "                                        nn.Dropout(drop_rate),\n",
    "                                        nn.Linear(4096, 4096),\n",
    "                                        nn.ReLU(inplace=True),\n",
    "                                        nn.Dropout(drop_rate),\n",
    "                                        nn.Linear(4096, num_classes))\n",
    "        \n",
    "        if init_weights:\n",
    "            for m in self.modules():\n",
    "                if isinstance(m, nn.Conv2d):\n",
    "                    nn.init.kaiming_normal_(m.weight, mode=\"fan_in\", nonlinearity=\"relu\")\n",
    "                    if m.bias is not None:\n",
    "                        nn.init.constant_(m.bias, 0)\n",
    "                    elif isinstance(m, nn.BatchNorm2d):\n",
    "                        nn.init.constant_(m.weight, 1)\n",
    "                        nn.init.constant_(m.bias, 0)\n",
    "                    elif isinstance(m, nn.Linear):\n",
    "                        nn.init.normal_(m.weight, 0, 0.01)\n",
    "                        nn.init.constant_(m.bias, 0)\n",
    "\n",
    "    def forward(self, x):\n",
    "        x = self.block1(x)\n",
    "        x = self.block2(x)\n",
    "        x = self.block3(x)\n",
    "        x = self.block4(x)\n",
    "        x = self.block5(x)\n",
    "\n",
    "        x = self.avgpool(x)\n",
    "        x = torch.flatten(x, 1) ## [512, 7, 7] to 25088\n",
    "\n",
    "        x = self.classifier(x)\n",
    "\n",
    "        return x"
   ]
  },
  {
   "cell_type": "code",
   "execution_count": null,
   "metadata": {},
   "outputs": [],
   "source": [
    "model = VGG19(len(classes), init_weights=True)\n",
    "summary(model, input_size=(3, 224, 224), device=\"cpu\")\n",
    "\n",
    "dummy_input = torch.randn(1, 3, 224, 224)\n",
    "output = model(dummy_input)"
   ]
  },
  {
   "cell_type": "markdown",
   "metadata": {},
   "source": [
    "<a id=\"4\"></a>\n",
    "## 4.Training"
   ]
  },
  {
   "cell_type": "markdown",
   "metadata": {},
   "source": [
    "<a id=\"4-1\"></a>\n",
    "### 4-1.Hyper Parameters"
   ]
  },
  {
   "cell_type": "code",
   "execution_count": null,
   "metadata": {},
   "outputs": [],
   "source": [
    "epochs = 100\n",
    "batch_size = 64\n",
    "learning_rate = 0.01\n",
    "weight_decay = 0.0005\n",
    "momentum = 0.9\n",
    "\n",
    "num_workers = os.cpu_count()\n",
    "device = torch.device(\"cuda:0\" if torch.cuda.is_available() else \"cpu\")"
   ]
  },
  {
   "cell_type": "markdown",
   "metadata": {},
   "source": [
    "<a id=\"4-2\"></a>\n",
    "### 4-2. Torch DataLoader"
   ]
  },
  {
   "cell_type": "code",
   "execution_count": null,
   "metadata": {},
   "outputs": [],
   "source": [
    "train_dataloder = DataLoader(train_dataset, batch_size=batch_size, shuffle=True, num_workers=num_workers)\n",
    "valid_dataloader = DataLoader(valid_dataset, batch_size=batch_size, num_workers=num_workers)"
   ]
  },
  {
   "cell_type": "markdown",
   "metadata": {},
   "source": [
    "### 4-3.Train function"
   ]
  },
  {
   "cell_type": "code",
   "execution_count": null,
   "metadata": {},
   "outputs": [],
   "source": [
    "def train(model, dataloader, criterion, optimizer, device):\n",
    "    model.train()\n",
    "\n",
    "    train_cost, train_acc = 0.0, 0.0\n",
    "    for x, y in tqdm(dataloader, desc=\"Train\", leave=False):\n",
    "        x, y = x.to(device), y.to(device)\n",
    "\n",
    "        optimizer.zero_grad()\n",
    "        y_pred = model(x)\n",
    "\n",
    "        cost = criterion(y_pred, y)\n",
    "        cost.backward()\n",
    "        optimizer.step()\n",
    "\n",
    "        train_cost += cost.item() * x.size(0)\n",
    "\n",
    "        _, pred_labels = torch.max(y_pred, 1)\n",
    "        train_acc += (pred_labels == y).sum().item()\n",
    "\n",
    "    train_cost /= len(dataloader.dataset)\n",
    "    train_acc /= len(dataloader.dataset)\n",
    "\n",
    "    return train_cost, train_acc"
   ]
  },
  {
   "cell_type": "markdown",
   "metadata": {},
   "source": [
    "<a id=\"4-4\"></a>\n",
    "### 4-4.Valid function"
   ]
  },
  {
   "cell_type": "code",
   "execution_count": null,
   "metadata": {},
   "outputs": [],
   "source": [
    "def valid(model, dataloader, criterion, device):\n",
    "    model.eval()\n",
    "\n",
    "    valid_cost, valid_acc = 0.0, 0.0\n",
    "    with torch.no_grad():\n",
    "        for x, y in tqdm(dataloader, desc=\"Valid\", leave=False):\n",
    "            x, y = x.to(device), y.to(device)\n",
    "            y_pred = model(x)\n",
    "\n",
    "            cost = criterion(y_pred, y)\n",
    "\n",
    "            valid_cost += cost.item() * x.size(0)\n",
    "\n",
    "            _, pred_labels = torch.max(y_pred, 1)\n",
    "            valid_acc += (pred_labels == y).sum().item()\n",
    "\n",
    "        valid_cost /= len(dataloader.dataset)\n",
    "        valid_acc /= len(dataloader.dataset)\n",
    "\n",
    "    return valid_cost, valid_acc"
   ]
  },
  {
   "cell_type": "markdown",
   "metadata": {},
   "source": [
    "<a id=\"4-5\"></a>\n",
    "### 4-5.Train Loop"
   ]
  },
  {
   "cell_type": "code",
   "execution_count": null,
   "metadata": {},
   "outputs": [],
   "source": [
    "model = VGG19(len(classes), init_weights=True)\n",
    "summary(model, input_size=(3, 224, 224), device=\"cpu\")\n",
    "\n",
    "model = model.to(device)"
   ]
  },
  {
   "cell_type": "code",
   "execution_count": null,
   "metadata": {},
   "outputs": [],
   "source": [
    "criterion = nn.CrossEntropyLoss()\n",
    "optimizer = torch.optim.SGD(model.parameters(), lr=learning_rate, momentum=momentum)"
   ]
  },
  {
   "cell_type": "code",
   "execution_count": null,
   "metadata": {},
   "outputs": [],
   "source": [
    "for epoch in range(epochs):\n",
    "    print(f\"\\nEpoch : {epoch + 1} | {epochs}\")\n",
    "    train_cost, train_acc = train(model, train_dataloder, criterion, optimizer, device)\n",
    "    print(f\"\\tTrain Loss : {train_cost:.4f}, Train Acc : {train_acc:.4f}\")\n",
    "\n",
    "    valid_cost, valid_acc = valid(model, valid_dataloader, criterion, device)\n",
    "    print(f\"\\tValid Loss : {valid_cost:.4f}, Valid Acc : {valid_acc:.4f}\")"
   ]
  },
  {
   "cell_type": "code",
   "execution_count": null,
   "metadata": {},
   "outputs": [],
   "source": []
  }
 ],
 "metadata": {
  "kernelspec": {
   "display_name": "openmmlab",
   "language": "python",
   "name": "python3"
  },
  "language_info": {
   "codemirror_mode": {
    "name": "ipython",
    "version": 3
   },
   "file_extension": ".py",
   "mimetype": "text/x-python",
   "name": "python",
   "nbconvert_exporter": "python",
   "pygments_lexer": "ipython3",
   "version": "3.10.13"
  }
 },
 "nbformat": 4,
 "nbformat_minor": 2
}
