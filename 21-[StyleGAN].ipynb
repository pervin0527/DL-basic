{
 "cells": [
  {
   "cell_type": "code",
   "execution_count": 2,
   "metadata": {},
   "outputs": [],
   "source": [
    "import os\n",
    "import lmdb\n",
    "import torchvision\n",
    "import multiprocessing\n",
    "\n",
    "from torch import nn\n",
    "from tqdm import tqdm\n",
    "from PIL import Image\n",
    "from io import BytesIO\n",
    "from functools import partial\n",
    "from torch.utils.data import Dataset\n",
    "from torchvision.transforms import functional as trans_fn"
   ]
  },
  {
   "cell_type": "code",
   "execution_count": 2,
   "metadata": {},
   "outputs": [],
   "source": [
    "data_dir = \"/home/pervinco/Datasets/CelebA\"\n",
    "lmdb_save_dir = \"/home/pervinco/Datasets/CelebA\"\n",
    "num_worker = 8"
   ]
  },
  {
   "cell_type": "code",
   "execution_count": 3,
   "metadata": {},
   "outputs": [],
   "source": [
    "imgset = torchvision.datasets.ImageFolder(data_dir)"
   ]
  },
  {
   "cell_type": "code",
   "execution_count": 4,
   "metadata": {},
   "outputs": [],
   "source": [
    "def resize_and_convert(img, size, quality=100):\n",
    "    img = trans_fn.resize(img, size, Image.LANCZOS)\n",
    "    img = trans_fn.center_crop(img, size)\n",
    "    buffer = BytesIO()\n",
    "    img.save(buffer, format='jpeg', quality=quality)\n",
    "    val = buffer.getvalue()\n",
    "\n",
    "    return val\n",
    "\n",
    "\n",
    "def resize_multiple(img, sizes=(8, 16, 32, 64, 128, 256, 512, 1024), quality=100):\n",
    "    imgs = []\n",
    "\n",
    "    for size in sizes:\n",
    "        imgs.append(resize_and_convert(img, size, quality))\n",
    "\n",
    "    return imgs\n",
    "\n",
    "\n",
    "def resize_worker(img_file, sizes):\n",
    "    i, file = img_file\n",
    "    img = Image.open(file)\n",
    "    img = img.convert('RGB')\n",
    "    out = resize_multiple(img, sizes=sizes)\n",
    "\n",
    "    return i, out"
   ]
  },
  {
   "cell_type": "code",
   "execution_count": 5,
   "metadata": {},
   "outputs": [],
   "source": [
    "## sizes=(8, 16, 32, 64, 128, 256, 512, 1024)\n",
    "def prepare(transaction, dataset, n_worker, sizes=(8, 16, 32, 64, 128, 256, 512)):\n",
    "    ##  resize_worker 함수의 sizes 인자를 사전에 설정\n",
    "    resize_fn = partial(resize_worker, sizes=sizes)\n",
    "\n",
    "    files = sorted(dataset.imgs, key=lambda x: x[0]) ## (img_file_path, label)\n",
    "    files = [(i, file) for i, (file, label) in enumerate(files)] ## (idx, img_file_path)\n",
    "    \n",
    "    total = 0\n",
    "    with multiprocessing.Pool(n_worker) as pool: ## Multi Processing\n",
    "        ## pool.imap_unordered 비동기적으로 여러 개의 프로세스들이 resize_fn을 수행함.\n",
    "        ## 즉, 처리가 완료되는 대로 결과를 반환하기 때문에, 작업 완료 순서는 실행마다 달라질 수 있다.\n",
    "        for i, imgs in tqdm(pool.imap_unordered(resize_fn, files)):\n",
    "            for size, img in zip(sizes, imgs):\n",
    "                key = f'{size}-{str(i).zfill(5)}'.encode('utf-8')\n",
    "                transaction.put(key, img)\n",
    "\n",
    "            total += 1\n",
    "\n",
    "        transaction.put('length'.encode('utf-8'), str(total).encode('utf-8'))"
   ]
  },
  {
   "cell_type": "code",
   "execution_count": 6,
   "metadata": {},
   "outputs": [],
   "source": [
    "\"\"\"\n",
    "lmdb_save_dir에 lmdb 데이터베이스를 생성.\n",
    " - map_siez는 데이터베이스의 최대 크기.(1024 ** 4 = 1TB)\n",
    " - readhead는 사전 읽기 기능을 활성화, 비활성화할 것인가\n",
    "\"\"\"\n",
    "if not os.path.exists(f\"{lmdb_save_dir}/data.mdb\") and not os.path.exists(f\"{lmdb_save_dir}/lock.mdb\"):\n",
    "    with lmdb.open(lmdb_save_dir, map_size=1024 ** 4, readahead=False) as env:\n",
    "        with env.begin(write=True) as txn: ## lmdb에 쓰기 작업을 시작.\n",
    "            prepare(txn, imgset, num_worker)"
   ]
  },
  {
   "cell_type": "code",
   "execution_count": null,
   "metadata": {},
   "outputs": [],
   "source": [
    "class MultiResolutionDataset(Dataset):\n",
    "    def __init__(self, path, transform, resolution=8):\n",
    "        self.env = lmdb.open(\n",
    "            path,\n",
    "            max_readers=32,\n",
    "            readonly=True,\n",
    "            lock=False,\n",
    "            readahead=False,\n",
    "            meminit=False,\n",
    "        )\n",
    "\n",
    "        if not self.env:\n",
    "            raise IOError('Cannot open lmdb dataset', path)\n",
    "\n",
    "        with self.env.begin(write=False) as txn:\n",
    "            self.length = int(txn.get('length'.encode('utf-8')).decode('utf-8'))\n",
    "\n",
    "        self.resolution = resolution\n",
    "        self.transform = transform\n",
    "\n",
    "    def __len__(self):\n",
    "        return self.length\n",
    "\n",
    "    def __getitem__(self, index):\n",
    "        with self.env.begin(write=False) as txn:\n",
    "            key = f'{self.resolution}-{str(index).zfill(5)}'.encode('utf-8')\n",
    "            img_bytes = txn.get(key)\n",
    "\n",
    "        buffer = BytesIO(img_bytes)\n",
    "        img = Image.open(buffer)\n",
    "        img = self.transform(img)\n",
    "\n",
    "        return img"
   ]
  }
 ],
 "metadata": {
  "kernelspec": {
   "display_name": "openmmlab",
   "language": "python",
   "name": "python3"
  },
  "language_info": {
   "codemirror_mode": {
    "name": "ipython",
    "version": 3
   },
   "file_extension": ".py",
   "mimetype": "text/x-python",
   "name": "python",
   "nbconvert_exporter": "python",
   "pygments_lexer": "ipython3",
   "version": "3.11.5"
  }
 },
 "nbformat": 4,
 "nbformat_minor": 2
}
