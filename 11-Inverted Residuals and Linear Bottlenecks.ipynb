{
 "cells": [
  {
   "cell_type": "markdown",
   "metadata": {},
   "source": [
    "# 11-MobileNetV2"
   ]
  },
  {
   "cell_type": "markdown",
   "metadata": {},
   "source": [
    "[1.Set hyper parameters & DataLoader](#1)\n",
    "\n",
    "[2.BottleNeck Residual Block(Inverted Residual Block)](#2)\n",
    "\n",
    "[3.MobileNetV2](#3)\n",
    "\n",
    "[4.Training](#4)"
   ]
  },
  {
   "cell_type": "code",
   "execution_count": 1,
   "metadata": {},
   "outputs": [],
   "source": [
    "import os\n",
    "import cv2\n",
    "import torch\n",
    "import albumentations as A\n",
    "import matplotlib.pyplot as plt\n",
    "\n",
    "from torch import nn\n",
    "from tqdm import tqdm\n",
    "from torchsummary import summary\n",
    "from albumentations.pytorch import ToTensorV2\n",
    "from torch.optim.lr_scheduler import LambdaLR\n",
    "from torch.utils.data import Dataset, DataLoader\n",
    "from sklearn.model_selection import train_test_split"
   ]
  },
  {
   "cell_type": "markdown",
   "metadata": {},
   "source": [
    "<a id=\"1\"></a>\n",
    "## 1.Set hyper parameters & DataLoader"
   ]
  },
  {
   "cell_type": "code",
   "execution_count": 2,
   "metadata": {},
   "outputs": [],
   "source": [
    "data_dir = \"/home/pervinco/Datasets/mammals-classification/data\"\n",
    "save_dir = \"./runs/mammal-classification/resnet\"\n",
    "\n",
    "epochs = 300\n",
    "batch_size = 64\n",
    "\n",
    "learning_rate = 0.001\n",
    "lr_patience = 10\n",
    "lr_decay_rate = 0.98\n",
    "weight_decay = 0.00002\n",
    "\n",
    "early_stop_counter = 0\n",
    "early_stop_patience = 20\n",
    "\n",
    "num_workers = os.cpu_count()\n",
    "device = torch.device(\"cuda:0\" if torch.cuda.is_available() else \"cpu\")"
   ]
  },
  {
   "cell_type": "code",
   "execution_count": 3,
   "metadata": {},
   "outputs": [
    {
     "name": "stdout",
     "output_type": "stream",
     "text": [
      "['african_elephant', 'alpaca', 'american_bison', 'anteater', 'arctic_fox', 'armadillo', 'baboon', 'badger', 'blue_whale', 'brown_bear', 'camel', 'dolphin', 'giraffe', 'groundhog', 'highland_cattle', 'horse', 'jackal', 'kangaroo', 'koala', 'manatee', 'mongoose', 'mountain_goat', 'opossum', 'orangutan', 'otter', 'polar_bear', 'porcupine', 'red_panda', 'rhinoceros', 'sea_lion', 'seal', 'snow_leopard', 'squirrel', 'sugar_glider', 'tapir', 'vampire_bat', 'vicuna', 'walrus', 'warthog', 'water_buffalo', 'weasel', 'wildebeest', 'wombat', 'yak', 'zebra']\n",
      "Num of Classes : 45\n",
      "Num of files & labels : 13751, 13751\n",
      "/home/pervinco/Datasets/mammals-classification/data/african_elephant/african_elephant-0125.jpg\n",
      "12375 12375\n",
      "1376 1376\n"
     ]
    }
   ],
   "source": [
    "classes = sorted(os.listdir(data_dir))\n",
    "print(classes)\n",
    "\n",
    "images, labels = [], []\n",
    "for str_label in classes:\n",
    "    img_files = os.listdir(f\"{data_dir}/{str_label}\")\n",
    "    for file in img_files:\n",
    "        if file.endswith(\".jpg\"):\n",
    "            images.append(f\"{data_dir}/{str_label}/{file}\")\n",
    "            labels.append(str_label)\n",
    "\n",
    "print(f\"Num of Classes : {len(classes)}\")\n",
    "print(f\"Num of files & labels : {len(images)}, {len(labels)}\")\n",
    "print(images[0])\n",
    "\n",
    "train_x, valid_x, train_y, valid_y = train_test_split(images, labels, test_size=0.1, shuffle=True, random_state=42)\n",
    "\n",
    "print(len(train_x), len(train_y))\n",
    "print(len(valid_x), len(valid_y))"
   ]
  },
  {
   "cell_type": "code",
   "execution_count": 4,
   "metadata": {},
   "outputs": [],
   "source": [
    "class MammalDataset(Dataset):\n",
    "    def __init__(self, images, labels, classes, mean=None, std=None, augmentation=False):\n",
    "        self.classes = classes\n",
    "        self.images = images\n",
    "        self.labels = labels\n",
    "\n",
    "        if mean is None:\n",
    "            mean = (0.485, 0.456, 0.406)\n",
    "\n",
    "        if std is None:\n",
    "            std = (0.229, 0.224, 0.225)\n",
    "\n",
    "        if augmentation:\n",
    "            self.augmentation = A.Compose([\n",
    "                A.OneOf([\n",
    "                    A.Resize(224, 224, p=0.5),\n",
    "                    A.SmallestMaxSize(max_size=[256, 512], p=0.5)\n",
    "                ], p=1),\n",
    "                A.RandomCrop(width=224, height=224),\n",
    "\n",
    "                A.HorizontalFlip(p=0.4),\n",
    "                A.RGBShift(p=0.3),\n",
    "\n",
    "                A.ShiftScaleRotate(p=1.0, shift_limit_x=(-0.06, 0.06), shift_limit_y=(-0.06, 0.06), \n",
    "                                   scale_limit=(-0.099, 0.100), \n",
    "                                   rotate_limit=(-180, 180), \n",
    "                                   interpolation=0, \n",
    "                                   border_mode=0, \n",
    "                                   value=(0, 0, 0)),\n",
    "                A.RandomBrightnessContrast(p=1.0, brightness_limit=(-0.2, 0.2), contrast_limit=(-0.2, 0.2), brightness_by_max=True),\n",
    "                A.AdvancedBlur(p=0.35, blur_limit=(3, 7), \n",
    "                               sigmaX_limit=(0.2, 1.0), \n",
    "                               sigmaY_limit=(0.2, 1.0), \n",
    "                               rotate_limit=(-90, 90), \n",
    "                               beta_limit=(0.5, 8.0), \n",
    "                               noise_limit=(0.9, 1.1)),\n",
    "\n",
    "                A.Normalize(mean=mean, std=std),\n",
    "                ToTensorV2()\n",
    "            ])\n",
    "        else:\n",
    "            self.augmentation = A.Compose([\n",
    "                A.Resize(224, 224, p=1),\n",
    "                A.Normalize(mean=mean, std=std),\n",
    "                ToTensorV2()\n",
    "            ])\n",
    "\n",
    "\n",
    "    def __len__(self):\n",
    "        return len(self.images)\n",
    "\n",
    "\n",
    "    def __getitem__(self, idx):\n",
    "        image = self.images[idx]\n",
    "        label = self.labels[idx]\n",
    "\n",
    "        image = cv2.imread(image)\n",
    "        image = cv2.cvtColor(image, cv2.COLOR_BGR2RGB)\n",
    "        label = self.classes.index(label)\n",
    "\n",
    "        image = self.augmentation(image=image)[\"image\"]\n",
    "\n",
    "        return image, label"
   ]
  },
  {
   "cell_type": "code",
   "execution_count": 5,
   "metadata": {},
   "outputs": [],
   "source": [
    "train_dataset = MammalDataset(train_x, train_y, classes, augmentation=True)\n",
    "valid_dataset = MammalDataset(valid_x, valid_y, classes, augmentation=False)\n",
    "train_dataloder = DataLoader(train_dataset, batch_size=batch_size, shuffle=True, num_workers=num_workers)\n",
    "valid_dataloader = DataLoader(valid_dataset, batch_size=batch_size, num_workers=num_workers)"
   ]
  },
  {
   "cell_type": "markdown",
   "metadata": {},
   "source": [
    "<a id=\"2\"></a>\n",
    "## 1.BottleNeck Residual Block(Inverted Residual Block)"
   ]
  },
  {
   "cell_type": "markdown",
   "metadata": {},
   "source": [
    "Manifold of Interest에 따라, 고차원의 데이터에서 핵심적인 feature는 저차원 공간에 존재하는 값일 수 있다.  \n",
    "BottleNeck Residual Block은 고차원의(Expanded) 값에서 manifold를 포착하고, BottleNeck에 의해 차원이 작아져도 포착한 특성이 그대로 유지될 수 있음을 기반으로 한다.\n",
    "\n",
    "따라서 Depth를 증가시켜 차원과 비선형성을 증가시키는 것보다 계산적으로 훨씬 효율적이다."
   ]
  },
  {
   "cell_type": "code",
   "execution_count": 6,
   "metadata": {},
   "outputs": [],
   "source": [
    "class InvertedResidualBlock(nn.Module):\n",
    "    def __init__(self, in_channels, out_channels, stride, expand_ratio):\n",
    "        super().__init__()\n",
    "        self.stride=stride\n",
    "        self.shortcut_connection = self.stride == 1 and in_channels == out_channels\n",
    "\n",
    "        if expand_ratio > 1:\n",
    "            self.inverted_residual_block = nn.Sequential(\n",
    "                ## Expand - Pointwise convolution, h * w * t ---> h * w * tk\n",
    "                nn.Conv2d(in_channels=in_channels, \n",
    "                          out_channels=in_channels * expand_ratio, \n",
    "                          kernel_size=1,\n",
    "                          stride=1, \n",
    "                          padding=0,\n",
    "                          bias=False),\n",
    "                nn.BatchNorm2d(in_channels * expand_ratio),\n",
    "                nn.ReLU6(inplace=True),\n",
    "\n",
    "                ## Depthwise Convolution\n",
    "                nn.Conv2d(in_channels=in_channels * expand_ratio,\n",
    "                          out_channels=in_channels * expand_ratio,\n",
    "                          kernel_size=3,\n",
    "                          stride=stride,\n",
    "                          padding=1,\n",
    "                          groups=in_channels * expand_ratio,\n",
    "                          bias=False),\n",
    "\n",
    "                ## BottleNeck - Pointwise convolution, h * w * tk ---> h * w * k'\n",
    "                nn.Conv2d(in_channels=in_channels * expand_ratio,\n",
    "                          out_channels=out_channels,\n",
    "                          kernel_size=1,\n",
    "                          stride=1,\n",
    "                          padding=0,\n",
    "                          bias=False),\n",
    "                nn.BatchNorm2d(out_channels)\n",
    "            )\n",
    "\n",
    "        else:\n",
    "            self.inverted_residual_block = nn.Sequential(\n",
    "                ## expand_ratio가 1일 때 Expand pointwise convolution은 의미가 없으므로 적용하지 않음.\n",
    "                ## Depthwise Convolution\n",
    "                nn.Conv2d(in_channels=in_channels, \n",
    "                          out_channels=in_channels,\n",
    "                          kernel_size=3,\n",
    "                          stride=stride,\n",
    "                          padding=1,\n",
    "                          groups=in_channels,\n",
    "                          bias=False),\n",
    "                nn.BatchNorm2d(in_channels),\n",
    "                nn.ReLU6(inplace=True),\n",
    "\n",
    "                ## BottleNeck - Pointwise Convolution\n",
    "                nn.Conv2d(in_channels=in_channels,\n",
    "                          out_channels=out_channels,\n",
    "                          kernel_size=1,\n",
    "                          stride=1,\n",
    "                          padding=0,\n",
    "                          bias=False),\n",
    "                nn.BatchNorm2d(out_channels)\n",
    "            )\n",
    "\n",
    "    def forward(self, x):\n",
    "        if self.shortcut_connection:\n",
    "            return x + self.inverted_residual_block(x)\n",
    "        else:\n",
    "            return self.inverted_residual_block(x)\n"
   ]
  },
  {
   "cell_type": "markdown",
   "metadata": {},
   "source": [
    "<a id=\"3\"></a>\n",
    "## 2.MobileNetV2"
   ]
  },
  {
   "cell_type": "code",
   "execution_count": 7,
   "metadata": {},
   "outputs": [],
   "source": [
    "class MobileNetV2(nn.Module):\n",
    "    def __init__(self, num_classes=1000, width_multiplier=1.0, init_weights=True):\n",
    "        super(MobileNetV2, self).__init__()\n",
    "        self.configs = [\n",
    "            ## t, c, n, s\n",
    "            [1, 16, 1, 1],\n",
    "            [6, 24, 2, 2],\n",
    "            [6, 32, 3, 2],\n",
    "            [6, 64, 4, 2],\n",
    "            [6, 96, 3, 1],\n",
    "            [6, 160, 3, 2],\n",
    "            [6, 320, 1, 1],\n",
    "        ]\n",
    "        \n",
    "        ## First layer\n",
    "        self.first_layer = nn.Sequential(\n",
    "            nn.Conv2d(3, int(32 * width_multiplier), kernel_size=3, stride=2, padding=1, bias=False),\n",
    "            nn.BatchNorm2d(int(32 * width_multiplier)),\n",
    "            nn.ReLU6(inplace=True)\n",
    "        )\n",
    "        \n",
    "        ## Inverted residual blocks\n",
    "        ## 하나의 블록이 여러 번 쌓는 구조를 만들기 위함.\n",
    "        self.inverted_residual_blocks = nn.ModuleList()\n",
    "        input_channels = int(32 * width_multiplier)\n",
    "        for t, c, n, s in self.configs:\n",
    "            output_channels = int(c * width_multiplier)\n",
    "            for i in range(n): ## n번 실행.\n",
    "                if i == 0:\n",
    "                    self.inverted_residual_blocks.append(\n",
    "                        InvertedResidualBlock(input_channels, output_channels, s, expand_ratio=t))\n",
    "                else:\n",
    "                    self.inverted_residual_blocks.append(\n",
    "                        InvertedResidualBlock(input_channels, output_channels, 1, expand_ratio=t))\n",
    "                input_channels = output_channels\n",
    "        \n",
    "        ## Last layers\n",
    "        self.last_layers = nn.Sequential(\n",
    "            nn.Conv2d(input_channels, int(1280 * width_multiplier), kernel_size=1, stride=1, padding=0, bias=False),\n",
    "            nn.BatchNorm2d(int(1280 * width_multiplier)),\n",
    "            nn.ReLU6(inplace=True),\n",
    "            nn.AdaptiveAvgPool2d(1),\n",
    "            nn.Flatten(),\n",
    "            nn.Linear(int(1280 * width_multiplier), num_classes)\n",
    "        )\n",
    "\n",
    "        if init_weights:\n",
    "            for m in self.modules():\n",
    "                if isinstance(m, nn.Conv2d):\n",
    "                    nn.init.kaiming_normal_(m.weight, mode='fan_out', nonlinearity='relu')\n",
    "                    if m.bias is not None:\n",
    "                        nn.init.constant_(m.bias, 0)\n",
    "                elif isinstance(m, nn.BatchNorm2d):\n",
    "                    nn.init.constant_(m.weight, 1)\n",
    "                    nn.init.constant_(m.bias, 0)\n",
    "                elif isinstance(m, nn.Linear):\n",
    "                    nn.init.normal_(m.weight, 0, 0.01)\n",
    "                    nn.init.constant_(m.bias, 0)\n",
    "    \n",
    "    def forward(self, x):\n",
    "        x = self.first_layer(x)\n",
    "        for block in self.inverted_residual_blocks:\n",
    "            x = block(x)\n",
    "        x = self.last_layers(x)\n",
    "        \n",
    "        return x"
   ]
  },
  {
   "cell_type": "markdown",
   "metadata": {},
   "source": [
    "<a id=\"4\"></a>\n",
    "## 4.Training"
   ]
  },
  {
   "cell_type": "code",
   "execution_count": 8,
   "metadata": {},
   "outputs": [],
   "source": [
    "def train(model, dataloader, criterion, optimizer, device):\n",
    "    model.train()\n",
    "\n",
    "    train_cost, train_acc = 0.0, 0.0\n",
    "    for x, y in tqdm(dataloader, desc=\"Train\", leave=False):\n",
    "        x, y = x.to(device), y.to(device)\n",
    "\n",
    "        optimizer.zero_grad()\n",
    "        y_pred = model(x)\n",
    "\n",
    "        cost = criterion(y_pred, y)\n",
    "        cost.backward()\n",
    "        optimizer.step()\n",
    "\n",
    "        train_cost += cost.item() * x.size(0)\n",
    "\n",
    "        _, pred_labels = torch.max(y_pred, 1)\n",
    "        train_acc += (pred_labels == y).sum().item()\n",
    "\n",
    "    train_cost /= len(dataloader.dataset)\n",
    "    train_acc /= len(dataloader.dataset)\n",
    "\n",
    "    return train_cost, train_acc\n",
    "\n",
    "\n",
    "def valid(model, dataloader, criterion, device):\n",
    "    model.eval()\n",
    "\n",
    "    valid_cost, valid_acc = 0.0, 0.0\n",
    "    with torch.no_grad():\n",
    "        for x, y in tqdm(dataloader, desc=\"Valid\", leave=False):\n",
    "            x, y = x.to(device), y.to(device)\n",
    "            y_pred = model(x)\n",
    "\n",
    "            cost = criterion(y_pred, y)\n",
    "\n",
    "            valid_cost += cost.item() * x.size(0)\n",
    "\n",
    "            _, pred_labels = torch.max(y_pred, 1)\n",
    "            valid_acc += (pred_labels == y).sum().item()\n",
    "\n",
    "        valid_cost /= len(dataloader.dataset)\n",
    "        valid_acc /= len(dataloader.dataset)\n",
    "\n",
    "    return valid_cost, valid_acc\n",
    "\n",
    "def lr_lambda(epoch):\n",
    "    return lr_decay_rate ** epoch"
   ]
  },
  {
   "cell_type": "code",
   "execution_count": 9,
   "metadata": {},
   "outputs": [
    {
     "name": "stdout",
     "output_type": "stream",
     "text": [
      "----------------------------------------------------------------\n",
      "        Layer (type)               Output Shape         Param #\n",
      "================================================================\n",
      "            Conv2d-1         [-1, 32, 112, 112]             864\n",
      "       BatchNorm2d-2         [-1, 32, 112, 112]              64\n",
      "             ReLU6-3         [-1, 32, 112, 112]               0\n",
      "            Conv2d-4         [-1, 32, 112, 112]             288\n",
      "       BatchNorm2d-5         [-1, 32, 112, 112]              64\n",
      "             ReLU6-6         [-1, 32, 112, 112]               0\n",
      "            Conv2d-7         [-1, 16, 112, 112]             512\n",
      "       BatchNorm2d-8         [-1, 16, 112, 112]              32\n",
      "InvertedResidualBlock-9         [-1, 16, 112, 112]               0\n",
      "           Conv2d-10         [-1, 96, 112, 112]           1,536\n",
      "      BatchNorm2d-11         [-1, 96, 112, 112]             192\n",
      "            ReLU6-12         [-1, 96, 112, 112]               0\n",
      "           Conv2d-13           [-1, 96, 56, 56]             864\n",
      "           Conv2d-14           [-1, 24, 56, 56]           2,304\n",
      "      BatchNorm2d-15           [-1, 24, 56, 56]              48\n",
      "InvertedResidualBlock-16           [-1, 24, 56, 56]               0\n",
      "           Conv2d-17          [-1, 144, 56, 56]           3,456\n",
      "      BatchNorm2d-18          [-1, 144, 56, 56]             288\n",
      "            ReLU6-19          [-1, 144, 56, 56]               0\n",
      "           Conv2d-20          [-1, 144, 56, 56]           1,296\n",
      "           Conv2d-21           [-1, 24, 56, 56]           3,456\n",
      "      BatchNorm2d-22           [-1, 24, 56, 56]              48\n",
      "InvertedResidualBlock-23           [-1, 24, 56, 56]               0\n",
      "           Conv2d-24          [-1, 144, 56, 56]           3,456\n",
      "      BatchNorm2d-25          [-1, 144, 56, 56]             288\n",
      "            ReLU6-26          [-1, 144, 56, 56]               0\n",
      "           Conv2d-27          [-1, 144, 28, 28]           1,296\n",
      "           Conv2d-28           [-1, 32, 28, 28]           4,608\n",
      "      BatchNorm2d-29           [-1, 32, 28, 28]              64\n",
      "InvertedResidualBlock-30           [-1, 32, 28, 28]               0\n",
      "           Conv2d-31          [-1, 192, 28, 28]           6,144\n",
      "      BatchNorm2d-32          [-1, 192, 28, 28]             384\n",
      "            ReLU6-33          [-1, 192, 28, 28]               0\n",
      "           Conv2d-34          [-1, 192, 28, 28]           1,728\n",
      "           Conv2d-35           [-1, 32, 28, 28]           6,144\n",
      "      BatchNorm2d-36           [-1, 32, 28, 28]              64\n",
      "InvertedResidualBlock-37           [-1, 32, 28, 28]               0\n",
      "           Conv2d-38          [-1, 192, 28, 28]           6,144\n",
      "      BatchNorm2d-39          [-1, 192, 28, 28]             384\n",
      "            ReLU6-40          [-1, 192, 28, 28]               0\n",
      "           Conv2d-41          [-1, 192, 28, 28]           1,728\n",
      "           Conv2d-42           [-1, 32, 28, 28]           6,144\n",
      "      BatchNorm2d-43           [-1, 32, 28, 28]              64\n",
      "InvertedResidualBlock-44           [-1, 32, 28, 28]               0\n",
      "           Conv2d-45          [-1, 192, 28, 28]           6,144\n",
      "      BatchNorm2d-46          [-1, 192, 28, 28]             384\n",
      "            ReLU6-47          [-1, 192, 28, 28]               0\n",
      "           Conv2d-48          [-1, 192, 14, 14]           1,728\n",
      "           Conv2d-49           [-1, 64, 14, 14]          12,288\n",
      "      BatchNorm2d-50           [-1, 64, 14, 14]             128\n",
      "InvertedResidualBlock-51           [-1, 64, 14, 14]               0\n",
      "           Conv2d-52          [-1, 384, 14, 14]          24,576\n",
      "      BatchNorm2d-53          [-1, 384, 14, 14]             768\n",
      "            ReLU6-54          [-1, 384, 14, 14]               0\n",
      "           Conv2d-55          [-1, 384, 14, 14]           3,456\n",
      "           Conv2d-56           [-1, 64, 14, 14]          24,576\n",
      "      BatchNorm2d-57           [-1, 64, 14, 14]             128\n",
      "InvertedResidualBlock-58           [-1, 64, 14, 14]               0\n",
      "           Conv2d-59          [-1, 384, 14, 14]          24,576\n",
      "      BatchNorm2d-60          [-1, 384, 14, 14]             768\n",
      "            ReLU6-61          [-1, 384, 14, 14]               0\n",
      "           Conv2d-62          [-1, 384, 14, 14]           3,456\n",
      "           Conv2d-63           [-1, 64, 14, 14]          24,576\n",
      "      BatchNorm2d-64           [-1, 64, 14, 14]             128\n",
      "InvertedResidualBlock-65           [-1, 64, 14, 14]               0\n",
      "           Conv2d-66          [-1, 384, 14, 14]          24,576\n",
      "      BatchNorm2d-67          [-1, 384, 14, 14]             768\n",
      "            ReLU6-68          [-1, 384, 14, 14]               0\n",
      "           Conv2d-69          [-1, 384, 14, 14]           3,456\n",
      "           Conv2d-70           [-1, 64, 14, 14]          24,576\n",
      "      BatchNorm2d-71           [-1, 64, 14, 14]             128\n",
      "InvertedResidualBlock-72           [-1, 64, 14, 14]               0\n",
      "           Conv2d-73          [-1, 384, 14, 14]          24,576\n",
      "      BatchNorm2d-74          [-1, 384, 14, 14]             768\n",
      "            ReLU6-75          [-1, 384, 14, 14]               0\n",
      "           Conv2d-76          [-1, 384, 14, 14]           3,456\n",
      "           Conv2d-77           [-1, 96, 14, 14]          36,864\n",
      "      BatchNorm2d-78           [-1, 96, 14, 14]             192\n",
      "InvertedResidualBlock-79           [-1, 96, 14, 14]               0\n",
      "           Conv2d-80          [-1, 576, 14, 14]          55,296\n",
      "      BatchNorm2d-81          [-1, 576, 14, 14]           1,152\n",
      "            ReLU6-82          [-1, 576, 14, 14]               0\n",
      "           Conv2d-83          [-1, 576, 14, 14]           5,184\n",
      "           Conv2d-84           [-1, 96, 14, 14]          55,296\n",
      "      BatchNorm2d-85           [-1, 96, 14, 14]             192\n",
      "InvertedResidualBlock-86           [-1, 96, 14, 14]               0\n",
      "           Conv2d-87          [-1, 576, 14, 14]          55,296\n",
      "      BatchNorm2d-88          [-1, 576, 14, 14]           1,152\n",
      "            ReLU6-89          [-1, 576, 14, 14]               0\n",
      "           Conv2d-90          [-1, 576, 14, 14]           5,184\n",
      "           Conv2d-91           [-1, 96, 14, 14]          55,296\n",
      "      BatchNorm2d-92           [-1, 96, 14, 14]             192\n",
      "InvertedResidualBlock-93           [-1, 96, 14, 14]               0\n",
      "           Conv2d-94          [-1, 576, 14, 14]          55,296\n",
      "      BatchNorm2d-95          [-1, 576, 14, 14]           1,152\n",
      "            ReLU6-96          [-1, 576, 14, 14]               0\n",
      "           Conv2d-97            [-1, 576, 7, 7]           5,184\n",
      "           Conv2d-98            [-1, 160, 7, 7]          92,160\n",
      "      BatchNorm2d-99            [-1, 160, 7, 7]             320\n",
      "InvertedResidualBlock-100            [-1, 160, 7, 7]               0\n",
      "          Conv2d-101            [-1, 960, 7, 7]         153,600\n",
      "     BatchNorm2d-102            [-1, 960, 7, 7]           1,920\n",
      "           ReLU6-103            [-1, 960, 7, 7]               0\n",
      "          Conv2d-104            [-1, 960, 7, 7]           8,640\n",
      "          Conv2d-105            [-1, 160, 7, 7]         153,600\n",
      "     BatchNorm2d-106            [-1, 160, 7, 7]             320\n",
      "InvertedResidualBlock-107            [-1, 160, 7, 7]               0\n",
      "          Conv2d-108            [-1, 960, 7, 7]         153,600\n",
      "     BatchNorm2d-109            [-1, 960, 7, 7]           1,920\n",
      "           ReLU6-110            [-1, 960, 7, 7]               0\n",
      "          Conv2d-111            [-1, 960, 7, 7]           8,640\n",
      "          Conv2d-112            [-1, 160, 7, 7]         153,600\n",
      "     BatchNorm2d-113            [-1, 160, 7, 7]             320\n",
      "InvertedResidualBlock-114            [-1, 160, 7, 7]               0\n",
      "          Conv2d-115            [-1, 960, 7, 7]         153,600\n",
      "     BatchNorm2d-116            [-1, 960, 7, 7]           1,920\n",
      "           ReLU6-117            [-1, 960, 7, 7]               0\n",
      "          Conv2d-118            [-1, 960, 7, 7]           8,640\n",
      "          Conv2d-119            [-1, 320, 7, 7]         307,200\n",
      "     BatchNorm2d-120            [-1, 320, 7, 7]             640\n",
      "InvertedResidualBlock-121            [-1, 320, 7, 7]               0\n",
      "          Conv2d-122           [-1, 1280, 7, 7]         409,600\n",
      "     BatchNorm2d-123           [-1, 1280, 7, 7]           2,560\n",
      "           ReLU6-124           [-1, 1280, 7, 7]               0\n",
      "AdaptiveAvgPool2d-125           [-1, 1280, 1, 1]               0\n",
      "         Flatten-126                 [-1, 1280]               0\n",
      "          Linear-127                   [-1, 45]          57,645\n",
      "================================================================\n",
      "Total params: 2,267,309\n",
      "Trainable params: 2,267,309\n",
      "Non-trainable params: 0\n",
      "----------------------------------------------------------------\n",
      "Input size (MB): 0.57\n",
      "Forward/backward pass size (MB): 123.87\n",
      "Params size (MB): 8.65\n",
      "Estimated Total Size (MB): 133.09\n",
      "----------------------------------------------------------------\n"
     ]
    }
   ],
   "source": [
    "model = MobileNetV2(num_classes=len(classes), width_multiplier=1.0, init_weights=True)\n",
    "summary(model, input_size=(3, 224, 224), device=\"cpu\")\n",
    "model = model.to(device)"
   ]
  },
  {
   "cell_type": "code",
   "execution_count": 10,
   "metadata": {},
   "outputs": [
    {
     "name": "stderr",
     "output_type": "stream",
     "text": [
      "                                                        \r"
     ]
    },
    {
     "name": "stdout",
     "output_type": "stream",
     "text": [
      "Epoch : 0 | 300\n",
      "\tTrain Loss : 3.6098, Train Acc : 0.0727\n",
      "\tValid Loss : 3.5032, Valid Acc : 0.1003\n"
     ]
    },
    {
     "name": "stderr",
     "output_type": "stream",
     "text": [
      "                                                        \r"
     ]
    },
    {
     "name": "stdout",
     "output_type": "stream",
     "text": [
      "Epoch : 10 | 300\n",
      "\tTrain Loss : 2.8498, Train Acc : 0.2350\n",
      "\tValid Loss : 2.8371, Valid Acc : 0.2536\n"
     ]
    },
    {
     "name": "stderr",
     "output_type": "stream",
     "text": [
      "                                                        \r"
     ]
    },
    {
     "name": "stdout",
     "output_type": "stream",
     "text": [
      "Epoch : 20 | 300\n",
      "\tTrain Loss : 2.3566, Train Acc : 0.3551\n",
      "\tValid Loss : 2.1601, Valid Acc : 0.4106\n"
     ]
    },
    {
     "name": "stderr",
     "output_type": "stream",
     "text": [
      "                                                        \r"
     ]
    },
    {
     "name": "stdout",
     "output_type": "stream",
     "text": [
      "Epoch : 30 | 300\n",
      "\tTrain Loss : 2.0348, Train Acc : 0.4393\n",
      "\tValid Loss : 2.0229, Valid Acc : 0.4499\n"
     ]
    },
    {
     "name": "stderr",
     "output_type": "stream",
     "text": [
      "                                                        \r"
     ]
    },
    {
     "name": "stdout",
     "output_type": "stream",
     "text": [
      "Epoch : 40 | 300\n",
      "\tTrain Loss : 1.7962, Train Acc : 0.5013\n",
      "\tValid Loss : 1.6684, Valid Acc : 0.5501\n"
     ]
    },
    {
     "name": "stderr",
     "output_type": "stream",
     "text": [
      "                                                        \r"
     ]
    },
    {
     "name": "stdout",
     "output_type": "stream",
     "text": [
      "Epoch : 50 | 300\n",
      "\tTrain Loss : 1.5939, Train Acc : 0.5503\n",
      "\tValid Loss : 1.4287, Valid Acc : 0.5938\n"
     ]
    },
    {
     "name": "stderr",
     "output_type": "stream",
     "text": [
      "                                                        \r"
     ]
    },
    {
     "name": "stdout",
     "output_type": "stream",
     "text": [
      "Epoch : 60 | 300\n",
      "\tTrain Loss : 1.4281, Train Acc : 0.5989\n",
      "\tValid Loss : 1.3308, Valid Acc : 0.6192\n"
     ]
    },
    {
     "name": "stderr",
     "output_type": "stream",
     "text": [
      "                                                        \r"
     ]
    },
    {
     "name": "stdout",
     "output_type": "stream",
     "text": [
      "Epoch : 70 | 300\n",
      "\tTrain Loss : 1.2908, Train Acc : 0.6312\n",
      "\tValid Loss : 1.2282, Valid Acc : 0.6410\n"
     ]
    },
    {
     "name": "stderr",
     "output_type": "stream",
     "text": [
      "                                                        \r"
     ]
    },
    {
     "name": "stdout",
     "output_type": "stream",
     "text": [
      "Epoch : 80 | 300\n",
      "\tTrain Loss : 1.1830, Train Acc : 0.6621\n",
      "\tValid Loss : 1.1409, Valid Acc : 0.6897\n"
     ]
    },
    {
     "name": "stderr",
     "output_type": "stream",
     "text": [
      "                                                        \r"
     ]
    },
    {
     "name": "stdout",
     "output_type": "stream",
     "text": [
      "Epoch : 90 | 300\n",
      "\tTrain Loss : 1.1059, Train Acc : 0.6845\n",
      "\tValid Loss : 1.1043, Valid Acc : 0.6933\n"
     ]
    },
    {
     "name": "stderr",
     "output_type": "stream",
     "text": [
      "                                                        \r"
     ]
    },
    {
     "name": "stdout",
     "output_type": "stream",
     "text": [
      "Epoch : 100 | 300\n",
      "\tTrain Loss : 1.0322, Train Acc : 0.7052\n",
      "\tValid Loss : 1.0625, Valid Acc : 0.7078\n"
     ]
    },
    {
     "name": "stderr",
     "output_type": "stream",
     "text": [
      "                                                        \r"
     ]
    },
    {
     "name": "stdout",
     "output_type": "stream",
     "text": [
      "Epoch : 110 | 300\n",
      "\tTrain Loss : 0.9607, Train Acc : 0.7253\n",
      "\tValid Loss : 1.0433, Valid Acc : 0.7158\n"
     ]
    },
    {
     "name": "stderr",
     "output_type": "stream",
     "text": [
      "                                                        \r"
     ]
    },
    {
     "name": "stdout",
     "output_type": "stream",
     "text": [
      "Epoch : 120 | 300\n",
      "\tTrain Loss : 0.8888, Train Acc : 0.7403\n",
      "\tValid Loss : 1.0069, Valid Acc : 0.7289\n"
     ]
    },
    {
     "name": "stderr",
     "output_type": "stream",
     "text": [
      "                                                        \r"
     ]
    },
    {
     "name": "stdout",
     "output_type": "stream",
     "text": [
      "Epoch : 130 | 300\n",
      "\tTrain Loss : 0.8747, Train Acc : 0.7472\n",
      "\tValid Loss : 0.9989, Valid Acc : 0.7217\n"
     ]
    },
    {
     "name": "stderr",
     "output_type": "stream",
     "text": [
      "                                                        \r"
     ]
    },
    {
     "name": "stdout",
     "output_type": "stream",
     "text": [
      "Epoch : 140 | 300\n",
      "\tTrain Loss : 0.8278, Train Acc : 0.7606\n",
      "\tValid Loss : 0.9672, Valid Acc : 0.7318\n"
     ]
    },
    {
     "name": "stderr",
     "output_type": "stream",
     "text": [
      "                                                        \r"
     ]
    },
    {
     "name": "stdout",
     "output_type": "stream",
     "text": [
      "Epoch : 150 | 300\n",
      "\tTrain Loss : 0.7937, Train Acc : 0.7724\n",
      "\tValid Loss : 0.9813, Valid Acc : 0.7282\n"
     ]
    },
    {
     "name": "stderr",
     "output_type": "stream",
     "text": [
      "                                                        \r"
     ]
    },
    {
     "name": "stdout",
     "output_type": "stream",
     "text": [
      "Epoch : 160 | 300\n",
      "\tTrain Loss : 0.7831, Train Acc : 0.7758\n",
      "\tValid Loss : 0.9908, Valid Acc : 0.7391\n"
     ]
    },
    {
     "name": "stderr",
     "output_type": "stream",
     "text": [
      "                                                        "
     ]
    },
    {
     "name": "stdout",
     "output_type": "stream",
     "text": [
      "Early stopping triggered after epoch 166 due to no improvement in validation loss\n"
     ]
    },
    {
     "name": "stderr",
     "output_type": "stream",
     "text": [
      "\r"
     ]
    }
   ],
   "source": [
    "criterion = nn.CrossEntropyLoss()\n",
    "optimizer = torch.optim.Adam(model.parameters(), lr=learning_rate, weight_decay=weight_decay)\n",
    "scheduler = LambdaLR(optimizer, lr_lambda)\n",
    "\n",
    "lrs = []\n",
    "train_costs, train_accs = [], []\n",
    "valid_costs, valid_accs = [], []\n",
    "best_valid_cost = float('inf')\n",
    "for epoch in range(epochs):\n",
    "    train_cost, train_acc = train(model, train_dataloder, criterion, optimizer, device)\n",
    "    valid_cost, valid_acc = valid(model, valid_dataloader, criterion, device)\n",
    "\n",
    "    if epoch % 10 == 0 or epoch == epochs:\n",
    "        print(f\"Epoch : {epoch} | {epochs}\")\n",
    "        print(f\"\\tTrain Loss : {train_cost:.4f}, Train Acc : {train_acc:.4f}\")\n",
    "        print(f\"\\tValid Loss : {valid_cost:.4f}, Valid Acc : {valid_acc:.4f}\")\n",
    "\n",
    "    train_costs.append(train_cost)\n",
    "    valid_costs.append(valid_cost)\n",
    "    train_accs.append(train_acc)\n",
    "    valid_accs.append(valid_acc)\n",
    "    \n",
    "    lrs.append(optimizer.param_groups[0]['lr'])\n",
    "    scheduler.step()\n",
    "\n",
    "    ## Early Stopping\n",
    "    if valid_cost < best_valid_cost:\n",
    "        best_valid_cost = valid_cost\n",
    "        early_stop_counter = 0\n",
    "    else:\n",
    "        early_stop_counter += 1\n",
    "    \n",
    "    if early_stop_counter >= early_stop_patience:\n",
    "        print(f\"Early stopping triggered after epoch {epoch} due to no improvement in validation loss\")\n",
    "        break  # Break out of the loop to stop training"
   ]
  },
  {
   "cell_type": "code",
   "execution_count": 14,
   "metadata": {},
   "outputs": [
    {
     "data": {
      "image/png": "[encoded data removed]",
      "text/plain": [
       "<Figure size 1000x500 with 1 Axes>"
      ]
     },
     "metadata": {},
     "output_type": "display_data"
    }
   ],
   "source": [
    "plt.figure(figsize=(10, 5))\n",
    "plt.plot(train_costs, label='Training cost')\n",
    "plt.plot(valid_costs, label='Validation cost')\n",
    "plt.xlabel('Epochs')\n",
    "plt.ylabel('Cost')\n",
    "plt.legend()\n",
    "plt.title('MobileNetV2 Cost')\n",
    "plt.show()"
   ]
  },
  {
   "cell_type": "code",
   "execution_count": 15,
   "metadata": {},
   "outputs": [
    {
     "data": {
      "image/png": "[encoded data removed]",
      "text/plain": [
       "<Figure size 1000x500 with 1 Axes>"
      ]
     },
     "metadata": {},
     "output_type": "display_data"
    }
   ],
   "source": [
    "plt.figure(figsize=(10, 5))\n",
    "plt.plot(train_accs, label='Training accs')\n",
    "plt.plot(valid_accs, label='Validation accs')\n",
    "plt.xlabel('Epochs')\n",
    "plt.ylabel('Accuracy')\n",
    "plt.legend()\n",
    "plt.title('MobileNetV2 Accuracy')\n",
    "plt.show()"
   ]
  },
  {
   "cell_type": "code",
   "execution_count": 13,
   "metadata": {},
   "outputs": [
    {
     "data": {
      "image/png": "[encoded data removed]",
      "text/plain": [
       "<Figure size 1000x400 with 1 Axes>"
      ]
     },
     "metadata": {},
     "output_type": "display_data"
    }
   ],
   "source": [
    "plt.figure(figsize=(10, 4))\n",
    "plt.plot(lrs, label='Learning Rate')\n",
    "plt.xlabel('Epoch')\n",
    "plt.ylabel('Learning Rate')\n",
    "plt.title('Learning Rate vs. Epoch')\n",
    "plt.legend()\n",
    "plt.grid(True)\n",
    "plt.show()"
   ]
  }
 ],
 "metadata": {
  "kernelspec": {
   "display_name": "openmmlab",
   "language": "python",
   "name": "python3"
  },
  "language_info": {
   "codemirror_mode": {
    "name": "ipython",
    "version": 3
   },
   "file_extension": ".py",
   "mimetype": "text/x-python",
   "name": "python",
   "nbconvert_exporter": "python",
   "pygments_lexer": "ipython3",
   "version": "3.10.13"
  }
 },
 "nbformat": 4,
 "nbformat_minor": 2
}
