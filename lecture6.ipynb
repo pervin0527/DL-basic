{
  "nbformat": 4,
  "nbformat_minor": 0,
  "metadata": {
    "colab": {
      "provenance": []
    },
    "kernelspec": {
      "name": "python3",
      "display_name": "Python 3"
    },
    "language_info": {
      "name": "python"
    }
  },
  "cells": [
    {
      "cell_type": "markdown",
      "source": [
        "# Pooling layer\n",
        "\n",
        "poolimg layer도 convolution layer와 마찬가지로 window를 사용한다.  \n",
        "각각의 window를 입력 받아서, 스칼라값 1개를 반환하는 공통적인 과정을 따르지만,  \n",
        "pooling layer는 parametric function이 아니기 때문에 trainable variables가 존재하지 않는다.\n",
        "\n",
        "따라서 pooling layer는 kernel size는 조절할 수 있으므로, output width, height는 변경될 수 있지만, output channel은 변경되지 않는다.\n",
        "\n",
        "<img src=\"https://drive.google.com/uc?export=download&id=1N79DcioU7sm_zmOs4VF0Fxn5qoaZYJuA\">"
      ],
      "metadata": {
        "id": "5-Q93zedvjKf"
      }
    },
    {
      "cell_type": "markdown",
      "source": [
        "## Max Pooling\n",
        "- window 하나를 입력 받았을 때 window 내 가장 큰 값을 반환.\n",
        "<img src=\"https://drive.google.com/uc?export=download&id=1Zufap2KTQlXe9dc6C3KHxX0WDKwHHexC\">\n",
        "<img src=\"https://drive.google.com/uc?export=download&id=1yPfyaG9SDJOrFsubCIOb84tQYJshKjq7\">"
      ],
      "metadata": {
        "id": "c8f3pG6GwI7u"
      }
    },
    {
      "cell_type": "code",
      "execution_count": 18,
      "metadata": {
        "colab": {
          "base_uri": "https://localhost:8080/"
        },
        "id": "t-WiLXZ-vim9",
        "outputId": "b4130e40-3cb4-49ea-e536-343886d16e42"
      },
      "outputs": [
        {
          "output_type": "stream",
          "name": "stdout",
          "text": [
            "x : (1, 10, 1) \n",
            " [-0.68349886  1.305584    2.2610402   0.8295401  -0.47838667  1.3882288\n",
            "  1.7774001   0.00688423  0.45826152  2.072572  ]\n",
            "max pool : (1, 9, 1) \n",
            " [1.305584   2.2610402  2.2610402  0.8295401  1.3882288  1.7774001\n",
            " 1.7774001  0.45826152 2.072572  ]\n",
            "max pool man : (9,) \n",
            " [1.30558395 2.26104021 2.26104021 0.82954007 1.38822877 1.77740014\n",
            " 1.77740014 0.45826152 2.07257199]\n"
          ]
        }
      ],
      "source": [
        "import numpy as np\n",
        "import tensorflow as tf\n",
        "from tensorflow.keras.layers import MaxPooling1D\n",
        "\n",
        "length, pool_size, stride_size = 10, 2, 1 ## pool size == kerenl size == window size\n",
        "\n",
        "x = tf.random.normal(shape=(1, length, 1))\n",
        "max_pool = MaxPooling1D(pool_size=pool_size, strides=stride_size)\n",
        "max_pool_result = max_pool(x)\n",
        "\n",
        "print(f\"x : {x.shape} \\n {x.numpy().flatten()}\")\n",
        "print(f\"max pool : {max_pool_result.shape} \\n {max_pool_result.numpy().flatten()}\")\n",
        "\n",
        "x = x.numpy().flatten()\n",
        "max_pool_man = np.zeros((length - pool_size + 1, ))\n",
        "\n",
        "for i in range(length - pool_size + 1):\n",
        "    window = x[i : i + pool_size]\n",
        "    max_pool_man[i] = np.max(window)\n",
        "\n",
        "print(f\"max pool man : {max_pool_man.shape} \\n {max_pool_man}\")"
      ]
    },
    {
      "cell_type": "markdown",
      "source": [
        "<img src=\"https://drive.google.com/uc?export=download&id=1C7RJvbcnPIg4OrnxSlnGiFBgzpVOzUcg\">"
      ],
      "metadata": {
        "id": "I-F1KVHQ5yK-"
      }
    },
    {
      "cell_type": "code",
      "source": [
        "import numpy as np\n",
        "import tensorflow as tf\n",
        "from tensorflow.keras.layers import MaxPooling2D\n",
        "\n",
        "batch_size, height, width, channel = 1, 5, 5, 1\n",
        "pool_size, stride_size = 2, 1\n",
        "\n",
        "x = tf.random.normal(shape=(batch_size, height, width, channel))\n",
        "max_pool = MaxPooling2D(pool_size=pool_size, strides=stride_size)\n",
        "max_pool_result = max_pool(x)\n",
        "\n",
        "print(f\"x : {x.shape} \\n {x.numpy().squeeze()}\")\n",
        "print(f\"max pool : {max_pool_result.shape} \\n {max_pool_result.numpy().squeeze()}\")\n",
        "\n",
        "x = x.numpy().squeeze()\n",
        "max_pool_man = np.zeros(shape=(height - pool_size + 1, width - pool_size + 1))\n",
        "\n",
        "for i in range(height - pool_size + 1):\n",
        "    for j in range(width - pool_size + 1):\n",
        "        window = x[i : i + pool_size, j : j + pool_size]\n",
        "        max_pool_man[i, j] = np.max(window)\n",
        "\n",
        "print(f\"max pool man : {max_pool_man.shape} \\n {max_pool_man}\")"
      ],
      "metadata": {
        "colab": {
          "base_uri": "https://localhost:8080/"
        },
        "id": "Fmer2Rda8GZW",
        "outputId": "69ad6eda-c059-4428-a263-f177eac27cd3"
      },
      "execution_count": 22,
      "outputs": [
        {
          "output_type": "stream",
          "name": "stdout",
          "text": [
            "x : (1, 5, 5, 1) \n",
            " [[ 0.29876623  0.08956876 -0.53955877  1.8348997   1.1798214 ]\n",
            " [-0.07327607 -0.4909184  -1.0917349   0.43457046 -0.6985561 ]\n",
            " [-2.436393    0.94743615 -0.5801928  -0.8912289   0.10676233]\n",
            " [ 0.9996686  -1.2021161  -0.7263716   0.48347196 -1.2731029 ]\n",
            " [-0.5753538   0.6558529  -0.41290507 -0.8830075  -0.10903361]]\n",
            "max pool : (1, 4, 4, 1) \n",
            " [[0.29876623 0.08956876 1.8348997  1.8348997 ]\n",
            " [0.94743615 0.94743615 0.43457046 0.43457046]\n",
            " [0.9996686  0.94743615 0.48347196 0.48347196]\n",
            " [0.9996686  0.6558529  0.48347196 0.48347196]]\n",
            "max pool man : (4, 4) \n",
            " [[0.29876623 0.08956876 1.83489966 1.83489966]\n",
            " [0.94743615 0.94743615 0.43457046 0.43457046]\n",
            " [0.9996686  0.94743615 0.48347196 0.48347196]\n",
            " [0.9996686  0.65585291 0.48347196 0.48347196]]\n"
          ]
        }
      ]
    },
    {
      "cell_type": "markdown",
      "source": [
        "<img src=\"https://drive.google.com/uc?export=download&id=1LovxPfWCd_hp12Eewa54-_-DAs1Z_GNw\">"
      ],
      "metadata": {
        "id": "_KXNmvrH9YyS"
      }
    },
    {
      "cell_type": "markdown",
      "source": [
        "## Average Pooling\n",
        "- window 하나를 입력 받았을 때 window를 구성하는 값들의 평균을 반환.\n",
        "<img src=\"https://drive.google.com/uc?export=download&id=1PtURTI_Q6usTF8AhYuuAmSe8ri8rIK1f\">\n",
        "<img src=\"https://drive.google.com/uc?export=download&id=1eR10dcmFhHOWxHKy55II4B3YzOwXMVOz\">"
      ],
      "metadata": {
        "id": "bu-ln7KV6vqC"
      }
    },
    {
      "cell_type": "code",
      "source": [
        "import numpy as np\n",
        "import tensorflow as tf\n",
        "from tensorflow.keras.layers import AveragePooling1D\n",
        "\n",
        "length, pool_size, stride_size = 10, 2, 1\n",
        "\n",
        "x = tf.random.normal(shape=(1, 10, 1))\n",
        "avg_pool = AveragePooling1D(pool_size=pool_size, strides=stride_size)\n",
        "avg_pool_result = avg_pool(x)\n",
        "\n",
        "print(f\"x : {x.shape} \\n {x.numpy().flatten()}\")\n",
        "print(f\"avg pool result : {avg_pool_result.shape} \\n {avg_pool_result.numpy().flatten()}\")\n",
        "\n",
        "x = x.numpy().flatten()\n",
        "avg_pool_man = np.zeros((length - pool_size + 1, ))\n",
        "\n",
        "for i in range(length - pool_size + 1):\n",
        "    window = x[i : i + pool_size]\n",
        "    avg_pool_man[i] = np.mean(window)\n",
        "\n",
        "print(f\"max pool man : {avg_pool_man.shape} \\n {avg_pool_man}\")"
      ],
      "metadata": {
        "colab": {
          "base_uri": "https://localhost:8080/"
        },
        "id": "cV3EIztr7AKa",
        "outputId": "3a57a06f-b15c-49d4-9c79-1a1ec8fb57af"
      },
      "execution_count": 19,
      "outputs": [
        {
          "output_type": "stream",
          "name": "stdout",
          "text": [
            "x : (1, 10, 1) \n",
            " [ 0.743405    2.3476193   0.65405184  0.16132373  0.578248   -0.3698631\n",
            "  0.5546174   0.41022968  1.0748163  -0.54124904]\n",
            "avg pool result : (1, 9, 1) \n",
            " [1.5455122  1.5008355  0.40768778 0.36978588 0.10419247 0.09237716\n",
            " 0.48242354 0.742523   0.26678365]\n",
            "max pool man : (9,) \n",
            " [1.5455122  1.50083554 0.40768778 0.36978588 0.10419247 0.09237716\n",
            " 0.48242354 0.74252301 0.26678365]\n"
          ]
        }
      ]
    },
    {
      "cell_type": "code",
      "source": [
        "import numpy as np\n",
        "import tensorflow as tf\n",
        "from tensorflow.keras.layers import AveragePooling2D\n",
        "\n",
        "batch_size, height, width, channel = 1, 5, 5, 1\n",
        "pool_size, stride_size = 2, 1\n",
        "\n",
        "x = tf.random.normal(shape=(batch_size, height, width, channel))\n",
        "avg_pool = AveragePooling2D(pool_size=pool_size, strides=stride_size)\n",
        "avg_pool_result = avg_pool(x)\n",
        "\n",
        "print(f\"x : {x.shape} \\n {x.numpy().squeeze()}\")\n",
        "print(f\"avg pool : {avg_pool_result.shape} \\n {avg_pool_result.numpy().squeeze()}\")\n",
        "\n",
        "x = x.numpy().squeeze()\n",
        "avg_pool_man = np.zeros(shape=(height - pool_size + 1, width - pool_size + 1))\n",
        "\n",
        "for i in range(height - pool_size + 1):\n",
        "    for j in range(width - pool_size + 1):\n",
        "        window = x[i : i + pool_size, j : j + pool_size]\n",
        "        avg_pool_man[i, j] = np.mean(window)\n",
        "\n",
        "print(f\"avg pool man : {avg_pool_man.shape} \\n {avg_pool_man}\")"
      ],
      "metadata": {
        "colab": {
          "base_uri": "https://localhost:8080/"
        },
        "id": "8CwiNTP9-Q3C",
        "outputId": "8ace8276-b201-4f7a-b03c-461f29890dad"
      },
      "execution_count": 25,
      "outputs": [
        {
          "output_type": "stream",
          "name": "stdout",
          "text": [
            "x : (1, 5, 5, 1) \n",
            " [[-2.1611698  -0.51548445 -0.07099419 -0.4175063   0.24553949]\n",
            " [ 1.8305556   2.2083185  -0.09806929 -2.1073744   0.23733938]\n",
            " [-2.0840957   1.3120102   0.61525637 -1.1895685  -1.1510969 ]\n",
            " [-1.5781757   0.3245472   1.2692059  -0.24456938 -0.9696275 ]\n",
            " [-1.0569237  -0.7496891   0.36730677 -1.4517233  -0.43737757]]\n",
            "avg pool : (1, 4, 4, 1) \n",
            " [[ 0.34055492  0.3809426  -0.67348605 -0.51050043]\n",
            " [ 0.8166971   1.0093789  -0.69493896 -1.0526751 ]\n",
            " [-0.5064285   0.880255    0.1125811  -0.8887155 ]\n",
            " [-0.7650603   0.30284268 -0.01494503 -0.7758244 ]]\n",
            "avg pool man : (4, 4) \n",
            " [[ 0.34055492  0.38094261 -0.67348605 -0.51050043]\n",
            " [ 0.81669712  1.00937891 -0.69493896 -1.05267513]\n",
            " [-0.50642848  0.88025498  0.1125811  -0.88871551]\n",
            " [-0.76506031  0.30284268 -0.01494503 -0.77582443]]\n"
          ]
        }
      ]
    },
    {
      "cell_type": "markdown",
      "source": [
        "# 3D Max Pooling"
      ],
      "metadata": {
        "id": "25pArqBq_PDb"
      }
    },
    {
      "cell_type": "code",
      "source": [
        "import math\n",
        "import numpy as np\n",
        "import tensorflow as tf\n",
        "from tensorflow.keras.layers import MaxPooling2D\n",
        "\n",
        "batch_size, height, width, channel = 1, 5, 5, 3\n",
        "pool_size, stride_size = 2, 2\n",
        "\n",
        "x = tf.random.normal(shape=(batch_size, height, width, channel))\n",
        "print(f\"x : {x.shape} \\n {np.transpose(x.numpy().squeeze(), (2, 0, 1))} \\n\")\n",
        "\n",
        "max_pool = MaxPooling2D(pool_size=pool_size, strides=stride_size)\n",
        "max_pool_res = max_pool(x)\n",
        "max_pool_res_t = np.transpose(max_pool_res.numpy().squeeze(), (2, 0, 1))\n",
        "print(f\"max pool res : {max_pool_res.shape} \\n {max_pool_res_t} \\n\")\n",
        "\n",
        "## manual\n",
        "x = x.numpy().squeeze()\n",
        "output_h = math.floor((height - pool_size) / stride_size + 1)\n",
        "output_w = math.floor((width - pool_size) / stride_size + 1)\n",
        "\n",
        "max_pool_man = np.zeros(shape=(output_h, output_w, channel))\n",
        "print(max_pool_man.shape)\n",
        "\n",
        "for c in range(channel):\n",
        "    channel_wise_image = x[:, :, c]\n",
        "\n",
        "    output_h_idx = 0\n",
        "    for i in range(0, height - pool_size + 1 , stride_size):\n",
        "        output_w_idx = 0\n",
        "        for j in range(0, width - pool_size + 1, stride_size):\n",
        "            window = channel_wise_image[i : i + pool_size, j : j + pool_size]\n",
        "            max_pool_man[output_h_idx, output_w_idx, c] = np.max(window)\n",
        "\n",
        "            output_w_idx += 1\n",
        "        output_h_idx += 1\n",
        "\n",
        "max_pool_man_t = np.transpose(max_pool_man, (2, 0, 1))\n",
        "print(f\"max pool man : {max_pool_man.shape} \\n {max_pool_man_t} \\n\")"
      ],
      "metadata": {
        "colab": {
          "base_uri": "https://localhost:8080/"
        },
        "id": "BvHWjXuq_THb",
        "outputId": "9e90314e-c9a9-474b-bf9c-4cb9f6b14d7b"
      },
      "execution_count": 32,
      "outputs": [
        {
          "output_type": "stream",
          "name": "stdout",
          "text": [
            "x : (1, 5, 5, 3) \n",
            " [[[-3.0288169e-01  7.1048111e-01 -6.8289191e-01 -1.7351162e-03\n",
            "    1.2299787e+00]\n",
            "  [ 6.6076475e-01 -6.7121464e-01  2.2229923e-01 -1.1881748e+00\n",
            "    1.6155370e-01]\n",
            "  [ 6.1143678e-01 -1.1685474e+00  4.8836237e-01  2.0294955e+00\n",
            "    5.5878448e-01]\n",
            "  [ 2.0791809e-01 -7.0637757e-01  7.1488136e-01 -6.8435210e-01\n",
            "    1.4325621e+00]\n",
            "  [ 1.5581002e+00  7.6458973e-01 -6.4286041e-01  1.6585649e+00\n",
            "   -1.7120950e+00]]\n",
            "\n",
            " [[ 1.9516692e+00 -9.9120229e-01  3.8803726e-01  6.6705167e-01\n",
            "   -4.8017975e-02]\n",
            "  [-3.3720720e-01  7.5360060e-02  8.0209762e-01  4.3641552e-01\n",
            "    8.6056674e-01]\n",
            "  [ 5.9209877e-01  9.3361336e-01  1.0852723e+00  1.6602403e+00\n",
            "    3.5549924e-01]\n",
            "  [ 4.8756433e-01 -1.1295215e+00  3.3114809e-01  4.6855071e-01\n",
            "    1.6005898e-01]\n",
            "  [-9.4297844e-01  1.3365234e+00 -5.6156272e-01 -1.8240536e+00\n",
            "    6.4046316e-02]]\n",
            "\n",
            " [[-4.5329773e-01  4.8455065e-01 -2.6327735e-01  1.6517701e+00\n",
            "    6.2191194e-01]\n",
            "  [-4.4894582e-01 -1.3164313e+00  8.7088442e-01  1.2297894e+00\n",
            "   -1.4651285e+00]\n",
            "  [ 1.5776476e-01 -1.6214857e-01 -8.3449811e-01 -1.6395000e-01\n",
            "    9.3927985e-01]\n",
            "  [ 1.8342767e+00 -2.7433537e-02 -1.8177280e+00 -4.5459771e-01\n",
            "   -3.6888633e-02]\n",
            "  [-1.2715726e+00  1.3758609e-01  5.1124513e-01  1.3943230e-01\n",
            "   -9.5100760e-01]]] \n",
            "\n",
            "max pool res : (1, 2, 2, 3) \n",
            " [[[ 0.7104811   0.22229923]\n",
            "  [ 0.6114368   2.0294955 ]]\n",
            "\n",
            " [[ 1.9516692   0.8020976 ]\n",
            "  [ 0.93361336  1.6602403 ]]\n",
            "\n",
            " [[ 0.48455065  1.6517701 ]\n",
            "  [ 1.8342767  -0.16395   ]]] \n",
            "\n",
            "(2, 2, 3)\n",
            "max pool man : (2, 2, 3) \n",
            " [[[ 0.71048111  0.22229923]\n",
            "  [ 0.61143678  2.02949548]]\n",
            "\n",
            " [[ 1.95166922  0.80209762]\n",
            "  [ 0.93361336  1.66024029]]\n",
            "\n",
            " [[ 0.48455065  1.65177011]\n",
            "  [ 1.83427668 -0.16395   ]]] \n",
            "\n"
          ]
        }
      ]
    },
    {
      "cell_type": "markdown",
      "source": [
        "# Padding & Stride\n",
        "\n",
        "## Padding\n",
        "<img src=\"https://drive.google.com/uc?export=download&id=1ybCQoMnO5p491sCX2DIt91gQshUNVVHg\">\n",
        "\n",
        "padding은 input matrix의 상하좌우에 임의의 값을 채워 넣는다.  \n",
        "임의의 값이 0인 경우 Zero Padding이라 부른다. padding을 활용하게 되면, input matrix의 height, width가 축소되는 것을 방지할 수 있다.\n"
      ],
      "metadata": {
        "id": "7KDz0Hot1HkR"
      }
    },
    {
      "cell_type": "code",
      "source": [
        "import numpy as np\n",
        "import tensorflow as tf\n",
        "from tensorflow.keras.layers import ZeroPadding2D\n",
        "\n",
        "images = tf.random.normal(shape=(1, 3, 3, 3))\n",
        "print(f\"{images.shape}, \\n {np.transpose(images.numpy().squeeze(), (2, 0, 1))} \\n\")\n",
        "\n",
        "zero_padding = ZeroPadding2D(padding=1)\n",
        "y = zero_padding(images)\n",
        "\n",
        "print(f\"{y.shape}, \\n {np.transpose(y.numpy().squeeze(), (2, 0, 1))} \\n\")"
      ],
      "metadata": {
        "colab": {
          "base_uri": "https://localhost:8080/"
        },
        "id": "eodhHYVOCkhi",
        "outputId": "dd608cce-b537-4944-9ff6-52639e115aeb"
      },
      "execution_count": 39,
      "outputs": [
        {
          "output_type": "stream",
          "name": "stdout",
          "text": [
            "(1, 3, 3, 3), \n",
            " [[[ 0.8135044   0.20869654  0.4816115 ]\n",
            "  [ 0.6977878   1.3473682  -0.3526834 ]\n",
            "  [-0.04260129  0.56243557  0.7619692 ]]\n",
            "\n",
            " [[ 0.05884744  1.2597454  -1.3198833 ]\n",
            "  [-1.1324186  -0.23229803 -1.3074014 ]\n",
            "  [ 0.37302533 -0.5315992  -1.4521135 ]]\n",
            "\n",
            " [[-0.40404016 -0.00959151  0.07750543]\n",
            "  [-0.7490735  -0.3678272  -0.38545704]\n",
            "  [ 1.9384537   0.20551112  0.228409  ]]] \n",
            "\n",
            "(1, 5, 5, 3), \n",
            " [[[ 0.          0.          0.          0.          0.        ]\n",
            "  [ 0.          0.8135044   0.20869654  0.4816115   0.        ]\n",
            "  [ 0.          0.6977878   1.3473682  -0.3526834   0.        ]\n",
            "  [ 0.         -0.04260129  0.56243557  0.7619692   0.        ]\n",
            "  [ 0.          0.          0.          0.          0.        ]]\n",
            "\n",
            " [[ 0.          0.          0.          0.          0.        ]\n",
            "  [ 0.          0.05884744  1.2597454  -1.3198833   0.        ]\n",
            "  [ 0.         -1.1324186  -0.23229803 -1.3074014   0.        ]\n",
            "  [ 0.          0.37302533 -0.5315992  -1.4521135   0.        ]\n",
            "  [ 0.          0.          0.          0.          0.        ]]\n",
            "\n",
            " [[ 0.          0.          0.          0.          0.        ]\n",
            "  [ 0.         -0.40404016 -0.00959151  0.07750543  0.        ]\n",
            "  [ 0.         -0.7490735  -0.3678272  -0.38545704  0.        ]\n",
            "  [ 0.          1.9384537   0.20551112  0.228409    0.        ]\n",
            "  [ 0.          0.          0.          0.          0.        ]]] \n",
            "\n"
          ]
        }
      ]
    },
    {
      "cell_type": "code",
      "source": [
        "import tensorflow as tf\n",
        "from tensorflow.keras.layers import Conv2D\n",
        "\n",
        "images = tf.random.normal(shape=(1, 28, 28, 3))\n",
        "conv = Conv2D(filters=1, kernel_size=3, padding=\"same\")\n",
        "y = conv(images)\n",
        "\n",
        "print(y.shape)"
      ],
      "metadata": {
        "colab": {
          "base_uri": "https://localhost:8080/"
        },
        "id": "FTO5rqf4D4Pz",
        "outputId": "c4136614-2544-44d0-c929-7f5a6e34e46d"
      },
      "execution_count": 43,
      "outputs": [
        {
          "output_type": "stream",
          "name": "stdout",
          "text": [
            "(1, 28, 28, 1)\n"
          ]
        }
      ]
    },
    {
      "cell_type": "markdown",
      "source": [
        "## Stride\n",
        "<img src=\"https://drive.google.com/uc?export=download&id=1WuVTuFLhmBv-OwHrm0ODQnLQ2cdsxXa_\">\n",
        "\n",
        "stride는 window가 input matrix를 순회할때의 step을 뜻한다.  \n",
        "1칸씩 이동하며 훑어보면 stride = 1이고, 2칸씩 이동(건너뜀)하며 보면 stride=2. \n",
        "따라서 stride를 적용하는 경우 input height, width가 작아질 수 있다.\n"
      ],
      "metadata": {
        "id": "C4Dt2z0iChdt"
      }
    },
    {
      "cell_type": "code",
      "source": [
        "import tensorflow as tf\n",
        "from tensorflow.keras.layers import Conv2D\n",
        "\n",
        "images = tf.random.normal(shape=(1, 28, 28, 3))\n",
        "conv = Conv2D(filters=1, kernel_size=3, padding=\"valid\", strides=2)\n",
        "y = conv(images)\n",
        "\n",
        "print(y.shape)"
      ],
      "metadata": {
        "colab": {
          "base_uri": "https://localhost:8080/"
        },
        "id": "oPGUNNV3EP0a",
        "outputId": "39dc9fce-2851-4796-8014-0448fc705f30"
      },
      "execution_count": 42,
      "outputs": [
        {
          "output_type": "stream",
          "name": "stdout",
          "text": [
            "(1, 13, 13, 1)\n"
          ]
        }
      ]
    },
    {
      "cell_type": "code",
      "source": [
        "import tensorflow as tf\n",
        "from tensorflow.keras.layers import MaxPooling2D\n",
        "\n",
        "images = tf.random.normal(shape=(1, 28, 28, 3))\n",
        "conv = MaxPooling2D(pool_size=3, padding=\"valid\", strides=2)\n",
        "y = conv(images)\n",
        "\n",
        "print(y.shape)"
      ],
      "metadata": {
        "colab": {
          "base_uri": "https://localhost:8080/"
        },
        "id": "JxR1p_bZEl8E",
        "outputId": "6bdc9b22-a917-4343-8693-70b813021e52"
      },
      "execution_count": 45,
      "outputs": [
        {
          "output_type": "stream",
          "name": "stdout",
          "text": [
            "(1, 13, 13, 3)\n"
          ]
        }
      ]
    },
    {
      "cell_type": "markdown",
      "source": [
        "## input / output shape\n",
        "<img src=\"https://drive.google.com/uc?export=download&id=1A7biAFCT6RSC3MfnxRJHiixHXMAYIc3P\">"
      ],
      "metadata": {
        "id": "htzYHYQJCjMw"
      }
    },
    {
      "cell_type": "code",
      "source": [],
      "metadata": {
        "id": "ijVICYS06bOv"
      },
      "execution_count": null,
      "outputs": []
    }
  ]
}